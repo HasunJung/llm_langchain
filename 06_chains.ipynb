{
  "nbformat": 4,
  "nbformat_minor": 0,
  "metadata": {
    "colab": {
      "provenance": [],
      "toc_visible": true,
      "authorship_tag": "ABX9TyOkqHPObX7b/ZAt2eoJlhrj",
      "include_colab_link": true
    },
    "kernelspec": {
      "name": "python3",
      "display_name": "Python 3"
    },
    "language_info": {
      "name": "python"
    }
  },
  "cells": [
    {
      "cell_type": "markdown",
      "metadata": {
        "id": "view-in-github",
        "colab_type": "text"
      },
      "source": [
        "<a href=\"https://colab.research.google.com/github/HasunJung/llm_langchain/blob/main/06_chains.ipynb\" target=\"_parent\"><img src=\"https://colab.research.google.com/assets/colab-badge.svg\" alt=\"Open In Colab\"/></a>"
      ]
    },
    {
      "cell_type": "markdown",
      "source": [
        "# INSTALL"
      ],
      "metadata": {
        "id": "lhcMwKgw_Uif"
      }
    },
    {
      "cell_type": "code",
      "source": [
        "#최초 실행이라면\n",
        "!pip install -q langchain langchain-google-genai\n",
        "\n",
        "import os\n",
        "from google.colab import userdata\n",
        "os.environ['GOOGLE_API_KEY'] = userdata.get('GOOGLE_API_KEY')\n",
        "\n",
        "from langchain_google_genai import ChatGoogleGenerativeAI\n",
        "from langchain.prompts import PromptTemplate\n",
        "\n",
        "# ChatGoogleGenerativeAI 언어 모델을 \"gemini-pro\" 모델로 초기화합니다.\n",
        "llm = ChatGoogleGenerativeAI(model=\"gemini-pro\", temperature=0)"
      ],
      "metadata": {
        "colab": {
          "base_uri": "https://localhost:8080/"
        },
        "id": "MyyXlAZ3_YCu",
        "outputId": "bf57b26f-ff37-4f71-d5ee-bc09ad0b15e6"
      },
      "execution_count": 1,
      "outputs": [
        {
          "output_type": "stream",
          "name": "stdout",
          "text": [
            "\u001b[2K     \u001b[90m━━━━━━━━━━━━━━━━━━━━━━━━━━━━━━━━━━━━━━━━\u001b[0m \u001b[32m817.7/817.7 kB\u001b[0m \u001b[31m7.7 MB/s\u001b[0m eta \u001b[36m0:00:00\u001b[0m\n",
            "\u001b[2K     \u001b[90m━━━━━━━━━━━━━━━━━━━━━━━━━━━━━━━━━━━━━━━━\u001b[0m \u001b[32m1.9/1.9 MB\u001b[0m \u001b[31m18.3 MB/s\u001b[0m eta \u001b[36m0:00:00\u001b[0m\n",
            "\u001b[2K     \u001b[90m━━━━━━━━━━━━━━━━━━━━━━━━━━━━━━━━━━━━━━━━\u001b[0m \u001b[32m291.3/291.3 kB\u001b[0m \u001b[31m14.7 MB/s\u001b[0m eta \u001b[36m0:00:00\u001b[0m\n",
            "\u001b[2K     \u001b[90m━━━━━━━━━━━━━━━━━━━━━━━━━━━━━━━━━━━━━━━━\u001b[0m \u001b[32m115.5/115.5 kB\u001b[0m \u001b[31m7.8 MB/s\u001b[0m eta \u001b[36m0:00:00\u001b[0m\n",
            "\u001b[2K     \u001b[90m━━━━━━━━━━━━━━━━━━━━━━━━━━━━━━━━━━━━━━━━\u001b[0m \u001b[32m146.8/146.8 kB\u001b[0m \u001b[31m14.2 MB/s\u001b[0m eta \u001b[36m0:00:00\u001b[0m\n",
            "\u001b[2K     \u001b[90m━━━━━━━━━━━━━━━━━━━━━━━━━━━━━━━━━━━━━━━━\u001b[0m \u001b[32m49.4/49.4 kB\u001b[0m \u001b[31m3.5 MB/s\u001b[0m eta \u001b[36m0:00:00\u001b[0m\n",
            "\u001b[2K     \u001b[90m━━━━━━━━━━━━━━━━━━━━━━━━━━━━━━━━━━━━━━━━\u001b[0m \u001b[32m664.5/664.5 kB\u001b[0m \u001b[31m18.3 MB/s\u001b[0m eta \u001b[36m0:00:00\u001b[0m\n",
            "\u001b[2K     \u001b[90m━━━━━━━━━━━━━━━━━━━━━━━━━━━━━━━━━━━━━━━━\u001b[0m \u001b[32m53.0/53.0 kB\u001b[0m \u001b[31m4.6 MB/s\u001b[0m eta \u001b[36m0:00:00\u001b[0m\n",
            "\u001b[2K     \u001b[90m━━━━━━━━━━━━━━━━━━━━━━━━━━━━━━━━━━━━━━━━\u001b[0m \u001b[32m141.1/141.1 kB\u001b[0m \u001b[31m4.2 MB/s\u001b[0m eta \u001b[36m0:00:00\u001b[0m\n",
            "\u001b[?25h"
          ]
        }
      ]
    },
    {
      "cell_type": "markdown",
      "source": [
        "# Chain"
      ],
      "metadata": {
        "id": "i92ITd7ACghZ"
      }
    },
    {
      "cell_type": "markdown",
      "source": [
        "Chains는 일련의 처리를 하나의 묶음으로 처리할 수 있는 모듈입니다.\n",
        "- 여러 모듈의 조합을 쉽게 사용할 수 있다 : 랭체인으로 어플리케이션을 만들때는 하나의 모듈만으로 원하는 기능을 구현할 수 없다. 이때 ConversationChain을 도움 받을 수 있다.\n",
        "- 특정 용도에 특화된 체인 : 언어 모델의 호출만으로는 대응하기 어려운 기능이나 복잡한 처리를 랭체인 측에서 미리 내장해 특정 용도에 특화된 Chains도 존재한다.\n",
        "- 체인 자체를 정리한다 : Chains은 기능 덩어리라고 할 수 있다. 이 덩어리를 여러개 준비해 순서대로 실행하거나 필요에 따라 호출 할 수 있도록 Chains 자체를 묶을 수 있다.\n",
        "\n",
        "\n",
        "다만 Chains는 암묵적으로 처리해 블랙박스가 되기 쉬우므로, 각 모듈이 어떤 처리를 하는지 제대로 이해할 필요가 있습니다."
      ],
      "metadata": {
        "id": "1N5aLZG9CirZ"
      }
    },
    {
      "cell_type": "markdown",
      "source": [
        "# ConversationChain"
      ],
      "metadata": {
        "id": "3aDXEEU9_06C"
      }
    },
    {
      "cell_type": "markdown",
      "source": [
        "메모리 모듈과 다른 모듈을 쉽게 조합할 수 있는 내장 모듈입니다.\n",
        "\n",
        "ConversationChain, ChatOpenAI, ConversationBufferMemory 모듈은 대화 관리 및 메모리 관리에 필요한 기능을 제공합니다.\n",
        "\n",
        "ConversationChain 클래스의 인스턴스를 생성하여 대화 관리를 수행합니다. 이때, llm은 저수준 언어 모델을, verbose는 상세한 로깅 여부를 (여기서는 비활성화), 그리고 memory는 대화 내용을 저장할 메모리 버퍼를 각각 지정합니다.\n"
      ],
      "metadata": {
        "id": "iMfagwIJV3Cc"
      }
    },
    {
      "cell_type": "code",
      "execution_count": 2,
      "metadata": {
        "id": "bdKrFexT6Sgs"
      },
      "outputs": [],
      "source": [
        "\n",
        "from langchain.chains import ConversationChain\n",
        "from langchain.memory import ConversationBufferMemory\n",
        "\n",
        "# ConversationChain 인스턴스를 생성합니다.\n",
        "# llm: 모델을 지정합니다.\n",
        "# verbose: 상세한 로깅을 비활성화합니다.\n",
        "# memory: 대화 내용을 저장하는 메모리 버퍼를 지정합니다.\n",
        "conversation = ConversationChain(\n",
        "    llm=llm,\n",
        "    verbose=False,\n",
        "    memory=ConversationBufferMemory(memory_key=\"history\"),\n",
        ")"
      ]
    },
    {
      "cell_type": "markdown",
      "source": [
        "\n",
        "conversation.predict 함수는 주어진 입력에 대한 모델의 반응을 예측하는 데 사용됩니다."
      ],
      "metadata": {
        "id": "sxPQoUpgAPG3"
      }
    },
    {
      "cell_type": "code",
      "source": [
        "conversation.invoke({\"input\": \"양자역학에 대해 설명해줘.\"})"
      ],
      "metadata": {
        "id": "yWg4l8e_6azW",
        "colab": {
          "base_uri": "https://localhost:8080/"
        },
        "outputId": "064d2473-48b4-48b0-8658-4dfd4e51dabd"
      },
      "execution_count": null,
      "outputs": [
        {
          "output_type": "execute_result",
          "data": {
            "text/plain": [
              "{'input': '양자역학에 대해 설명해줘.',\n",
              " 'history': '',\n",
              " 'response': '양자역학은 원자와 원자보다 작은 입자의 거동을 설명하는 물리학의 한 분야입니다. 20세기 초에 개발되었으며, 고전 물리학의 법칙으로는 설명할 수 없는 관찰 결과를 설명하기 위해 고안되었습니다.\\n\\n양자역학의 주요 개념 중 하나는 이중성입니다. 이중성은 입자가 입자와 파동의 특성을 모두 가질 수 있음을 의미합니다. 이는 입자가 간섭하고 회절될 수 있음을 의미하며, 이는 파동이 하는 일입니다. 그러나 입자는 또한 운동량과 에너지와 같은 입자 특성도 가지고 있습니다.\\n\\n양자역학의 또 다른 중요한 개념은 불확정성 원리입니다. 불확정성 원리는 어떤 입자의 위치와 운동량을 동시에 정확하게 알 수 없음을 의미합니다. 즉, 입자의 위치를 더 정확하게 알면 운동량에 대한 정보가 줄어들고, 반대의 경우도 마찬가지입니다.\\n\\n양자역학은 현대 물리학에서 가장 성공적인 이론 중 하나입니다. 레이저, 트랜지스터, 핵무기 등의 많은 현대 기술의 기반을 형성했습니다. 또한 양자역학은 우주의 근본적인 성질을 이해하는 데에도 사용되었습니다.'}"
            ]
          },
          "metadata": {},
          "execution_count": 3
        }
      ]
    },
    {
      "cell_type": "code",
      "source": [
        "conversation.memory.load_memory_variables({})[\"history\"]"
      ],
      "metadata": {
        "colab": {
          "base_uri": "https://localhost:8080/",
          "height": 107
        },
        "id": "92SAYjhCWTcH",
        "outputId": "fb81b6f8-0af1-47fc-9055-269dfedce434"
      },
      "execution_count": null,
      "outputs": [
        {
          "output_type": "execute_result",
          "data": {
            "text/plain": [
              "'Human: 양자역학에 대해 설명해줘.\\nAI: 양자역학은 원자와 원자보다 작은 입자의 거동을 설명하는 물리학의 한 분야입니다. 20세기 초에 개발되었으며, 고전 물리학의 법칙으로는 설명할 수 없는 관찰 결과를 설명하기 위해 고안되었습니다.\\n\\n양자역학의 주요 개념 중 하나는 이중성입니다. 이중성은 입자가 입자와 파동의 특성을 모두 가질 수 있음을 의미합니다. 이는 입자가 간섭하고 회절될 수 있음을 의미하며, 이는 파동이 하는 일입니다. 그러나 입자는 또한 운동량과 에너지와 같은 입자 특성도 가지고 있습니다.\\n\\n양자역학의 또 다른 중요한 개념은 불확정성 원리입니다. 불확정성 원리는 어떤 입자의 위치와 운동량을 동시에 정확하게 알 수 없음을 의미합니다. 즉, 입자의 위치를 더 정확하게 알면 운동량에 대한 정보가 줄어들고, 반대의 경우도 마찬가지입니다.\\n\\n양자역학은 현대 물리학에서 가장 성공적인 이론 중 하나입니다. 레이저, 트랜지스터, 핵무기 등의 많은 현대 기술의 기반을 형성했습니다. 또한 양자역학은 우주의 근본적인 성질을 이해하는 데에도 사용되었습니다.'"
            ],
            "application/vnd.google.colaboratory.intrinsic+json": {
              "type": "string"
            }
          },
          "metadata": {},
          "execution_count": 4
        }
      ]
    },
    {
      "cell_type": "code",
      "source": [
        "conversation.memory.save_context(inputs={\"human\": \"hi\"}, outputs={\"ai\": \"안녕\"})"
      ],
      "metadata": {
        "id": "bLz0nz2sWW-g"
      },
      "execution_count": null,
      "outputs": []
    },
    {
      "cell_type": "code",
      "source": [
        "conversation.memory.load_memory_variables({})[\"history\"]"
      ],
      "metadata": {
        "colab": {
          "base_uri": "https://localhost:8080/",
          "height": 107
        },
        "id": "JCJugRTAWZZ_",
        "outputId": "043fcfbc-788b-4834-be8c-4e7b66dd6519"
      },
      "execution_count": null,
      "outputs": [
        {
          "output_type": "execute_result",
          "data": {
            "text/plain": [
              "'Human: 양자역학에 대해 설명해줘.\\nAI: 양자역학은 원자와 원자보다 작은 입자의 거동을 설명하는 물리학의 한 분야입니다. 20세기 초에 개발되었으며, 고전 물리학의 법칙으로는 설명할 수 없는 관찰 결과를 설명하기 위해 고안되었습니다.\\n\\n양자역학의 주요 개념 중 하나는 이중성입니다. 이중성은 입자가 입자와 파동의 특성을 모두 가질 수 있음을 의미합니다. 이는 입자가 간섭하고 회절될 수 있음을 의미하며, 이는 파동이 하는 일입니다. 그러나 입자는 또한 운동량과 에너지와 같은 입자 특성도 가지고 있습니다.\\n\\n양자역학의 또 다른 중요한 개념은 불확정성 원리입니다. 불확정성 원리는 어떤 입자의 위치와 운동량을 동시에 정확하게 알 수 없음을 의미합니다. 즉, 입자의 위치를 더 정확하게 알면 운동량에 대한 정보가 줄어들고, 반대의 경우도 마찬가지입니다.\\n\\n양자역학은 현대 물리학에서 가장 성공적인 이론 중 하나입니다. 레이저, 트랜지스터, 핵무기 등의 많은 현대 기술의 기반을 형성했습니다. 또한 양자역학은 우주의 근본적인 성질을 이해하는 데에도 사용되었습니다.\\nHuman: hi\\nAI: 안녕'"
            ],
            "application/vnd.google.colaboratory.intrinsic+json": {
              "type": "string"
            }
          },
          "metadata": {},
          "execution_count": 6
        }
      ]
    },
    {
      "cell_type": "code",
      "source": [
        "display(conversation.invoke({\"input\": \"불렛포인트 형식으로 작성해줘. emoji 추가해줘.\"}))"
      ],
      "metadata": {
        "colab": {
          "base_uri": "https://localhost:8080/",
          "height": 213
        },
        "id": "31avUHcYWh8T",
        "outputId": "88eea114-697a-4f94-a43f-ed55270a3743"
      },
      "execution_count": null,
      "outputs": [
        {
          "output_type": "display_data",
          "data": {
            "text/plain": [
              "{'input': '불렛포인트 형식으로 작성해줘. emoji 추가해줘.',\n",
              " 'history': 'Human: 양자역학에 대해 설명해줘\\nAI: 양자역학은 물질과 에너지의 가장 작은 구성 요소인 원자와 아원자 입자의 행동을 설명하는 물리학 분야입니다. 이 이론은 빛이 입자(광자)와 파동의 성질을 동시에 가질 수 있는 이중성과 같은 직관에 어긋나는 현상을 예측합니다.\\n\\n핵심 개념 중 일부는 다음과 같습니다.\\n\\n* **파동-입자 이중성:** 입자는 파동과 같은 성질을 가질 수 있습니다.\\n* **불확정성 원리:** 입자의 위치와 운동량을 동시에 정확하게 알 수 없습니다.\\n* **중첩:** 입자는 여러 상태에 동시에 존재할 수 있습니다.\\n* **양자 얽힘:** 서로 멀리 떨어진 두 입자가 연결되어 하나의 입자에 대한 측정이 다른 입자의 상태에 즉시 영향을 미칩니다.\\n\\n양자역학은 레이저, 트랜지스터, MRI 기계와 같은 현대 기술의 기반이 되었습니다. 또한 우주 초기의 거동과 블랙홀의 성질을 이해하는 데에도 중요한 역할을 합니다.\\nHuman: 이전의 내용을 불렛포인트로 요약해줘. emoji 추가해줘.\\nAI: * **파동-입자 이중성 🌊 粒子:** 입자는 파동처럼 행동할 수 있어요.\\n* **불확정성 원리 ⚖️:** 입자의 위치와 운동량을 동시에 정확히 알 수 없어요.\\n* **중첩 👥:** 입자는 여러 상태에 동시에 존재할 수 있어요.\\n* **양자 얽힘 🔗:** 멀리 떨어진 입자들이 서로 연결되어 있어요. 한 입자를 측정하면 다른 입자의 상태에 영향을 미쳐요.\\n* **현대 기술의 기반 💡💻:** 레이저, 트랜지스터, MRI 기계 등의 기반이에요.\\n* **우주와 블랙홀 이해에 기여 🌌🕳️:** 우주 초기와 블랙홀의 성질을 이해하는 데 도움이 되요.',\n",
              " 'response': '* **파동-입자 이중성 🌊 粒子:** 입자는 파동처럼 행동할 수 있어요.\\n* **불확정성 원리 ⚖️:** 입자의 위치와 운동량을 동시에 정확히 알 수 없어요.\\n* **중첩 👥:** 입자는 여러 상태에 동시에 존재할 수 있어요.\\n* **양자 얽힘 🔗:** 멀리 떨어진 입자들이 서로 연결되어 있어요. 한 입자를 측정하면 다른 입자의 상태에 영향을 미쳐요.\\n* **현대 기술의 기반 💡💻:** 레이저, 트랜지스터, MRI 기계 등의 기반이에요.\\n* **우주와 블랙홀 이해에 기여 🌌🕳️:** 우주 초기와 블랙홀의 성질을 이해하는 데 도움이 되요.'}"
            ]
          },
          "metadata": {}
        }
      ]
    },
    {
      "cell_type": "markdown",
      "source": [
        "위 내용을 실시간 출력하도록 처리한다면"
      ],
      "metadata": {
        "id": "cCYNUFaKWvM8"
      }
    },
    {
      "cell_type": "code",
      "source": [
        "from langchain_core.callbacks.base import BaseCallbackHandler\n",
        "from langchain_google_genai import ChatGoogleGenerativeAI\n",
        "\n",
        "\n",
        "class StreamingHandler(BaseCallbackHandler):\n",
        "    def on_llm_new_token(self, token: str, **kwargs) -> None:\n",
        "        print(f\"{token}\", end=\"\", flush=True)\n",
        "\n",
        "\n",
        "# 스트리밍을 활성화하기 위해, ChatModel 생성자에 `streaming=True`를 전달합니다.\n",
        "# 추가적으로, 사용자 정의 핸들러 리스트를 전달합니다.\n",
        "stream_llm = ChatGoogleGenerativeAI(\n",
        "    model=\"gemini-pro\", streaming=True, callbacks=[StreamingHandler()]\n",
        ")\n",
        "\n",
        "conversation = ConversationChain(\n",
        "    llm=stream_llm,\n",
        "    verbose=False,\n",
        "    memory=ConversationBufferMemory(),\n",
        ")\n",
        "\n"
      ],
      "metadata": {
        "id": "6gQycypOWy1a"
      },
      "execution_count": null,
      "outputs": []
    },
    {
      "cell_type": "code",
      "source": [
        "#conversation.predict 메소드는 주어진 입력에 대한 예측 결과를 반환합니다.\n",
        "# 이 예시에서는 '양자역학에 대해 설명해줘'라는 문자열을 입력으로 사용하며, 해당 입력에 대한 예측 결과를 output 변수에 저장합니다.\n",
        "#이 과정은 AI 기반 대화 시스템에서 특정 주제에 대한 설명을 요청하는 방법을 보여줍니다.\n",
        "output = conversation.predict(input=\"양자역학에 대해 설명해줘\")"
      ],
      "metadata": {
        "id": "0gD7QTEDXWkv"
      },
      "execution_count": null,
      "outputs": []
    },
    {
      "cell_type": "code",
      "source": [
        "output = conversation.predict(\n",
        "    input=\"이전의 내용을 불렛포인트로 요약해줘. emoji 추가해줘.\"\n",
        ")"
      ],
      "metadata": {
        "id": "vizpyQn_XXP6"
      },
      "execution_count": null,
      "outputs": []
    },
    {
      "cell_type": "markdown",
      "source": [
        "웹문서 체인 테스트"
      ],
      "metadata": {
        "id": "osrAL3pWX6RV"
      }
    },
    {
      "cell_type": "code",
      "source": [
        "!pip install -q langchainhub\n",
        "\n",
        "from langchain import hub\n",
        "from langchain_google_genai import ChatGoogleGenerativeAI\n",
        "from langchain_core.output_parsers import JsonOutputParser\n",
        "from langchain.document_loaders import WebBaseLoader\n",
        "from langchain.callbacks.base import BaseCallbackHandler\n",
        "\n",
        "\n",
        "# Load some data to summarize\n",
        "loader = WebBaseLoader(\"https://www.aitimes.com/news/articleView.html?idxno=131777\")\n",
        "docs = loader.load()\n",
        "content = docs[0].page_content\n",
        "\n",
        "\n",
        "class StreamCallback(BaseCallbackHandler):\n",
        "    def on_llm_new_token(self, token, **kwargs):\n",
        "        print(token, end=\"\", flush=True)\n",
        "\n",
        "\n",
        "prompt = hub.pull(\"teddynote/chain-of-density-korean\")\n",
        "\n",
        "# Create the chain, including\n",
        "chain = (\n",
        "    prompt\n",
        "    | ChatGoogleGenerativeAI(\n",
        "        temperature=0,\n",
        "        model=\"gemini-pro\",\n",
        "        streaming=True,\n",
        "        callbacks=[StreamCallback()],\n",
        "    )\n",
        "    | JsonOutputParser()\n",
        "    | (lambda x: x[-1][\"Denser_Summary\"])\n",
        ")\n",
        "\n",
        "# Invoke the chain\n",
        "result = chain.invoke({\"ARTICLE\": content})\n",
        "display(result)\n"
      ],
      "metadata": {
        "colab": {
          "base_uri": "https://localhost:8080/",
          "height": 54
        },
        "id": "1qhSgFzpX5A3",
        "outputId": "e0c8b3d0-bd9c-45e4-c2da-e2521077cd5a"
      },
      "execution_count": null,
      "outputs": [
        {
          "output_type": "display_data",
          "data": {
            "text/plain": [
              "'데이터사이언스는 빅데이터 시대 융합 학문으로서, 기존 통계적 기법과 최근의 머신러닝 및 인공지능 기술을 학문적으로 연구하는 분야입니다. 실용적인 측면에서는 데이터를 획득하고, 여기에 전문 지식을 접목해 처리하거나 모델링화 하거나 시각화하는 과정을 통해 우리 실생활에 유용한 솔루션을 만드는 것입니다.'"
            ],
            "application/vnd.google.colaboratory.intrinsic+json": {
              "type": "string"
            }
          },
          "metadata": {}
        }
      ]
    },
    {
      "cell_type": "markdown",
      "source": [
        "# 문서 전체 요약(Stuff Documents Chain)"
      ],
      "metadata": {
        "id": "bO2XPGz9AZMk"
      }
    },
    {
      "cell_type": "markdown",
      "source": [
        "stuff documents chain(\"stuff\"는 \"채우다\" 또는 \"채우기 위해\"의 의미)는 문서 체인 중 가장 간단한 방식입니다. 문서 목록을 가져와서 모두 프롬프트에 삽입한 다음, 그 프롬프트를 LLM에 전달합니다.\n",
        "\n",
        "이 체인은 문서가 작고 대부분의 호출에 몇 개만 전달되는 애플리케이션에 적합합니다."
      ],
      "metadata": {
        "id": "0sHiAHa7AgJn"
      }
    },
    {
      "cell_type": "code",
      "source": [
        "!pip install -U langchain langchainhub langchain_community -q\n",
        "\n",
        "from langchain_core.prompts import ChatPromptTemplate\n",
        "from langchain.chains.combine_documents import create_stuff_documents_chain\n",
        "\n",
        "\n",
        "prompt = ChatPromptTemplate.from_messages(\n",
        "    [\n",
        "        (\n",
        "            \"system\",\n",
        "            \"You are an expert summarizer. Please summarize the following sentence.\",\n",
        "        ),\n",
        "        (\n",
        "            \"user\",\n",
        "            \"Please summarize the sentence according to the following request.\"\n",
        "            \"\\nREQUEST:\\n\"\n",
        "            \"1. Summarize the main points in bullet points in Korean.\"\n",
        "            \"2. Each summarized sentence must start with an emoji that fits the meaning of the each sentence.\"\n",
        "            \"3. Use various emojis to make the summary more interesting.\"\n",
        "            \"\\n\\nCONTEXT: {context}\\n\\nSUMMARY:\",\n",
        "        ),\n",
        "    ]\n",
        ")\n",
        "prompt"
      ],
      "metadata": {
        "colab": {
          "base_uri": "https://localhost:8080/"
        },
        "id": "xSEwVCLzAii_",
        "outputId": "39e86bd4-bfae-435a-9535-45072fce6261"
      },
      "execution_count": 3,
      "outputs": [
        {
          "output_type": "execute_result",
          "data": {
            "text/plain": [
              "ChatPromptTemplate(input_variables=['context'], messages=[SystemMessagePromptTemplate(prompt=PromptTemplate(input_variables=[], template='You are an expert summarizer. Please summarize the following sentence.')), HumanMessagePromptTemplate(prompt=PromptTemplate(input_variables=['context'], template='Please summarize the sentence according to the following request.\\nREQUEST:\\n1. Summarize the main points in bullet points in Korean.2. Each summarized sentence must start with an emoji that fits the meaning of the each sentence.3. Use various emojis to make the summary more interesting.\\n\\nCONTEXT: {context}\\n\\nSUMMARY:'))])"
            ]
          },
          "metadata": {},
          "execution_count": 3
        }
      ]
    },
    {
      "cell_type": "code",
      "source": [
        "from langchain import hub\n",
        "\n",
        "prompt = hub.pull(\"teddynote/summary-stuff-documents-korean\")\n",
        "prompt"
      ],
      "metadata": {
        "colab": {
          "base_uri": "https://localhost:8080/"
        },
        "id": "KTF-HXzRA0Mp",
        "outputId": "faa03125-f3eb-4ea8-c536-7f6126a9ba0c"
      },
      "execution_count": 4,
      "outputs": [
        {
          "output_type": "execute_result",
          "data": {
            "text/plain": [
              "PromptTemplate(input_variables=['context'], metadata={'lc_hub_owner': 'teddynote', 'lc_hub_repo': 'summary-stuff-documents-korean', 'lc_hub_commit_hash': 'c45b97ed375ce5251c42cfd9638dfecd2eaeb5ff4904838771d2a26ac3e2a5f6'}, template='Please summarize the sentence according to the following REQUEST.\\nREQUEST:\\n1. Summarize the main points in bullet points in KOREAN.\\n2. Each summarized sentence must start with an emoji that fits the meaning of the each sentence.\\n3. Use various emojis to make the summary more interesting.\\n4. Translate the summary into KOREAN if it is written in ENGLISH.\\n5. DO NOT translate any technical terms.\\n6. DO NOT include any unnecessary information.\\n\\nCONTEXT:\\n{context}\\n\\nSUMMARY:\"\\n')"
            ]
          },
          "metadata": {},
          "execution_count": 4
        }
      ]
    },
    {
      "cell_type": "code",
      "source": [
        "from langchain_community.document_loaders import TextLoader\n",
        "\n",
        "loader = TextLoader(\"data/news.txt\")\n",
        "docs = loader.load()\n",
        "print(f\"문서의 수: {len(docs)}\\n\")\n",
        "print(\"[메타데이터]\\n\")\n",
        "print(docs[0].metadata)\n",
        "print(\"\\n========= [앞부분] 미리보기 =========\\n\")\n",
        "print(docs[0].page_content[:500])"
      ],
      "metadata": {
        "colab": {
          "base_uri": "https://localhost:8080/",
          "height": 428
        },
        "id": "0am6nAUPAqWH",
        "outputId": "5ff17436-d457-4700-9ee1-1028ca22d079"
      },
      "execution_count": 5,
      "outputs": [
        {
          "output_type": "error",
          "ename": "RuntimeError",
          "evalue": "Error loading data/news.txt",
          "traceback": [
            "\u001b[0;31m---------------------------------------------------------------------------\u001b[0m",
            "\u001b[0;31mFileNotFoundError\u001b[0m                         Traceback (most recent call last)",
            "\u001b[0;32m/usr/local/lib/python3.10/dist-packages/langchain_community/document_loaders/text.py\u001b[0m in \u001b[0;36mlazy_load\u001b[0;34m(self)\u001b[0m\n\u001b[1;32m     41\u001b[0m         \u001b[0;32mtry\u001b[0m\u001b[0;34m:\u001b[0m\u001b[0;34m\u001b[0m\u001b[0;34m\u001b[0m\u001b[0m\n\u001b[0;32m---> 42\u001b[0;31m             \u001b[0;32mwith\u001b[0m \u001b[0mopen\u001b[0m\u001b[0;34m(\u001b[0m\u001b[0mself\u001b[0m\u001b[0;34m.\u001b[0m\u001b[0mfile_path\u001b[0m\u001b[0;34m,\u001b[0m \u001b[0mencoding\u001b[0m\u001b[0;34m=\u001b[0m\u001b[0mself\u001b[0m\u001b[0;34m.\u001b[0m\u001b[0mencoding\u001b[0m\u001b[0;34m)\u001b[0m \u001b[0;32mas\u001b[0m \u001b[0mf\u001b[0m\u001b[0;34m:\u001b[0m\u001b[0;34m\u001b[0m\u001b[0;34m\u001b[0m\u001b[0m\n\u001b[0m\u001b[1;32m     43\u001b[0m                 \u001b[0mtext\u001b[0m \u001b[0;34m=\u001b[0m \u001b[0mf\u001b[0m\u001b[0;34m.\u001b[0m\u001b[0mread\u001b[0m\u001b[0;34m(\u001b[0m\u001b[0;34m)\u001b[0m\u001b[0;34m\u001b[0m\u001b[0;34m\u001b[0m\u001b[0m\n",
            "\u001b[0;31mFileNotFoundError\u001b[0m: [Errno 2] No such file or directory: 'data/news.txt'",
            "\nThe above exception was the direct cause of the following exception:\n",
            "\u001b[0;31mRuntimeError\u001b[0m                              Traceback (most recent call last)",
            "\u001b[0;32m<ipython-input-5-2dacfd442aae>\u001b[0m in \u001b[0;36m<cell line: 4>\u001b[0;34m()\u001b[0m\n\u001b[1;32m      2\u001b[0m \u001b[0;34m\u001b[0m\u001b[0m\n\u001b[1;32m      3\u001b[0m \u001b[0mloader\u001b[0m \u001b[0;34m=\u001b[0m \u001b[0mTextLoader\u001b[0m\u001b[0;34m(\u001b[0m\u001b[0;34m\"data/news.txt\"\u001b[0m\u001b[0;34m)\u001b[0m\u001b[0;34m\u001b[0m\u001b[0;34m\u001b[0m\u001b[0m\n\u001b[0;32m----> 4\u001b[0;31m \u001b[0mdocs\u001b[0m \u001b[0;34m=\u001b[0m \u001b[0mloader\u001b[0m\u001b[0;34m.\u001b[0m\u001b[0mload\u001b[0m\u001b[0;34m(\u001b[0m\u001b[0;34m)\u001b[0m\u001b[0;34m\u001b[0m\u001b[0;34m\u001b[0m\u001b[0m\n\u001b[0m\u001b[1;32m      5\u001b[0m \u001b[0mprint\u001b[0m\u001b[0;34m(\u001b[0m\u001b[0;34mf\"문서의 수: {len(docs)}\\n\"\u001b[0m\u001b[0;34m)\u001b[0m\u001b[0;34m\u001b[0m\u001b[0;34m\u001b[0m\u001b[0m\n\u001b[1;32m      6\u001b[0m \u001b[0mprint\u001b[0m\u001b[0;34m(\u001b[0m\u001b[0;34m\"[메타데이터]\\n\"\u001b[0m\u001b[0;34m)\u001b[0m\u001b[0;34m\u001b[0m\u001b[0;34m\u001b[0m\u001b[0m\n",
            "\u001b[0;32m/usr/local/lib/python3.10/dist-packages/langchain_core/document_loaders/base.py\u001b[0m in \u001b[0;36mload\u001b[0;34m(self)\u001b[0m\n\u001b[1;32m     27\u001b[0m     \u001b[0;32mdef\u001b[0m \u001b[0mload\u001b[0m\u001b[0;34m(\u001b[0m\u001b[0mself\u001b[0m\u001b[0;34m)\u001b[0m \u001b[0;34m->\u001b[0m \u001b[0mList\u001b[0m\u001b[0;34m[\u001b[0m\u001b[0mDocument\u001b[0m\u001b[0;34m]\u001b[0m\u001b[0;34m:\u001b[0m\u001b[0;34m\u001b[0m\u001b[0;34m\u001b[0m\u001b[0m\n\u001b[1;32m     28\u001b[0m         \u001b[0;34m\"\"\"Load data into Document objects.\"\"\"\u001b[0m\u001b[0;34m\u001b[0m\u001b[0;34m\u001b[0m\u001b[0m\n\u001b[0;32m---> 29\u001b[0;31m         \u001b[0;32mreturn\u001b[0m \u001b[0mlist\u001b[0m\u001b[0;34m(\u001b[0m\u001b[0mself\u001b[0m\u001b[0;34m.\u001b[0m\u001b[0mlazy_load\u001b[0m\u001b[0;34m(\u001b[0m\u001b[0;34m)\u001b[0m\u001b[0;34m)\u001b[0m\u001b[0;34m\u001b[0m\u001b[0;34m\u001b[0m\u001b[0m\n\u001b[0m\u001b[1;32m     30\u001b[0m \u001b[0;34m\u001b[0m\u001b[0m\n\u001b[1;32m     31\u001b[0m     \u001b[0;32masync\u001b[0m \u001b[0;32mdef\u001b[0m \u001b[0maload\u001b[0m\u001b[0;34m(\u001b[0m\u001b[0mself\u001b[0m\u001b[0;34m)\u001b[0m \u001b[0;34m->\u001b[0m \u001b[0mList\u001b[0m\u001b[0;34m[\u001b[0m\u001b[0mDocument\u001b[0m\u001b[0;34m]\u001b[0m\u001b[0;34m:\u001b[0m\u001b[0;34m\u001b[0m\u001b[0;34m\u001b[0m\u001b[0m\n",
            "\u001b[0;32m/usr/local/lib/python3.10/dist-packages/langchain_community/document_loaders/text.py\u001b[0m in \u001b[0;36mlazy_load\u001b[0;34m(self)\u001b[0m\n\u001b[1;32m     56\u001b[0m                 \u001b[0;32mraise\u001b[0m \u001b[0mRuntimeError\u001b[0m\u001b[0;34m(\u001b[0m\u001b[0;34mf\"Error loading {self.file_path}\"\u001b[0m\u001b[0;34m)\u001b[0m \u001b[0;32mfrom\u001b[0m \u001b[0me\u001b[0m\u001b[0;34m\u001b[0m\u001b[0;34m\u001b[0m\u001b[0m\n\u001b[1;32m     57\u001b[0m         \u001b[0;32mexcept\u001b[0m \u001b[0mException\u001b[0m \u001b[0;32mas\u001b[0m \u001b[0me\u001b[0m\u001b[0;34m:\u001b[0m\u001b[0;34m\u001b[0m\u001b[0;34m\u001b[0m\u001b[0m\n\u001b[0;32m---> 58\u001b[0;31m             \u001b[0;32mraise\u001b[0m \u001b[0mRuntimeError\u001b[0m\u001b[0;34m(\u001b[0m\u001b[0;34mf\"Error loading {self.file_path}\"\u001b[0m\u001b[0;34m)\u001b[0m \u001b[0;32mfrom\u001b[0m \u001b[0me\u001b[0m\u001b[0;34m\u001b[0m\u001b[0;34m\u001b[0m\u001b[0m\n\u001b[0m\u001b[1;32m     59\u001b[0m \u001b[0;34m\u001b[0m\u001b[0m\n\u001b[1;32m     60\u001b[0m         \u001b[0mmetadata\u001b[0m \u001b[0;34m=\u001b[0m \u001b[0;34m{\u001b[0m\u001b[0;34m\"source\"\u001b[0m\u001b[0;34m:\u001b[0m \u001b[0mstr\u001b[0m\u001b[0;34m(\u001b[0m\u001b[0mself\u001b[0m\u001b[0;34m.\u001b[0m\u001b[0mfile_path\u001b[0m\u001b[0;34m)\u001b[0m\u001b[0;34m}\u001b[0m\u001b[0;34m\u001b[0m\u001b[0;34m\u001b[0m\u001b[0m\n",
            "\u001b[0;31mRuntimeError\u001b[0m: Error loading data/news.txt"
          ]
        }
      ]
    },
    {
      "cell_type": "markdown",
      "source": [
        "MyCallbackHandler 클래스는 BaseCallbackHandler를 상속받아, 언어 모델이 새로운 토큰을 생성할 때마다 해당 토큰을 출력하는 기능을 추가합니다.\n",
        "\n",
        "ChatOpenAI 객체는 GPT-3.5-turbo 모델을 사용하며, 스트리밍 모드와 낮은 온도 설정을 통해 더 일관된 응답을 생성하도록 구성됩니다. 이 객체는 콜백으로 MyCallbackHandler 인스턴스를 사용합니다.\n",
        "\n",
        "마지막으로, create_stuff_documents_chain 함수를 사용하여 문서 생성 체인을 만들고, 이 체인을 통해 주어진 문맥(docs)에 대한 응답(answer)을 생성합니다."
      ],
      "metadata": {
        "id": "FNsfDf4sBDup"
      }
    },
    {
      "cell_type": "code",
      "source": [
        "from langchain.callbacks.base import BaseCallbackHandler\n",
        "\n",
        "\n",
        "class MyCallbackHandler(BaseCallbackHandler):\n",
        "    def on_llm_new_token(self, token: str, **kwargs) -> None:\n",
        "        print(f\"{token}\", end=\"\", flush=True)\n",
        "\n",
        "\n",
        "llm = ChatOpenAI(\n",
        "    model_name=\"gpt-3.5-turbo\",\n",
        "    streaming=True,\n",
        "    temperature=0.01,\n",
        "    callbacks=[MyCallbackHandler()],\n",
        ")\n",
        "chain = create_stuff_documents_chain(llm, prompt)\n",
        "answer = chain.invoke({\"context\": docs})"
      ],
      "metadata": {
        "id": "bBEUecvLBCKK"
      },
      "execution_count": null,
      "outputs": []
    },
    {
      "cell_type": "markdown",
      "source": [
        "# 웹문서 요약(Webpage Summarization Chain)"
      ],
      "metadata": {
        "id": "sV5ycC05BIno"
      }
    },
    {
      "cell_type": "markdown",
      "source": [],
      "metadata": {
        "id": "WMLSRZkBBKUQ"
      }
    },
    {
      "cell_type": "code",
      "source": [
        "from langchain import hub\n",
        "from langchain_core.output_parsers import JsonOutputParser\n",
        "from langchain.document_loaders import WebBaseLoader\n",
        "from langchain.callbacks.base import BaseCallbackHandler\n",
        "\n",
        "\n",
        "# Load some data to summarize\n",
        "loader = WebBaseLoader(\"https://www.aitimes.com/news/articleView.html?idxno=131777\")\n",
        "docs = loader.load()\n",
        "content = docs[0].page_content\n",
        "\n",
        "\n",
        "class StreamCallback(BaseCallbackHandler):\n",
        "    def on_llm_new_token(self, token, **kwargs):\n",
        "        print(token, end=\"\", flush=True)\n",
        "\n",
        "\n",
        "prompt = hub.pull(\"teddynote/chain-of-density-korean\")\n",
        "\n",
        "# Create the chain, including\n",
        "chain = (\n",
        "    prompt\n",
        "    | llm\n",
        "    | JsonOutputParser()\n",
        "    | (lambda x: x[-1][\"Denser_Summary\"])\n",
        ")\n",
        "\n",
        "# Invoke the chain\n",
        "result = chain.invoke({\"ARTICLE\": content})\n",
        "print(result)"
      ],
      "metadata": {
        "colab": {
          "base_uri": "https://localhost:8080/"
        },
        "id": "OAqBdIOsBLbk",
        "outputId": "94fb755a-72da-462f-f6f5-e250b48d7cfd"
      },
      "execution_count": 6,
      "outputs": [
        {
          "output_type": "stream",
          "name": "stdout",
          "text": [
            "데이터사이언스는 빅데이터 시대 융합 학문으로, 기존 통계적 기법과 최근의 머신러닝 및 인공지능 기술을 학문적으로 연구하는 분야이다. 실용적인 측면에서는 데이터를 획득하고, 여기에 전문 지식을 접목해 처리하거나 모델링화 하거나 시각화하는 과정을 통해 우리 실생활에 유용한 솔루션을 만드는 것이다.\n"
          ]
        }
      ]
    },
    {
      "cell_type": "code",
      "source": [
        "from langchain import hub\n",
        "from langchain_core.output_parsers import JsonOutputParser\n",
        "from langchain.document_loaders import WebBaseLoader\n",
        "from langchain.callbacks.base import BaseCallbackHandler\n",
        "\n",
        "\n",
        "# Load some data to summarize\n",
        "loader = WebBaseLoader(\"https://lineage2m.plaync.com/guidebook/view?title=%EC%A2%85%EC%A1%B1%20%EC%86%8C%EA%B0%9C\")\n",
        "docs = loader.load()\n",
        "content = docs[0].page_content\n",
        "\n",
        "\n",
        "class StreamCallback(BaseCallbackHandler):\n",
        "    def on_llm_new_token(self, token, **kwargs):\n",
        "        print(token, end=\"\", flush=True)\n",
        "\n",
        "\n",
        "prompt = hub.pull(\"teddynote/chain-of-density-korean\")\n",
        "\n",
        "# Create the chain, including\n",
        "chain = (\n",
        "    prompt\n",
        "    | llm\n",
        "    | JsonOutputParser()\n",
        "    | (lambda x: x[-1][\"Denser_Summary\"])\n",
        ")\n",
        "\n",
        "# Invoke the chain\n",
        "result = chain.invoke({\"ARTICLE\": content})\n",
        "print(result)"
      ],
      "metadata": {
        "colab": {
          "base_uri": "https://localhost:8080/"
        },
        "id": "JpNEdMmWBnH6",
        "outputId": "b761670d-ee94-47c1-ed5e-f0c360798b38"
      },
      "execution_count": 7,
      "outputs": [
        {
          "output_type": "stream",
          "name": "stdout",
          "text": [
            "NCSOFT의 리니지2M 가이드북은 게임 정보를 제공하는 가이드북입니다.\n"
          ]
        }
      ]
    },
    {
      "cell_type": "markdown",
      "source": [
        "# 새 섹션"
      ],
      "metadata": {
        "id": "nUnpVlhgB9Zb"
      }
    }
  ]
}