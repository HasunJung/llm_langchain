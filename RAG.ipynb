{
  "nbformat": 4,
  "nbformat_minor": 0,
  "metadata": {
    "colab": {
      "provenance": [],
      "toc_visible": true,
      "authorship_tag": "ABX9TyMWaG81J+rFyA/cElb29Uwy",
      "include_colab_link": true
    },
    "kernelspec": {
      "name": "python3",
      "display_name": "Python 3"
    },
    "language_info": {
      "name": "python"
    }
  },
  "cells": [
    {
      "cell_type": "markdown",
      "metadata": {
        "id": "view-in-github",
        "colab_type": "text"
      },
      "source": [
        "<a href=\"https://colab.research.google.com/github/HasunJung/llm_langchain/blob/main/RAG.ipynb\" target=\"_parent\"><img src=\"https://colab.research.google.com/assets/colab-badge.svg\" alt=\"Open In Colab\"/></a>"
      ]
    },
    {
      "cell_type": "markdown",
      "source": [
        "chat bot"
      ],
      "metadata": {
        "id": "va5RhKMfhbws"
      }
    },
    {
      "cell_type": "code",
      "execution_count": 39,
      "metadata": {
        "id": "dLVf1PF1fIpy"
      },
      "outputs": [],
      "source": [
        "#최초 실행이라면\n",
        "!pip install -q langchain langchain-google-genai pandas kor langchain-text-splitters sentence-transformers chromadb markdownify\n",
        "\n",
        "import os\n",
        "from google.colab import userdata\n",
        "os.environ['GOOGLE_API_KEY'] = userdata.get('GOOGLE_API_KEY')\n",
        "\n",
        "from langchain_google_genai import ChatGoogleGenerativeAI\n",
        "from langchain.prompts import PromptTemplate\n",
        "\n",
        "# ChatGoogleGenerativeAI 언어 모델을 \"gemini-pro\" 모델로 초기화합니다. 답변의 일관성을 위해 temperature는 0으로 설정\n",
        "llm = ChatGoogleGenerativeAI(model=\"gemini-pro\", temperature=0)"
      ]
    },
    {
      "cell_type": "markdown",
      "source": [
        "# Document Loaders"
      ],
      "metadata": {
        "id": "lN4UIb5MYyk3"
      }
    },
    {
      "cell_type": "code",
      "source": [
        "import ssl\n",
        "import urllib.request\n",
        "from IPython.display import Markdown\n",
        "import json\n",
        "\n",
        "url = 'https://lineagem.plaync.com/api/v2/lineagem/guide/%EC%B0%BD%EA%B3%A0%20%EC%8B%9C%EC%8A%A4%ED%85%9C'\n",
        "\n",
        "# Set up SSL context to allow legacy TLS versions\n",
        "ctx = ssl.create_default_context(ssl.Purpose.SERVER_AUTH)\n",
        "ctx.options |= 0x4  # OP_LEGACY_SERVER_CONNECT\n",
        "\n",
        "response = urllib.request.urlopen(url, context=ctx)\n",
        "guide_data = response.read().decode(\"utf-8\")\n",
        "\n",
        "guide_json = json.loads(guide_data)\n"
      ],
      "metadata": {
        "id": "-A9n6BH9R5Oi"
      },
      "execution_count": 2,
      "outputs": []
    },
    {
      "cell_type": "code",
      "source": [
        "#new dataFrame\n",
        "paragraph_list = list()\n",
        "paragraph_str = \"\"\n",
        "\n",
        "idx = 0;\n",
        "for tmp in guide_json[\"paragraphList\"]:\n",
        "  paragraph_list.append(guide_json['paragraphList'][tmp]['name']+\":\"+ guide_json['paragraphList'][tmp]['content'])\n",
        "  paragraph_str+=guide_json['paragraphList'][tmp]['name']+\":\"+ guide_json['paragraphList'][tmp]['content']\n",
        "  idx=+1\n",
        "\n",
        "\n",
        "import pandas as pd\n",
        "\n",
        "df = pd.DataFrame({\n",
        "    'name' : guide_json['name'],\n",
        "    'summary' : guide_json['summary'],\n",
        "    'paragraphList' : paragraph_list,\n",
        "    'paragraph' : paragraph_str\n",
        "})\n",
        "\n",
        "\n",
        "from langchain_community.document_loaders import DataFrameLoader\n",
        "\n",
        "loader = DataFrameLoader(df, page_content_column = 'paragraph')\n",
        "docs = loader.load()\n",
        "\n",
        "print(docs[0].page_content)\n"
      ],
      "metadata": {
        "colab": {
          "base_uri": "https://localhost:8080/"
        },
        "id": "uHMRVPiNbDla",
        "outputId": "3161c682-ddf7-43ac-f8dd-1ef46823ca14"
      },
      "execution_count": 38,
      "outputs": [
        {
          "output_type": "stream",
          "name": "stdout",
          "text": [
            "소개:<p>창고는 소지품에 있는 아이템을 맡기거나 찾을 수 있는 공간으로 창고에 있는 아이템은 계정 내 캐릭터 모두 공유할 수 있습니다.</p><p>&lt;리니지M&gt;에서는 캐릭터의 STR과 CON, 아이템에 붙어있는 무게 게이지에 따라 인벤토리에 넣을 수 있는 소지품의 한계치(최대 무게)가 결정됩니다.</p><p>무게 게이지가 50% 이상이 되면 다양한 패널티를 받기 때문에 불필요한 아이템은 상점에 팔거나 창고에 보관해서 무게 게이지를 관리해야 합니다.</p><p><strong>&lt;무게 게이지에 따른 패널티&gt;</strong></p><p>* 50% 이상 : HP 및 MP 자동 회복 불가</p><p>* 83% 이상 : 공격 및 마법 사용 불가</p><p><br></p>창고지기:<p>각 마을에 위치한 창고지기 NPC를 찾아가면 창고를 이용할 수 있습니다. 대부분 창고지기 NPC는 마을 중심부에 위치해 있으며, 마을 지도에 상자 모양의 아이콘으로 표시됩니다.</p><p><img style=\"width: 300px;\" class=\"fr-fic fr-dib\" src=\"https://imgfiles-cdn.plaync.com/file/LineageM/download/20220110202731-D6HdPr98oizxe1hTOIIR0-v4\"></p><p><br></p>창고 UI:<p><img style=\"width: 300px;\" class=\"fr-fic fr-dib\" src=\"https://imgfiles-cdn.plaync.com/file/LineageM/download/20220110202815-cSHmNzD5q95vFGQFaxYa0-v4\"></p><p>① 소지품 : 소지한 아이템 정보를 확인할 수 있습니다.</p><p>② 창고 : 창고에 보관된 아이템 정보를 확인할 수 있습니다.</p><p>③ 슬롯 모드 변경 버튼 : 리스트 모드 또는 인벤토리 모드 중 한가지를 선택할 수 있습니다.</p><p>④ 장바구니 : 소지품 또는 창고에서 아이템을 선택한 다음 수량 입력 버튼을 누르면 아이템이 보관됩니다.</p><p>⑤ 수량 입력 버튼 : 아이템 선택 상태에서 수량 입력 버튼을 누르면 장바구니에 아이템이 들어갑니다.</p><p>⑥ 모두 맡기기/모두 찾기 버튼 : 보관된 아이템이 있는 상태에서 모두 맡기기 버튼을 누르면 아이템을 맡기고 찾을 수 있습니다.</p><p>⑦ 화폐 정보 : 현재 소지한 다이아와 아데나 재화 정보를 확인할 수 있습니다.</p><p><br></p>아이템 맡기기:<p><img style=\"width: 300px;\" class=\"fr-fic fr-dib\" src=\"https://imgfiles-cdn.plaync.com/file/LineageM/download/20220110202951-kqfgw4eHC13H7wirzKN40-v4\"></p><p>① 보관 가능한 아이템 : 소지품에 있는 아이템 중 창고에 보관 가능한 아이템을 확인할 수 있습니다. 보관 가능한 아이템을 터치하면 장바구니 항목으로 이동되며 장착한 아이템은 보관할 수 없습니다.</p><p>② 장바구니 등록 : 보관하고 싶은 아이템 목록을 확인할 수 있습니다.</p><p>③ 무게 정보 : 소지품에 있는 아이템을 장바구니에 넣을 때마다 감소하는 무게 게이지를 보여줍니다. 단, 장바구니에 등록된 아이템의 무게가 존재해야만 합니다.</p><p>④ 수량 입력 : 소지품에서 아이템을 선택한 후 수량 입력 시 입력된 수량만큼 장바구니에 등록됩니다. 장바구니에 등록된 아이템을 선택한 후 수량 입력하면 입력된 수량만큼 재 등록됩니다.</p><p>⑤ 창고 : 창고에 보관 중인 아이템 목록을 확인할 수 있습니다.</p><p>⑥ 모두 맡기기 : 장바구니에 등록된 아이템이 있는 상태에서 모두 맡기기 버튼을 누르면 등록된 아이템이 창고에 보관됩니다. 단, 창고 소지품 슬롯이 부족할 경우에는 모두 맡기기를 할 수 없습니다.</p><p><br></p>아이템 찾기:<p><img style=\"width: 300px;\" class=\"fr-fic fr-dib\" src=\"https://imgfiles-cdn.plaync.com/file/LineageM/download/20220110203101-sLLUdSTspzaj0ghx5ceG0-v4\"></p><p>① 찾기 가능한 아이템 : 창고에 보관중인 아이템을 확인할 수 있으며 보관된 아이템은 모두 찾을 수 있습니다.</p><p>② 장바구니 등록 : 창고에 보관중인 아이템 중 찾고 싶은 아이템을 선택하면 장바구니로 등록됩니다.</p><p>③ 무게 정보 : 창고에 있는 아이템을 장바구니에 넣을 때마다 증가하는 무게 게이지를 보여줍니다. 단, 장바구니에 등록된 아이템의 무게가 존재해야만 합니다.</p><p>④ 찾기 수수료 : 찾을 아이템의 수량과 상관없이 아이템 한 슬롯당 수수료로 300 아데나를 지불해야 합니다. 예를 들어 3개의 아이템을 찾으려면 900 아데나를 수수료로 지불해야 합니다.</p><p>⑤ 수량 입력 : 창고에서 아이템을 선택한 후 수량 입력 시 입력된 수량만큼 장바구니에 등록됩니다. 장바구니에 등록된 아이템을 선택한 후 수량 입력 시 입력된 수량만큼 다시 등록됩니다.</p><p>⑥ 소지품 : 소지품에 있는 아이템을 확인할 수 있으며 우측 하단부분에서 소지품에 있는 아이템의 수량도 확인할 수 있습니다.</p><p>⑦ 모두 찾기 : 장바구니에 등록한 아이템이 있는 상태에서 모두 찾기 버튼을 터치하면 등록된 아이템이 소지품으로 이동합니다. 찾기 수수료로 지불할 아데나가 부족하거나 지불할 아데나가 부족한 경우 아이템을 찾을 수 없습니다.</p><p><br></p>창고 슬롯 확장:<p>창고 슬롯은 최대 200칸까지 확장이 가능하며 창고 슬롯 확장 시 4칸당 50 다이아가 필요합니다.&nbsp;</p><p>잠금 영역을 터치하면 슬롯 확장 창이 출력되며, 비용이 충분한 상태에서 확인 버튼을 누르면 창고 슬롯 4칸씩 확장됩니다.</p>\n"
          ]
        }
      ]
    },
    {
      "cell_type": "markdown",
      "source": [
        "# RecursiveCharacterTextSplitter"
      ],
      "metadata": {
        "id": "Y2jq3-zKpwyl"
      }
    },
    {
      "cell_type": "code",
      "source": [
        "from kor.documents.html import MarkdownifyHTMLProcessor\n",
        "md = MarkdownifyHTMLProcessor().process(docs[0])\n",
        "\n",
        "\n",
        "from langchain_text_splitters import RecursiveCharacterTextSplitter\n",
        "split_docs = RecursiveCharacterTextSplitter(chunk_size=400, chunk_overlap=0).split_documents([md])\n",
        "\n",
        "print(split_docs)\n",
        "print(split_docs[0].page_content)\n",
        ""
      ],
      "metadata": {
        "colab": {
          "base_uri": "https://localhost:8080/"
        },
        "id": "ZjBNjzxqqBNs",
        "outputId": "3368458f-cfad-46c0-b42e-025b1df15ede"
      },
      "execution_count": 41,
      "outputs": [
        {
          "output_type": "stream",
          "name": "stdout",
          "text": [
            "[Document(page_content='소개:창고는 소지품에 있는 아이템을 맡기거나 찾을 수 있는 공간으로 창고에 있는 아이템은 계정 내 캐릭터 모두 공유할 수 있습니다.\\n\\n<리니지M>에서는 캐릭터의 STR과 CON, 아이템에 붙어있는 무게 게이지에 따라 인벤토리에 넣을 수 있는 소지품의 한계치(최대 무게)가 결정됩니다.\\n\\n무게 게이지가 50% 이상이 되면 다양한 패널티를 받기 때문에 불필요한 아이템은 상점에 팔거나 창고에 보관해서 무게 게이지를 관리해야 합니다.\\n\\n**<무게 게이지에 따른 패널티>**\\n\\n\\\\* 50% 이상 : HP 및 MP 자동 회복 불가\\n\\n\\\\* 83% 이상 : 공격 및 마법 사용 불가', metadata={'name': '창고 시스템', 'summary': '소지품에 있는 아이템을 맡기거나 찾을 수 있는 공간 입니다.', 'paragraphList': '소개:<p>창고는 소지품에 있는 아이템을 맡기거나 찾을 수 있는 공간으로 창고에 있는 아이템은 계정 내 캐릭터 모두 공유할 수 있습니다.</p><p>&lt;리니지M&gt;에서는 캐릭터의 STR과 CON, 아이템에 붙어있는 무게 게이지에 따라 인벤토리에 넣을 수 있는 소지품의 한계치(최대 무게)가 결정됩니다.</p><p>무게 게이지가 50% 이상이 되면 다양한 패널티를 받기 때문에 불필요한 아이템은 상점에 팔거나 창고에 보관해서 무게 게이지를 관리해야 합니다.</p><p><strong>&lt;무게 게이지에 따른 패널티&gt;</strong></p><p>* 50% 이상 : HP 및 MP 자동 회복 불가</p><p>* 83% 이상 : 공격 및 마법 사용 불가</p><p><br></p>'}), Document(page_content='창고지기:각 마을에 위치한 창고지기 NPC를 찾아가면 창고를 이용할 수 있습니다. 대부분 창고지기 NPC는 마을 중심부에 위치해 있으며, 마을 지도에 상자 모양의 아이콘으로 표시됩니다.\\n\\n창고 UI:① 소지품 : 소지한 아이템 정보를 확인할 수 있습니다.\\n\\n② 창고 : 창고에 보관된 아이템 정보를 확인할 수 있습니다.\\n\\n③ 슬롯 모드 변경 버튼 : 리스트 모드 또는 인벤토리 모드 중 한가지를 선택할 수 있습니다.\\n\\n④ 장바구니 : 소지품 또는 창고에서 아이템을 선택한 다음 수량 입력 버튼을 누르면 아이템이 보관됩니다.\\n\\n⑤ 수량 입력 버튼 : 아이템 선택 상태에서 수량 입력 버튼을 누르면 장바구니에 아이템이 들어갑니다.', metadata={'name': '창고 시스템', 'summary': '소지품에 있는 아이템을 맡기거나 찾을 수 있는 공간 입니다.', 'paragraphList': '소개:<p>창고는 소지품에 있는 아이템을 맡기거나 찾을 수 있는 공간으로 창고에 있는 아이템은 계정 내 캐릭터 모두 공유할 수 있습니다.</p><p>&lt;리니지M&gt;에서는 캐릭터의 STR과 CON, 아이템에 붙어있는 무게 게이지에 따라 인벤토리에 넣을 수 있는 소지품의 한계치(최대 무게)가 결정됩니다.</p><p>무게 게이지가 50% 이상이 되면 다양한 패널티를 받기 때문에 불필요한 아이템은 상점에 팔거나 창고에 보관해서 무게 게이지를 관리해야 합니다.</p><p><strong>&lt;무게 게이지에 따른 패널티&gt;</strong></p><p>* 50% 이상 : HP 및 MP 자동 회복 불가</p><p>* 83% 이상 : 공격 및 마법 사용 불가</p><p><br></p>'}), Document(page_content='⑥ 모두 맡기기/모두 찾기 버튼 : 보관된 아이템이 있는 상태에서 모두 맡기기 버튼을 누르면 아이템을 맡기고 찾을 수 있습니다.\\n\\n⑦ 화폐 정보 : 현재 소지한 다이아와 아데나 재화 정보를 확인할 수 있습니다.\\n\\n아이템 맡기기:① 보관 가능한 아이템 : 소지품에 있는 아이템 중 창고에 보관 가능한 아이템을 확인할 수 있습니다. 보관 가능한 아이템을 터치하면 장바구니 항목으로 이동되며 장착한 아이템은 보관할 수 없습니다.\\n\\n② 장바구니 등록 : 보관하고 싶은 아이템 목록을 확인할 수 있습니다.\\n\\n③ 무게 정보 : 소지품에 있는 아이템을 장바구니에 넣을 때마다 감소하는 무게 게이지를 보여줍니다. 단, 장바구니에 등록된 아이템의 무게가 존재해야만 합니다.', metadata={'name': '창고 시스템', 'summary': '소지품에 있는 아이템을 맡기거나 찾을 수 있는 공간 입니다.', 'paragraphList': '소개:<p>창고는 소지품에 있는 아이템을 맡기거나 찾을 수 있는 공간으로 창고에 있는 아이템은 계정 내 캐릭터 모두 공유할 수 있습니다.</p><p>&lt;리니지M&gt;에서는 캐릭터의 STR과 CON, 아이템에 붙어있는 무게 게이지에 따라 인벤토리에 넣을 수 있는 소지품의 한계치(최대 무게)가 결정됩니다.</p><p>무게 게이지가 50% 이상이 되면 다양한 패널티를 받기 때문에 불필요한 아이템은 상점에 팔거나 창고에 보관해서 무게 게이지를 관리해야 합니다.</p><p><strong>&lt;무게 게이지에 따른 패널티&gt;</strong></p><p>* 50% 이상 : HP 및 MP 자동 회복 불가</p><p>* 83% 이상 : 공격 및 마법 사용 불가</p><p><br></p>'}), Document(page_content='④ 수량 입력 : 소지품에서 아이템을 선택한 후 수량 입력 시 입력된 수량만큼 장바구니에 등록됩니다. 장바구니에 등록된 아이템을 선택한 후 수량 입력하면 입력된 수량만큼 재 등록됩니다.\\n\\n⑤ 창고 : 창고에 보관 중인 아이템 목록을 확인할 수 있습니다.\\n\\n⑥ 모두 맡기기 : 장바구니에 등록된 아이템이 있는 상태에서 모두 맡기기 버튼을 누르면 등록된 아이템이 창고에 보관됩니다. 단, 창고 소지품 슬롯이 부족할 경우에는 모두 맡기기를 할 수 없습니다.\\n\\n아이템 찾기:① 찾기 가능한 아이템 : 창고에 보관중인 아이템을 확인할 수 있으며 보관된 아이템은 모두 찾을 수 있습니다.\\n\\n② 장바구니 등록 : 창고에 보관중인 아이템 중 찾고 싶은 아이템을 선택하면 장바구니로 등록됩니다.', metadata={'name': '창고 시스템', 'summary': '소지품에 있는 아이템을 맡기거나 찾을 수 있는 공간 입니다.', 'paragraphList': '소개:<p>창고는 소지품에 있는 아이템을 맡기거나 찾을 수 있는 공간으로 창고에 있는 아이템은 계정 내 캐릭터 모두 공유할 수 있습니다.</p><p>&lt;리니지M&gt;에서는 캐릭터의 STR과 CON, 아이템에 붙어있는 무게 게이지에 따라 인벤토리에 넣을 수 있는 소지품의 한계치(최대 무게)가 결정됩니다.</p><p>무게 게이지가 50% 이상이 되면 다양한 패널티를 받기 때문에 불필요한 아이템은 상점에 팔거나 창고에 보관해서 무게 게이지를 관리해야 합니다.</p><p><strong>&lt;무게 게이지에 따른 패널티&gt;</strong></p><p>* 50% 이상 : HP 및 MP 자동 회복 불가</p><p>* 83% 이상 : 공격 및 마법 사용 불가</p><p><br></p>'}), Document(page_content='③ 무게 정보 : 창고에 있는 아이템을 장바구니에 넣을 때마다 증가하는 무게 게이지를 보여줍니다. 단, 장바구니에 등록된 아이템의 무게가 존재해야만 합니다.\\n\\n④ 찾기 수수료 : 찾을 아이템의 수량과 상관없이 아이템 한 슬롯당 수수료로 300 아데나를 지불해야 합니다. 예를 들어 3개의 아이템을 찾으려면 900 아데나를 수수료로 지불해야 합니다.\\n\\n⑤ 수량 입력 : 창고에서 아이템을 선택한 후 수량 입력 시 입력된 수량만큼 장바구니에 등록됩니다. 장바구니에 등록된 아이템을 선택한 후 수량 입력 시 입력된 수량만큼 다시 등록됩니다.\\n\\n⑥ 소지품 : 소지품에 있는 아이템을 확인할 수 있으며 우측 하단부분에서 소지품에 있는 아이템의 수량도 확인할 수 있습니다.', metadata={'name': '창고 시스템', 'summary': '소지품에 있는 아이템을 맡기거나 찾을 수 있는 공간 입니다.', 'paragraphList': '소개:<p>창고는 소지품에 있는 아이템을 맡기거나 찾을 수 있는 공간으로 창고에 있는 아이템은 계정 내 캐릭터 모두 공유할 수 있습니다.</p><p>&lt;리니지M&gt;에서는 캐릭터의 STR과 CON, 아이템에 붙어있는 무게 게이지에 따라 인벤토리에 넣을 수 있는 소지품의 한계치(최대 무게)가 결정됩니다.</p><p>무게 게이지가 50% 이상이 되면 다양한 패널티를 받기 때문에 불필요한 아이템은 상점에 팔거나 창고에 보관해서 무게 게이지를 관리해야 합니다.</p><p><strong>&lt;무게 게이지에 따른 패널티&gt;</strong></p><p>* 50% 이상 : HP 및 MP 자동 회복 불가</p><p>* 83% 이상 : 공격 및 마법 사용 불가</p><p><br></p>'}), Document(page_content='⑦ 모두 찾기 : 장바구니에 등록한 아이템이 있는 상태에서 모두 찾기 버튼을 터치하면 등록된 아이템이 소지품으로 이동합니다. 찾기 수수료로 지불할 아데나가 부족하거나 지불할 아데나가 부족한 경우 아이템을 찾을 수 없습니다.\\n\\n창고 슬롯 확장:창고 슬롯은 최대 200칸까지 확장이 가능하며 창고 슬롯 확장 시 4칸당 50 다이아가 필요합니다.\\xa0\\n\\n잠금 영역을 터치하면 슬롯 확장 창이 출력되며, 비용이 충분한 상태에서 확인 버튼을 누르면 창고 슬롯 4칸씩 확장됩니다.', metadata={'name': '창고 시스템', 'summary': '소지품에 있는 아이템을 맡기거나 찾을 수 있는 공간 입니다.', 'paragraphList': '소개:<p>창고는 소지품에 있는 아이템을 맡기거나 찾을 수 있는 공간으로 창고에 있는 아이템은 계정 내 캐릭터 모두 공유할 수 있습니다.</p><p>&lt;리니지M&gt;에서는 캐릭터의 STR과 CON, 아이템에 붙어있는 무게 게이지에 따라 인벤토리에 넣을 수 있는 소지품의 한계치(최대 무게)가 결정됩니다.</p><p>무게 게이지가 50% 이상이 되면 다양한 패널티를 받기 때문에 불필요한 아이템은 상점에 팔거나 창고에 보관해서 무게 게이지를 관리해야 합니다.</p><p><strong>&lt;무게 게이지에 따른 패널티&gt;</strong></p><p>* 50% 이상 : HP 및 MP 자동 회복 불가</p><p>* 83% 이상 : 공격 및 마법 사용 불가</p><p><br></p>'})]\n",
            "소개:창고는 소지품에 있는 아이템을 맡기거나 찾을 수 있는 공간으로 창고에 있는 아이템은 계정 내 캐릭터 모두 공유할 수 있습니다.\n",
            "\n",
            "<리니지M>에서는 캐릭터의 STR과 CON, 아이템에 붙어있는 무게 게이지에 따라 인벤토리에 넣을 수 있는 소지품의 한계치(최대 무게)가 결정됩니다.\n",
            "\n",
            "무게 게이지가 50% 이상이 되면 다양한 패널티를 받기 때문에 불필요한 아이템은 상점에 팔거나 창고에 보관해서 무게 게이지를 관리해야 합니다.\n",
            "\n",
            "**<무게 게이지에 따른 패널티>**\n",
            "\n",
            "\\* 50% 이상 : HP 및 MP 자동 회복 불가\n",
            "\n",
            "\\* 83% 이상 : 공격 및 마법 사용 불가\n"
          ]
        }
      ]
    },
    {
      "cell_type": "code",
      "source": [
        "from langchain_community.vectorstores import Chroma\n",
        "from langchain.embeddings import HuggingFaceEmbeddings\n",
        "\n",
        "\n",
        "# VectorDB\n",
        "model_name = \"jhgan/ko-sbert-nli\"\n",
        "encode_kwargs = {'normalize_embeddings': True}\n",
        "ko_embedding = HuggingFaceEmbeddings(\n",
        "    model_name=model_name,\n",
        "    encode_kwargs=encode_kwargs\n",
        ")\n",
        "\n",
        "vectordb = Chroma.from_documents(documents=split_docs, embedding=ko_embedding)"
      ],
      "metadata": {
        "id": "e6KrXlQCzj4r"
      },
      "execution_count": 187,
      "outputs": []
    },
    {
      "cell_type": "code",
      "source": [
        "PromptTemplate(llm, \"캐릭터 무게 게이지 패널티 정보 알려줘\")"
      ],
      "metadata": {
        "id": "VEjE0_Ur4k-7"
      },
      "execution_count": null,
      "outputs": []
    },
    {
      "cell_type": "code",
      "source": [
        "similar_docs = vectordb.similarity_search(\"캐릭터 무게 게이지 패널티 정보 알려줘\")\n",
        "print(similar_docs[0].page_content)"
      ],
      "metadata": {
        "colab": {
          "base_uri": "https://localhost:8080/"
        },
        "id": "SBgprNqp2F-f",
        "outputId": "fb361746-b287-4e3e-b5ce-d8856e670061"
      },
      "execution_count": 192,
      "outputs": [
        {
          "output_type": "stream",
          "name": "stderr",
          "text": [
            "WARNING:chromadb.segment.impl.vector.local_hnsw:Number of requested results 4 is greater than number of elements in index 1, updating n_results = 1\n"
          ]
        },
        {
          "output_type": "stream",
          "name": "stdout",
          "text": [
            "창고는 소지품에 있는 아이템을 맡기거나 찾을 수 있는 공간으로 창고에 있는 아이템은 계정 내 캐릭터 모두 공유할 수 있습니다.\n",
            "\n",
            "<리니지M>에서는 캐릭터의 STR과 CON, 아이템에 붙어있는 무게 게이지에 따라 인벤토리에 넣을 수 있는 소지품의 한계치(최대 무게)가 결정됩니다.\n",
            "\n",
            "무게 게이지가 50% 이상이 되면 다양한 패널티를 받기 때문에 불필요한 아이템은 상점에 팔거나 창고에 보관해서 무게 게이지를 관리해야 합니다.\n",
            "\n",
            "**<무게 게이지에 따른 패널티>**\n",
            "\n",
            "\\* 50% 이상 : HP 및 MP 자동 회복 불가\n",
            "\n",
            "\\* 83% 이상 : 공격 및 마법 사용 불가\n"
          ]
        }
      ]
    }
  ]
}