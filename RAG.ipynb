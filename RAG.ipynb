{
  "nbformat": 4,
  "nbformat_minor": 0,
  "metadata": {
    "colab": {
      "provenance": [],
      "toc_visible": true,
      "authorship_tag": "ABX9TyNQtqK0Mslgk/vHbyxU9/68",
      "include_colab_link": true
    },
    "kernelspec": {
      "name": "python3",
      "display_name": "Python 3"
    },
    "language_info": {
      "name": "python"
    }
  },
  "cells": [
    {
      "cell_type": "markdown",
      "metadata": {
        "id": "view-in-github",
        "colab_type": "text"
      },
      "source": [
        "<a href=\"https://colab.research.google.com/github/HasunJung/llm_langchain/blob/main/RAG.ipynb\" target=\"_parent\"><img src=\"https://colab.research.google.com/assets/colab-badge.svg\" alt=\"Open In Colab\"/></a>"
      ]
    },
    {
      "cell_type": "markdown",
      "source": [
        "chat bot"
      ],
      "metadata": {
        "id": "va5RhKMfhbws"
      }
    },
    {
      "cell_type": "code",
      "execution_count": 186,
      "metadata": {
        "colab": {
          "base_uri": "https://localhost:8080/"
        },
        "id": "dLVf1PF1fIpy",
        "outputId": "d54ec516-f375-48f1-87dd-1a9ce0df47be"
      },
      "outputs": [
        {
          "output_type": "stream",
          "name": "stdout",
          "text": [
            "\u001b[2K     \u001b[90m━━━━━━━━━━━━━━━━━━━━━━━━━━━━━━━━━━━━━━━━\u001b[0m \u001b[32m526.8/526.8 kB\u001b[0m \u001b[31m5.9 MB/s\u001b[0m eta \u001b[36m0:00:00\u001b[0m\n",
            "\u001b[2K     \u001b[90m━━━━━━━━━━━━━━━━━━━━━━━━━━━━━━━━━━━━━━━━\u001b[0m \u001b[32m2.4/2.4 MB\u001b[0m \u001b[31m15.7 MB/s\u001b[0m eta \u001b[36m0:00:00\u001b[0m\n",
            "\u001b[2K     \u001b[90m━━━━━━━━━━━━━━━━━━━━━━━━━━━━━━━━━━━━━━━━\u001b[0m \u001b[32m92.0/92.0 kB\u001b[0m \u001b[31m9.3 MB/s\u001b[0m eta \u001b[36m0:00:00\u001b[0m\n",
            "\u001b[2K     \u001b[90m━━━━━━━━━━━━━━━━━━━━━━━━━━━━━━━━━━━━━━━━\u001b[0m \u001b[32m60.8/60.8 kB\u001b[0m \u001b[31m6.4 MB/s\u001b[0m eta \u001b[36m0:00:00\u001b[0m\n",
            "\u001b[2K     \u001b[90m━━━━━━━━━━━━━━━━━━━━━━━━━━━━━━━━━━━━━━━━\u001b[0m \u001b[32m41.3/41.3 kB\u001b[0m \u001b[31m3.1 MB/s\u001b[0m eta \u001b[36m0:00:00\u001b[0m\n",
            "\u001b[2K     \u001b[90m━━━━━━━━━━━━━━━━━━━━━━━━━━━━━━━━━━━━━━━━\u001b[0m \u001b[32m6.8/6.8 MB\u001b[0m \u001b[31m26.3 MB/s\u001b[0m eta \u001b[36m0:00:00\u001b[0m\n",
            "\u001b[2K     \u001b[90m━━━━━━━━━━━━━━━━━━━━━━━━━━━━━━━━━━━━━━━━\u001b[0m \u001b[32m60.1/60.1 kB\u001b[0m \u001b[31m6.8 MB/s\u001b[0m eta \u001b[36m0:00:00\u001b[0m\n",
            "\u001b[2K     \u001b[90m━━━━━━━━━━━━━━━━━━━━━━━━━━━━━━━━━━━━━━━━\u001b[0m \u001b[32m106.1/106.1 kB\u001b[0m \u001b[31m8.3 MB/s\u001b[0m eta \u001b[36m0:00:00\u001b[0m\n",
            "\u001b[2K     \u001b[90m━━━━━━━━━━━━━━━━━━━━━━━━━━━━━━━━━━━━━━━━\u001b[0m \u001b[32m67.3/67.3 kB\u001b[0m \u001b[31m7.2 MB/s\u001b[0m eta \u001b[36m0:00:00\u001b[0m\n",
            "\u001b[?25h  Installing build dependencies ... \u001b[?25l\u001b[?25hdone\n",
            "  Getting requirements to build wheel ... \u001b[?25l\u001b[?25hdone\n",
            "  Preparing metadata (pyproject.toml) ... \u001b[?25l\u001b[?25hdone\n",
            "\u001b[2K     \u001b[90m━━━━━━━━━━━━━━━━━━━━━━━━━━━━━━━━━━━━━━━━\u001b[0m \u001b[32m283.7/283.7 kB\u001b[0m \u001b[31m22.3 MB/s\u001b[0m eta \u001b[36m0:00:00\u001b[0m\n",
            "\u001b[2K     \u001b[90m━━━━━━━━━━━━━━━━━━━━━━━━━━━━━━━━━━━━━━━━\u001b[0m \u001b[32m1.6/1.6 MB\u001b[0m \u001b[31m36.6 MB/s\u001b[0m eta \u001b[36m0:00:00\u001b[0m\n",
            "\u001b[2K     \u001b[90m━━━━━━━━━━━━━━━━━━━━━━━━━━━━━━━━━━━━━━━━\u001b[0m \u001b[32m67.6/67.6 kB\u001b[0m \u001b[31m6.7 MB/s\u001b[0m eta \u001b[36m0:00:00\u001b[0m\n",
            "\u001b[2K     \u001b[90m━━━━━━━━━━━━━━━━━━━━━━━━━━━━━━━━━━━━━━━━\u001b[0m \u001b[32m71.9/71.9 kB\u001b[0m \u001b[31m7.1 MB/s\u001b[0m eta \u001b[36m0:00:00\u001b[0m\n",
            "\u001b[2K     \u001b[90m━━━━━━━━━━━━━━━━━━━━━━━━━━━━━━━━━━━━━━━━\u001b[0m \u001b[32m75.6/75.6 kB\u001b[0m \u001b[31m7.1 MB/s\u001b[0m eta \u001b[36m0:00:00\u001b[0m\n",
            "\u001b[2K     \u001b[90m━━━━━━━━━━━━━━━━━━━━━━━━━━━━━━━━━━━━━━━━\u001b[0m \u001b[32m53.2/53.2 kB\u001b[0m \u001b[31m5.3 MB/s\u001b[0m eta \u001b[36m0:00:00\u001b[0m\n",
            "\u001b[2K     \u001b[90m━━━━━━━━━━━━━━━━━━━━━━━━━━━━━━━━━━━━━━━━\u001b[0m \u001b[32m46.0/46.0 kB\u001b[0m \u001b[31m3.4 MB/s\u001b[0m eta \u001b[36m0:00:00\u001b[0m\n",
            "\u001b[2K     \u001b[90m━━━━━━━━━━━━━━━━━━━━━━━━━━━━━━━━━━━━━━━━\u001b[0m \u001b[32m50.8/50.8 kB\u001b[0m \u001b[31m5.2 MB/s\u001b[0m eta \u001b[36m0:00:00\u001b[0m\n",
            "\u001b[2K     \u001b[90m━━━━━━━━━━━━━━━━━━━━━━━━━━━━━━━━━━━━━━━━\u001b[0m \u001b[32m58.3/58.3 kB\u001b[0m \u001b[31m5.8 MB/s\u001b[0m eta \u001b[36m0:00:00\u001b[0m\n",
            "\u001b[2K     \u001b[90m━━━━━━━━━━━━━━━━━━━━━━━━━━━━━━━━━━━━━━━━\u001b[0m \u001b[32m341.4/341.4 kB\u001b[0m \u001b[31m30.1 MB/s\u001b[0m eta \u001b[36m0:00:00\u001b[0m\n",
            "\u001b[2K     \u001b[90m━━━━━━━━━━━━━━━━━━━━━━━━━━━━━━━━━━━━━━━━\u001b[0m \u001b[32m3.4/3.4 MB\u001b[0m \u001b[31m46.5 MB/s\u001b[0m eta \u001b[36m0:00:00\u001b[0m\n",
            "\u001b[2K     \u001b[90m━━━━━━━━━━━━━━━━━━━━━━━━━━━━━━━━━━━━━━━━\u001b[0m \u001b[32m1.3/1.3 MB\u001b[0m \u001b[31m55.0 MB/s\u001b[0m eta \u001b[36m0:00:00\u001b[0m\n",
            "\u001b[2K     \u001b[90m━━━━━━━━━━━━━━━━━━━━━━━━━━━━━━━━━━━━━━━━\u001b[0m \u001b[32m130.2/130.2 kB\u001b[0m \u001b[31m13.4 MB/s\u001b[0m eta \u001b[36m0:00:00\u001b[0m\n",
            "\u001b[2K     \u001b[90m━━━━━━━━━━━━━━━━━━━━━━━━━━━━━━━━━━━━━━━━\u001b[0m \u001b[32m307.7/307.7 kB\u001b[0m \u001b[31m29.4 MB/s\u001b[0m eta \u001b[36m0:00:00\u001b[0m\n",
            "\u001b[2K     \u001b[90m━━━━━━━━━━━━━━━━━━━━━━━━━━━━━━━━━━━━━━━━\u001b[0m \u001b[32m47.2/47.2 kB\u001b[0m \u001b[31m5.0 MB/s\u001b[0m eta \u001b[36m0:00:00\u001b[0m\n",
            "\u001b[2K     \u001b[90m━━━━━━━━━━━━━━━━━━━━━━━━━━━━━━━━━━━━━━━━\u001b[0m \u001b[32m77.9/77.9 kB\u001b[0m \u001b[31m5.6 MB/s\u001b[0m eta \u001b[36m0:00:00\u001b[0m\n",
            "\u001b[2K     \u001b[90m━━━━━━━━━━━━━━━━━━━━━━━━━━━━━━━━━━━━━━━━\u001b[0m \u001b[32m86.8/86.8 kB\u001b[0m \u001b[31m8.7 MB/s\u001b[0m eta \u001b[36m0:00:00\u001b[0m\n",
            "\u001b[?25h  Building wheel for pypika (pyproject.toml) ... \u001b[?25l\u001b[?25hdone\n",
            "\u001b[31mERROR: pip's dependency resolver does not currently take into account all the packages that are installed. This behaviour is the source of the following dependency conflicts.\n",
            "spacy 3.7.4 requires typer<0.10.0,>=0.3.0, but you have typer 0.12.3 which is incompatible.\n",
            "weasel 0.3.4 requires typer<0.10.0,>=0.3.0, but you have typer 0.12.3 which is incompatible.\u001b[0m\u001b[31m\n",
            "\u001b[0m"
          ]
        }
      ],
      "source": [
        "#최초 실행이라면\n",
        "!pip install -q langchain langchain-google-genai pandas kor langchain-text-splitters sentence-transformers chromadb\n",
        "\n",
        "import os\n",
        "from google.colab import userdata\n",
        "os.environ['GOOGLE_API_KEY'] = userdata.get('GOOGLE_API_KEY')\n",
        "\n",
        "from langchain_google_genai import ChatGoogleGenerativeAI\n",
        "from langchain.prompts import PromptTemplate\n",
        "\n",
        "# ChatGoogleGenerativeAI 언어 모델을 \"gemini-pro\" 모델로 초기화합니다. 답변의 일관성을 위해 temperature는 0으로 설정\n",
        "llm = ChatGoogleGenerativeAI(model=\"gemini-pro\", temperature=0)"
      ]
    },
    {
      "cell_type": "markdown",
      "source": [
        "# Document Loaders"
      ],
      "metadata": {
        "id": "lN4UIb5MYyk3"
      }
    },
    {
      "cell_type": "code",
      "source": [
        "import ssl\n",
        "import urllib.request\n",
        "from IPython.display import Markdown\n",
        "import json\n",
        "\n",
        "url = 'https://lineagem.plaync.com/api/v2/lineagem/guide/%EC%B0%BD%EA%B3%A0%20%EC%8B%9C%EC%8A%A4%ED%85%9C'\n",
        "\n",
        "# Set up SSL context to allow legacy TLS versions\n",
        "ctx = ssl.create_default_context(ssl.Purpose.SERVER_AUTH)\n",
        "ctx.options |= 0x4  # OP_LEGACY_SERVER_CONNECT\n",
        "\n",
        "response = urllib.request.urlopen(url, context=ctx)\n",
        "guide_data = response.read().decode(\"utf-8\")\n",
        "\n",
        "guide_json = json.loads(guide_data)\n",
        "\n"
      ],
      "metadata": {
        "id": "-A9n6BH9R5Oi"
      },
      "execution_count": 146,
      "outputs": []
    },
    {
      "cell_type": "code",
      "source": [
        "import pandas as pd\n",
        "\n",
        "df = pd.DataFrame({\n",
        "    'name' : guide_json['name'],\n",
        "    'summary' : guide_json['summary'],\n",
        "    'content' : guide_json['content'],\n",
        "    'paragraphList' : guide_json['paragraphList'],\n",
        "    'test' : guide_json['paragraphList']['0']['content']\n",
        "}, index=[0])\n",
        "\n",
        "\n",
        "\n",
        "#print(len(guide_json['paragraphList']))\n",
        "\n",
        "from langchain_community.document_loaders import DataFrameLoader\n",
        "\n",
        "\n",
        "loader = DataFrameLoader(df, page_content_column = 'test')\n",
        "docs = loader.load()\n",
        "\n",
        "print(docs[0].page_content)\n"
      ],
      "metadata": {
        "id": "uHMRVPiNbDla",
        "outputId": "d65545c5-616e-4c78-c0c3-0dad8f486911",
        "colab": {
          "base_uri": "https://localhost:8080/"
        }
      },
      "execution_count": 171,
      "outputs": [
        {
          "output_type": "stream",
          "name": "stdout",
          "text": [
            "<p>창고는 소지품에 있는 아이템을 맡기거나 찾을 수 있는 공간으로 창고에 있는 아이템은 계정 내 캐릭터 모두 공유할 수 있습니다.</p><p>&lt;리니지M&gt;에서는 캐릭터의 STR과 CON, 아이템에 붙어있는 무게 게이지에 따라 인벤토리에 넣을 수 있는 소지품의 한계치(최대 무게)가 결정됩니다.</p><p>무게 게이지가 50% 이상이 되면 다양한 패널티를 받기 때문에 불필요한 아이템은 상점에 팔거나 창고에 보관해서 무게 게이지를 관리해야 합니다.</p><p><strong>&lt;무게 게이지에 따른 패널티&gt;</strong></p><p>* 50% 이상 : HP 및 MP 자동 회복 불가</p><p>* 83% 이상 : 공격 및 마법 사용 불가</p><p><br></p>\n"
          ]
        }
      ]
    },
    {
      "cell_type": "markdown",
      "source": [
        "# RecursiveCharacterTextSplitter"
      ],
      "metadata": {
        "id": "Y2jq3-zKpwyl"
      }
    },
    {
      "cell_type": "code",
      "source": [
        "from kor.documents.html import MarkdownifyHTMLProcessor\n",
        "md = MarkdownifyHTMLProcessor().process(docs[0])\n",
        "\n",
        "\n",
        "from langchain_text_splitters import RecursiveCharacterTextSplitter\n",
        "split_docs = RecursiveCharacterTextSplitter(chunk_size=400, chunk_overlap=0).split_documents([md])\n",
        "\n",
        "print(split_docs[0].page_content)\n",
        ""
      ],
      "metadata": {
        "id": "ZjBNjzxqqBNs",
        "outputId": "bd1929aa-aa4c-4240-868a-203b0e918c2d",
        "colab": {
          "base_uri": "https://localhost:8080/"
        }
      },
      "execution_count": 182,
      "outputs": [
        {
          "output_type": "stream",
          "name": "stdout",
          "text": [
            "창고는 소지품에 있는 아이템을 맡기거나 찾을 수 있는 공간으로 창고에 있는 아이템은 계정 내 캐릭터 모두 공유할 수 있습니다.\n",
            "\n",
            "<리니지M>에서는 캐릭터의 STR과 CON, 아이템에 붙어있는 무게 게이지에 따라 인벤토리에 넣을 수 있는 소지품의 한계치(최대 무게)가 결정됩니다.\n",
            "\n",
            "무게 게이지가 50% 이상이 되면 다양한 패널티를 받기 때문에 불필요한 아이템은 상점에 팔거나 창고에 보관해서 무게 게이지를 관리해야 합니다.\n",
            "\n",
            "**<무게 게이지에 따른 패널티>**\n",
            "\n",
            "\\* 50% 이상 : HP 및 MP 자동 회복 불가\n",
            "\n",
            "\\* 83% 이상 : 공격 및 마법 사용 불가\n"
          ]
        }
      ]
    },
    {
      "cell_type": "code",
      "source": [
        "from langchain_community.vectorstores import Chroma\n",
        "from langchain.embeddings import HuggingFaceEmbeddings\n",
        "\n",
        "\n",
        "# VectorDB\n",
        "model_name = \"jhgan/ko-sbert-nli\"\n",
        "encode_kwargs = {'normalize_embeddings': True}\n",
        "ko_embedding = HuggingFaceEmbeddings(\n",
        "    model_name=model_name,\n",
        "    encode_kwargs=encode_kwargs\n",
        ")\n",
        "\n",
        "vectordb = Chroma.from_documents(documents=split_docs, embedding=ko_embedding)"
      ],
      "metadata": {
        "id": "e6KrXlQCzj4r"
      },
      "execution_count": 187,
      "outputs": []
    },
    {
      "cell_type": "code",
      "source": [
        "similar_docs = vectordb.similarity_search(\"창고 무게 게이지에 따른 패널티를 설명해줘\")\n",
        "print(similar_docs[0].page_content)"
      ],
      "metadata": {
        "id": "SBgprNqp2F-f",
        "outputId": "02d02913-9380-4ca8-e112-f65dfe410e93",
        "colab": {
          "base_uri": "https://localhost:8080/"
        }
      },
      "execution_count": 191,
      "outputs": [
        {
          "output_type": "stream",
          "name": "stderr",
          "text": [
            "WARNING:chromadb.segment.impl.vector.local_hnsw:Number of requested results 4 is greater than number of elements in index 1, updating n_results = 1\n"
          ]
        },
        {
          "output_type": "stream",
          "name": "stdout",
          "text": [
            "창고는 소지품에 있는 아이템을 맡기거나 찾을 수 있는 공간으로 창고에 있는 아이템은 계정 내 캐릭터 모두 공유할 수 있습니다.\n",
            "\n",
            "<리니지M>에서는 캐릭터의 STR과 CON, 아이템에 붙어있는 무게 게이지에 따라 인벤토리에 넣을 수 있는 소지품의 한계치(최대 무게)가 결정됩니다.\n",
            "\n",
            "무게 게이지가 50% 이상이 되면 다양한 패널티를 받기 때문에 불필요한 아이템은 상점에 팔거나 창고에 보관해서 무게 게이지를 관리해야 합니다.\n",
            "\n",
            "**<무게 게이지에 따른 패널티>**\n",
            "\n",
            "\\* 50% 이상 : HP 및 MP 자동 회복 불가\n",
            "\n",
            "\\* 83% 이상 : 공격 및 마법 사용 불가\n"
          ]
        }
      ]
    }
  ]
}