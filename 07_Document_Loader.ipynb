{
  "nbformat": 4,
  "nbformat_minor": 0,
  "metadata": {
    "colab": {
      "provenance": [],
      "toc_visible": true,
      "authorship_tag": "ABX9TyNUNzl4CeXeBwwKeeAtruAs",
      "include_colab_link": true
    },
    "kernelspec": {
      "name": "python3",
      "display_name": "Python 3"
    },
    "language_info": {
      "name": "python"
    },
    "widgets": {
      "application/vnd.jupyter.widget-state+json": {
        "6be565ecf8e44be5ac752c751361dd75": {
          "model_module": "@jupyter-widgets/controls",
          "model_name": "HBoxModel",
          "model_module_version": "1.5.0",
          "state": {
            "_dom_classes": [],
            "_model_module": "@jupyter-widgets/controls",
            "_model_module_version": "1.5.0",
            "_model_name": "HBoxModel",
            "_view_count": null,
            "_view_module": "@jupyter-widgets/controls",
            "_view_module_version": "1.5.0",
            "_view_name": "HBoxView",
            "box_style": "",
            "children": [
              "IPY_MODEL_4b83afc02d564b15bd259e57d350dc41",
              "IPY_MODEL_3d88589b70ed4663a1e7e2c46cb8cf55",
              "IPY_MODEL_471dc910575c4eab9d12f3cf0e629d7c"
            ],
            "layout": "IPY_MODEL_a45c1fe3680b4812ab5eba7de10fed22"
          }
        },
        "4b83afc02d564b15bd259e57d350dc41": {
          "model_module": "@jupyter-widgets/controls",
          "model_name": "HTMLModel",
          "model_module_version": "1.5.0",
          "state": {
            "_dom_classes": [],
            "_model_module": "@jupyter-widgets/controls",
            "_model_module_version": "1.5.0",
            "_model_name": "HTMLModel",
            "_view_count": null,
            "_view_module": "@jupyter-widgets/controls",
            "_view_module_version": "1.5.0",
            "_view_name": "HTMLView",
            "description": "",
            "description_tooltip": null,
            "layout": "IPY_MODEL_9001fca00d4b483d89efcd0c95377e1e",
            "placeholder": "​",
            "style": "IPY_MODEL_6cc024ddee0d43ebbb373ef545d97be7",
            "value": "Downloading readme: 100%"
          }
        },
        "3d88589b70ed4663a1e7e2c46cb8cf55": {
          "model_module": "@jupyter-widgets/controls",
          "model_name": "FloatProgressModel",
          "model_module_version": "1.5.0",
          "state": {
            "_dom_classes": [],
            "_model_module": "@jupyter-widgets/controls",
            "_model_module_version": "1.5.0",
            "_model_name": "FloatProgressModel",
            "_view_count": null,
            "_view_module": "@jupyter-widgets/controls",
            "_view_module_version": "1.5.0",
            "_view_name": "ProgressView",
            "bar_style": "success",
            "description": "",
            "description_tooltip": null,
            "layout": "IPY_MODEL_7a8065c75670478ea1dfa87b22634c1b",
            "max": 7809,
            "min": 0,
            "orientation": "horizontal",
            "style": "IPY_MODEL_7ecb068c5ef54ac7b1ae0ababe40d64c",
            "value": 7809
          }
        },
        "471dc910575c4eab9d12f3cf0e629d7c": {
          "model_module": "@jupyter-widgets/controls",
          "model_name": "HTMLModel",
          "model_module_version": "1.5.0",
          "state": {
            "_dom_classes": [],
            "_model_module": "@jupyter-widgets/controls",
            "_model_module_version": "1.5.0",
            "_model_name": "HTMLModel",
            "_view_count": null,
            "_view_module": "@jupyter-widgets/controls",
            "_view_module_version": "1.5.0",
            "_view_name": "HTMLView",
            "description": "",
            "description_tooltip": null,
            "layout": "IPY_MODEL_313ecf489c004e79a6b3860eb67ffdf2",
            "placeholder": "​",
            "style": "IPY_MODEL_c50164a2f48e425eba5d47e7d5b5a91a",
            "value": " 7.81k/7.81k [00:00&lt;00:00, 270kB/s]"
          }
        },
        "a45c1fe3680b4812ab5eba7de10fed22": {
          "model_module": "@jupyter-widgets/base",
          "model_name": "LayoutModel",
          "model_module_version": "1.2.0",
          "state": {
            "_model_module": "@jupyter-widgets/base",
            "_model_module_version": "1.2.0",
            "_model_name": "LayoutModel",
            "_view_count": null,
            "_view_module": "@jupyter-widgets/base",
            "_view_module_version": "1.2.0",
            "_view_name": "LayoutView",
            "align_content": null,
            "align_items": null,
            "align_self": null,
            "border": null,
            "bottom": null,
            "display": null,
            "flex": null,
            "flex_flow": null,
            "grid_area": null,
            "grid_auto_columns": null,
            "grid_auto_flow": null,
            "grid_auto_rows": null,
            "grid_column": null,
            "grid_gap": null,
            "grid_row": null,
            "grid_template_areas": null,
            "grid_template_columns": null,
            "grid_template_rows": null,
            "height": null,
            "justify_content": null,
            "justify_items": null,
            "left": null,
            "margin": null,
            "max_height": null,
            "max_width": null,
            "min_height": null,
            "min_width": null,
            "object_fit": null,
            "object_position": null,
            "order": null,
            "overflow": null,
            "overflow_x": null,
            "overflow_y": null,
            "padding": null,
            "right": null,
            "top": null,
            "visibility": null,
            "width": null
          }
        },
        "9001fca00d4b483d89efcd0c95377e1e": {
          "model_module": "@jupyter-widgets/base",
          "model_name": "LayoutModel",
          "model_module_version": "1.2.0",
          "state": {
            "_model_module": "@jupyter-widgets/base",
            "_model_module_version": "1.2.0",
            "_model_name": "LayoutModel",
            "_view_count": null,
            "_view_module": "@jupyter-widgets/base",
            "_view_module_version": "1.2.0",
            "_view_name": "LayoutView",
            "align_content": null,
            "align_items": null,
            "align_self": null,
            "border": null,
            "bottom": null,
            "display": null,
            "flex": null,
            "flex_flow": null,
            "grid_area": null,
            "grid_auto_columns": null,
            "grid_auto_flow": null,
            "grid_auto_rows": null,
            "grid_column": null,
            "grid_gap": null,
            "grid_row": null,
            "grid_template_areas": null,
            "grid_template_columns": null,
            "grid_template_rows": null,
            "height": null,
            "justify_content": null,
            "justify_items": null,
            "left": null,
            "margin": null,
            "max_height": null,
            "max_width": null,
            "min_height": null,
            "min_width": null,
            "object_fit": null,
            "object_position": null,
            "order": null,
            "overflow": null,
            "overflow_x": null,
            "overflow_y": null,
            "padding": null,
            "right": null,
            "top": null,
            "visibility": null,
            "width": null
          }
        },
        "6cc024ddee0d43ebbb373ef545d97be7": {
          "model_module": "@jupyter-widgets/controls",
          "model_name": "DescriptionStyleModel",
          "model_module_version": "1.5.0",
          "state": {
            "_model_module": "@jupyter-widgets/controls",
            "_model_module_version": "1.5.0",
            "_model_name": "DescriptionStyleModel",
            "_view_count": null,
            "_view_module": "@jupyter-widgets/base",
            "_view_module_version": "1.2.0",
            "_view_name": "StyleView",
            "description_width": ""
          }
        },
        "7a8065c75670478ea1dfa87b22634c1b": {
          "model_module": "@jupyter-widgets/base",
          "model_name": "LayoutModel",
          "model_module_version": "1.2.0",
          "state": {
            "_model_module": "@jupyter-widgets/base",
            "_model_module_version": "1.2.0",
            "_model_name": "LayoutModel",
            "_view_count": null,
            "_view_module": "@jupyter-widgets/base",
            "_view_module_version": "1.2.0",
            "_view_name": "LayoutView",
            "align_content": null,
            "align_items": null,
            "align_self": null,
            "border": null,
            "bottom": null,
            "display": null,
            "flex": null,
            "flex_flow": null,
            "grid_area": null,
            "grid_auto_columns": null,
            "grid_auto_flow": null,
            "grid_auto_rows": null,
            "grid_column": null,
            "grid_gap": null,
            "grid_row": null,
            "grid_template_areas": null,
            "grid_template_columns": null,
            "grid_template_rows": null,
            "height": null,
            "justify_content": null,
            "justify_items": null,
            "left": null,
            "margin": null,
            "max_height": null,
            "max_width": null,
            "min_height": null,
            "min_width": null,
            "object_fit": null,
            "object_position": null,
            "order": null,
            "overflow": null,
            "overflow_x": null,
            "overflow_y": null,
            "padding": null,
            "right": null,
            "top": null,
            "visibility": null,
            "width": null
          }
        },
        "7ecb068c5ef54ac7b1ae0ababe40d64c": {
          "model_module": "@jupyter-widgets/controls",
          "model_name": "ProgressStyleModel",
          "model_module_version": "1.5.0",
          "state": {
            "_model_module": "@jupyter-widgets/controls",
            "_model_module_version": "1.5.0",
            "_model_name": "ProgressStyleModel",
            "_view_count": null,
            "_view_module": "@jupyter-widgets/base",
            "_view_module_version": "1.2.0",
            "_view_name": "StyleView",
            "bar_color": null,
            "description_width": ""
          }
        },
        "313ecf489c004e79a6b3860eb67ffdf2": {
          "model_module": "@jupyter-widgets/base",
          "model_name": "LayoutModel",
          "model_module_version": "1.2.0",
          "state": {
            "_model_module": "@jupyter-widgets/base",
            "_model_module_version": "1.2.0",
            "_model_name": "LayoutModel",
            "_view_count": null,
            "_view_module": "@jupyter-widgets/base",
            "_view_module_version": "1.2.0",
            "_view_name": "LayoutView",
            "align_content": null,
            "align_items": null,
            "align_self": null,
            "border": null,
            "bottom": null,
            "display": null,
            "flex": null,
            "flex_flow": null,
            "grid_area": null,
            "grid_auto_columns": null,
            "grid_auto_flow": null,
            "grid_auto_rows": null,
            "grid_column": null,
            "grid_gap": null,
            "grid_row": null,
            "grid_template_areas": null,
            "grid_template_columns": null,
            "grid_template_rows": null,
            "height": null,
            "justify_content": null,
            "justify_items": null,
            "left": null,
            "margin": null,
            "max_height": null,
            "max_width": null,
            "min_height": null,
            "min_width": null,
            "object_fit": null,
            "object_position": null,
            "order": null,
            "overflow": null,
            "overflow_x": null,
            "overflow_y": null,
            "padding": null,
            "right": null,
            "top": null,
            "visibility": null,
            "width": null
          }
        },
        "c50164a2f48e425eba5d47e7d5b5a91a": {
          "model_module": "@jupyter-widgets/controls",
          "model_name": "DescriptionStyleModel",
          "model_module_version": "1.5.0",
          "state": {
            "_model_module": "@jupyter-widgets/controls",
            "_model_module_version": "1.5.0",
            "_model_name": "DescriptionStyleModel",
            "_view_count": null,
            "_view_module": "@jupyter-widgets/base",
            "_view_module_version": "1.2.0",
            "_view_name": "StyleView",
            "description_width": ""
          }
        },
        "ed39e7628b43473884fcb0f7004c34ba": {
          "model_module": "@jupyter-widgets/controls",
          "model_name": "HBoxModel",
          "model_module_version": "1.5.0",
          "state": {
            "_dom_classes": [],
            "_model_module": "@jupyter-widgets/controls",
            "_model_module_version": "1.5.0",
            "_model_name": "HBoxModel",
            "_view_count": null,
            "_view_module": "@jupyter-widgets/controls",
            "_view_module_version": "1.5.0",
            "_view_name": "HBoxView",
            "box_style": "",
            "children": [
              "IPY_MODEL_616578503bdc443aaa8264f8c8d48e49",
              "IPY_MODEL_c578aa25a473406cb4c588e48e7ae9aa",
              "IPY_MODEL_e549da6dd4524d969806ecc38018a94b"
            ],
            "layout": "IPY_MODEL_7f38309b32c242fbaf0b727260541b35"
          }
        },
        "616578503bdc443aaa8264f8c8d48e49": {
          "model_module": "@jupyter-widgets/controls",
          "model_name": "HTMLModel",
          "model_module_version": "1.5.0",
          "state": {
            "_dom_classes": [],
            "_model_module": "@jupyter-widgets/controls",
            "_model_module_version": "1.5.0",
            "_model_name": "HTMLModel",
            "_view_count": null,
            "_view_module": "@jupyter-widgets/controls",
            "_view_module_version": "1.5.0",
            "_view_name": "HTMLView",
            "description": "",
            "description_tooltip": null,
            "layout": "IPY_MODEL_401d979d47f145fca1986dc172782496",
            "placeholder": "​",
            "style": "IPY_MODEL_39191e76d8a0427eb276380f5aad7f6b",
            "value": "Downloading data: 100%"
          }
        },
        "c578aa25a473406cb4c588e48e7ae9aa": {
          "model_module": "@jupyter-widgets/controls",
          "model_name": "FloatProgressModel",
          "model_module_version": "1.5.0",
          "state": {
            "_dom_classes": [],
            "_model_module": "@jupyter-widgets/controls",
            "_model_module_version": "1.5.0",
            "_model_name": "FloatProgressModel",
            "_view_count": null,
            "_view_module": "@jupyter-widgets/controls",
            "_view_module_version": "1.5.0",
            "_view_name": "ProgressView",
            "bar_style": "success",
            "description": "",
            "description_tooltip": null,
            "layout": "IPY_MODEL_fab21dfee7f1482097be13045b9e089b",
            "max": 20979968,
            "min": 0,
            "orientation": "horizontal",
            "style": "IPY_MODEL_3fe3fa49b26147919bc9ac4470723193",
            "value": 20979968
          }
        },
        "e549da6dd4524d969806ecc38018a94b": {
          "model_module": "@jupyter-widgets/controls",
          "model_name": "HTMLModel",
          "model_module_version": "1.5.0",
          "state": {
            "_dom_classes": [],
            "_model_module": "@jupyter-widgets/controls",
            "_model_module_version": "1.5.0",
            "_model_name": "HTMLModel",
            "_view_count": null,
            "_view_module": "@jupyter-widgets/controls",
            "_view_module_version": "1.5.0",
            "_view_name": "HTMLView",
            "description": "",
            "description_tooltip": null,
            "layout": "IPY_MODEL_0c5446be5f464b9885ba31f665fc3bd8",
            "placeholder": "​",
            "style": "IPY_MODEL_3deb79894995413fa1ec4cef2ed4a7c0",
            "value": " 21.0M/21.0M [00:00&lt;00:00, 38.0MB/s]"
          }
        },
        "7f38309b32c242fbaf0b727260541b35": {
          "model_module": "@jupyter-widgets/base",
          "model_name": "LayoutModel",
          "model_module_version": "1.2.0",
          "state": {
            "_model_module": "@jupyter-widgets/base",
            "_model_module_version": "1.2.0",
            "_model_name": "LayoutModel",
            "_view_count": null,
            "_view_module": "@jupyter-widgets/base",
            "_view_module_version": "1.2.0",
            "_view_name": "LayoutView",
            "align_content": null,
            "align_items": null,
            "align_self": null,
            "border": null,
            "bottom": null,
            "display": null,
            "flex": null,
            "flex_flow": null,
            "grid_area": null,
            "grid_auto_columns": null,
            "grid_auto_flow": null,
            "grid_auto_rows": null,
            "grid_column": null,
            "grid_gap": null,
            "grid_row": null,
            "grid_template_areas": null,
            "grid_template_columns": null,
            "grid_template_rows": null,
            "height": null,
            "justify_content": null,
            "justify_items": null,
            "left": null,
            "margin": null,
            "max_height": null,
            "max_width": null,
            "min_height": null,
            "min_width": null,
            "object_fit": null,
            "object_position": null,
            "order": null,
            "overflow": null,
            "overflow_x": null,
            "overflow_y": null,
            "padding": null,
            "right": null,
            "top": null,
            "visibility": null,
            "width": null
          }
        },
        "401d979d47f145fca1986dc172782496": {
          "model_module": "@jupyter-widgets/base",
          "model_name": "LayoutModel",
          "model_module_version": "1.2.0",
          "state": {
            "_model_module": "@jupyter-widgets/base",
            "_model_module_version": "1.2.0",
            "_model_name": "LayoutModel",
            "_view_count": null,
            "_view_module": "@jupyter-widgets/base",
            "_view_module_version": "1.2.0",
            "_view_name": "LayoutView",
            "align_content": null,
            "align_items": null,
            "align_self": null,
            "border": null,
            "bottom": null,
            "display": null,
            "flex": null,
            "flex_flow": null,
            "grid_area": null,
            "grid_auto_columns": null,
            "grid_auto_flow": null,
            "grid_auto_rows": null,
            "grid_column": null,
            "grid_gap": null,
            "grid_row": null,
            "grid_template_areas": null,
            "grid_template_columns": null,
            "grid_template_rows": null,
            "height": null,
            "justify_content": null,
            "justify_items": null,
            "left": null,
            "margin": null,
            "max_height": null,
            "max_width": null,
            "min_height": null,
            "min_width": null,
            "object_fit": null,
            "object_position": null,
            "order": null,
            "overflow": null,
            "overflow_x": null,
            "overflow_y": null,
            "padding": null,
            "right": null,
            "top": null,
            "visibility": null,
            "width": null
          }
        },
        "39191e76d8a0427eb276380f5aad7f6b": {
          "model_module": "@jupyter-widgets/controls",
          "model_name": "DescriptionStyleModel",
          "model_module_version": "1.5.0",
          "state": {
            "_model_module": "@jupyter-widgets/controls",
            "_model_module_version": "1.5.0",
            "_model_name": "DescriptionStyleModel",
            "_view_count": null,
            "_view_module": "@jupyter-widgets/base",
            "_view_module_version": "1.2.0",
            "_view_name": "StyleView",
            "description_width": ""
          }
        },
        "fab21dfee7f1482097be13045b9e089b": {
          "model_module": "@jupyter-widgets/base",
          "model_name": "LayoutModel",
          "model_module_version": "1.2.0",
          "state": {
            "_model_module": "@jupyter-widgets/base",
            "_model_module_version": "1.2.0",
            "_model_name": "LayoutModel",
            "_view_count": null,
            "_view_module": "@jupyter-widgets/base",
            "_view_module_version": "1.2.0",
            "_view_name": "LayoutView",
            "align_content": null,
            "align_items": null,
            "align_self": null,
            "border": null,
            "bottom": null,
            "display": null,
            "flex": null,
            "flex_flow": null,
            "grid_area": null,
            "grid_auto_columns": null,
            "grid_auto_flow": null,
            "grid_auto_rows": null,
            "grid_column": null,
            "grid_gap": null,
            "grid_row": null,
            "grid_template_areas": null,
            "grid_template_columns": null,
            "grid_template_rows": null,
            "height": null,
            "justify_content": null,
            "justify_items": null,
            "left": null,
            "margin": null,
            "max_height": null,
            "max_width": null,
            "min_height": null,
            "min_width": null,
            "object_fit": null,
            "object_position": null,
            "order": null,
            "overflow": null,
            "overflow_x": null,
            "overflow_y": null,
            "padding": null,
            "right": null,
            "top": null,
            "visibility": null,
            "width": null
          }
        },
        "3fe3fa49b26147919bc9ac4470723193": {
          "model_module": "@jupyter-widgets/controls",
          "model_name": "ProgressStyleModel",
          "model_module_version": "1.5.0",
          "state": {
            "_model_module": "@jupyter-widgets/controls",
            "_model_module_version": "1.5.0",
            "_model_name": "ProgressStyleModel",
            "_view_count": null,
            "_view_module": "@jupyter-widgets/base",
            "_view_module_version": "1.2.0",
            "_view_name": "StyleView",
            "bar_color": null,
            "description_width": ""
          }
        },
        "0c5446be5f464b9885ba31f665fc3bd8": {
          "model_module": "@jupyter-widgets/base",
          "model_name": "LayoutModel",
          "model_module_version": "1.2.0",
          "state": {
            "_model_module": "@jupyter-widgets/base",
            "_model_module_version": "1.2.0",
            "_model_name": "LayoutModel",
            "_view_count": null,
            "_view_module": "@jupyter-widgets/base",
            "_view_module_version": "1.2.0",
            "_view_name": "LayoutView",
            "align_content": null,
            "align_items": null,
            "align_self": null,
            "border": null,
            "bottom": null,
            "display": null,
            "flex": null,
            "flex_flow": null,
            "grid_area": null,
            "grid_auto_columns": null,
            "grid_auto_flow": null,
            "grid_auto_rows": null,
            "grid_column": null,
            "grid_gap": null,
            "grid_row": null,
            "grid_template_areas": null,
            "grid_template_columns": null,
            "grid_template_rows": null,
            "height": null,
            "justify_content": null,
            "justify_items": null,
            "left": null,
            "margin": null,
            "max_height": null,
            "max_width": null,
            "min_height": null,
            "min_width": null,
            "object_fit": null,
            "object_position": null,
            "order": null,
            "overflow": null,
            "overflow_x": null,
            "overflow_y": null,
            "padding": null,
            "right": null,
            "top": null,
            "visibility": null,
            "width": null
          }
        },
        "3deb79894995413fa1ec4cef2ed4a7c0": {
          "model_module": "@jupyter-widgets/controls",
          "model_name": "DescriptionStyleModel",
          "model_module_version": "1.5.0",
          "state": {
            "_model_module": "@jupyter-widgets/controls",
            "_model_module_version": "1.5.0",
            "_model_name": "DescriptionStyleModel",
            "_view_count": null,
            "_view_module": "@jupyter-widgets/base",
            "_view_module_version": "1.2.0",
            "_view_name": "StyleView",
            "description_width": ""
          }
        },
        "51811cd5ad754767b311196e4f3e2ef4": {
          "model_module": "@jupyter-widgets/controls",
          "model_name": "HBoxModel",
          "model_module_version": "1.5.0",
          "state": {
            "_dom_classes": [],
            "_model_module": "@jupyter-widgets/controls",
            "_model_module_version": "1.5.0",
            "_model_name": "HBoxModel",
            "_view_count": null,
            "_view_module": "@jupyter-widgets/controls",
            "_view_module_version": "1.5.0",
            "_view_name": "HBoxView",
            "box_style": "",
            "children": [
              "IPY_MODEL_1588ed079672412db090ddb394de9f76",
              "IPY_MODEL_72ac86a2c23040eba86b6d8f6d56eea3",
              "IPY_MODEL_15e18082b20f446396d4e748bfb1b68a"
            ],
            "layout": "IPY_MODEL_9d2402fe175246a4abfb5a9ae94d847b"
          }
        },
        "1588ed079672412db090ddb394de9f76": {
          "model_module": "@jupyter-widgets/controls",
          "model_name": "HTMLModel",
          "model_module_version": "1.5.0",
          "state": {
            "_dom_classes": [],
            "_model_module": "@jupyter-widgets/controls",
            "_model_module_version": "1.5.0",
            "_model_name": "HTMLModel",
            "_view_count": null,
            "_view_module": "@jupyter-widgets/controls",
            "_view_module_version": "1.5.0",
            "_view_name": "HTMLView",
            "description": "",
            "description_tooltip": null,
            "layout": "IPY_MODEL_1d5efaa218f64094874272a854af74f8",
            "placeholder": "​",
            "style": "IPY_MODEL_32c415835b554cbba0f698b36ef6575a",
            "value": "Downloading data: 100%"
          }
        },
        "72ac86a2c23040eba86b6d8f6d56eea3": {
          "model_module": "@jupyter-widgets/controls",
          "model_name": "FloatProgressModel",
          "model_module_version": "1.5.0",
          "state": {
            "_dom_classes": [],
            "_model_module": "@jupyter-widgets/controls",
            "_model_module_version": "1.5.0",
            "_model_name": "FloatProgressModel",
            "_view_count": null,
            "_view_module": "@jupyter-widgets/controls",
            "_view_module_version": "1.5.0",
            "_view_name": "ProgressView",
            "bar_style": "success",
            "description": "",
            "description_tooltip": null,
            "layout": "IPY_MODEL_264ac9d59b2547a88760a2ee682d79cb",
            "max": 20470363,
            "min": 0,
            "orientation": "horizontal",
            "style": "IPY_MODEL_1632bfccca644d2d8d35fa974762b0fd",
            "value": 20470363
          }
        },
        "15e18082b20f446396d4e748bfb1b68a": {
          "model_module": "@jupyter-widgets/controls",
          "model_name": "HTMLModel",
          "model_module_version": "1.5.0",
          "state": {
            "_dom_classes": [],
            "_model_module": "@jupyter-widgets/controls",
            "_model_module_version": "1.5.0",
            "_model_name": "HTMLModel",
            "_view_count": null,
            "_view_module": "@jupyter-widgets/controls",
            "_view_module_version": "1.5.0",
            "_view_name": "HTMLView",
            "description": "",
            "description_tooltip": null,
            "layout": "IPY_MODEL_a8d788045cab44d4b464928b1642116a",
            "placeholder": "​",
            "style": "IPY_MODEL_21fda47a02b24533823dd8445c8220f3",
            "value": " 20.5M/20.5M [00:00&lt;00:00, 63.2MB/s]"
          }
        },
        "9d2402fe175246a4abfb5a9ae94d847b": {
          "model_module": "@jupyter-widgets/base",
          "model_name": "LayoutModel",
          "model_module_version": "1.2.0",
          "state": {
            "_model_module": "@jupyter-widgets/base",
            "_model_module_version": "1.2.0",
            "_model_name": "LayoutModel",
            "_view_count": null,
            "_view_module": "@jupyter-widgets/base",
            "_view_module_version": "1.2.0",
            "_view_name": "LayoutView",
            "align_content": null,
            "align_items": null,
            "align_self": null,
            "border": null,
            "bottom": null,
            "display": null,
            "flex": null,
            "flex_flow": null,
            "grid_area": null,
            "grid_auto_columns": null,
            "grid_auto_flow": null,
            "grid_auto_rows": null,
            "grid_column": null,
            "grid_gap": null,
            "grid_row": null,
            "grid_template_areas": null,
            "grid_template_columns": null,
            "grid_template_rows": null,
            "height": null,
            "justify_content": null,
            "justify_items": null,
            "left": null,
            "margin": null,
            "max_height": null,
            "max_width": null,
            "min_height": null,
            "min_width": null,
            "object_fit": null,
            "object_position": null,
            "order": null,
            "overflow": null,
            "overflow_x": null,
            "overflow_y": null,
            "padding": null,
            "right": null,
            "top": null,
            "visibility": null,
            "width": null
          }
        },
        "1d5efaa218f64094874272a854af74f8": {
          "model_module": "@jupyter-widgets/base",
          "model_name": "LayoutModel",
          "model_module_version": "1.2.0",
          "state": {
            "_model_module": "@jupyter-widgets/base",
            "_model_module_version": "1.2.0",
            "_model_name": "LayoutModel",
            "_view_count": null,
            "_view_module": "@jupyter-widgets/base",
            "_view_module_version": "1.2.0",
            "_view_name": "LayoutView",
            "align_content": null,
            "align_items": null,
            "align_self": null,
            "border": null,
            "bottom": null,
            "display": null,
            "flex": null,
            "flex_flow": null,
            "grid_area": null,
            "grid_auto_columns": null,
            "grid_auto_flow": null,
            "grid_auto_rows": null,
            "grid_column": null,
            "grid_gap": null,
            "grid_row": null,
            "grid_template_areas": null,
            "grid_template_columns": null,
            "grid_template_rows": null,
            "height": null,
            "justify_content": null,
            "justify_items": null,
            "left": null,
            "margin": null,
            "max_height": null,
            "max_width": null,
            "min_height": null,
            "min_width": null,
            "object_fit": null,
            "object_position": null,
            "order": null,
            "overflow": null,
            "overflow_x": null,
            "overflow_y": null,
            "padding": null,
            "right": null,
            "top": null,
            "visibility": null,
            "width": null
          }
        },
        "32c415835b554cbba0f698b36ef6575a": {
          "model_module": "@jupyter-widgets/controls",
          "model_name": "DescriptionStyleModel",
          "model_module_version": "1.5.0",
          "state": {
            "_model_module": "@jupyter-widgets/controls",
            "_model_module_version": "1.5.0",
            "_model_name": "DescriptionStyleModel",
            "_view_count": null,
            "_view_module": "@jupyter-widgets/base",
            "_view_module_version": "1.2.0",
            "_view_name": "StyleView",
            "description_width": ""
          }
        },
        "264ac9d59b2547a88760a2ee682d79cb": {
          "model_module": "@jupyter-widgets/base",
          "model_name": "LayoutModel",
          "model_module_version": "1.2.0",
          "state": {
            "_model_module": "@jupyter-widgets/base",
            "_model_module_version": "1.2.0",
            "_model_name": "LayoutModel",
            "_view_count": null,
            "_view_module": "@jupyter-widgets/base",
            "_view_module_version": "1.2.0",
            "_view_name": "LayoutView",
            "align_content": null,
            "align_items": null,
            "align_self": null,
            "border": null,
            "bottom": null,
            "display": null,
            "flex": null,
            "flex_flow": null,
            "grid_area": null,
            "grid_auto_columns": null,
            "grid_auto_flow": null,
            "grid_auto_rows": null,
            "grid_column": null,
            "grid_gap": null,
            "grid_row": null,
            "grid_template_areas": null,
            "grid_template_columns": null,
            "grid_template_rows": null,
            "height": null,
            "justify_content": null,
            "justify_items": null,
            "left": null,
            "margin": null,
            "max_height": null,
            "max_width": null,
            "min_height": null,
            "min_width": null,
            "object_fit": null,
            "object_position": null,
            "order": null,
            "overflow": null,
            "overflow_x": null,
            "overflow_y": null,
            "padding": null,
            "right": null,
            "top": null,
            "visibility": null,
            "width": null
          }
        },
        "1632bfccca644d2d8d35fa974762b0fd": {
          "model_module": "@jupyter-widgets/controls",
          "model_name": "ProgressStyleModel",
          "model_module_version": "1.5.0",
          "state": {
            "_model_module": "@jupyter-widgets/controls",
            "_model_module_version": "1.5.0",
            "_model_name": "ProgressStyleModel",
            "_view_count": null,
            "_view_module": "@jupyter-widgets/base",
            "_view_module_version": "1.2.0",
            "_view_name": "StyleView",
            "bar_color": null,
            "description_width": ""
          }
        },
        "a8d788045cab44d4b464928b1642116a": {
          "model_module": "@jupyter-widgets/base",
          "model_name": "LayoutModel",
          "model_module_version": "1.2.0",
          "state": {
            "_model_module": "@jupyter-widgets/base",
            "_model_module_version": "1.2.0",
            "_model_name": "LayoutModel",
            "_view_count": null,
            "_view_module": "@jupyter-widgets/base",
            "_view_module_version": "1.2.0",
            "_view_name": "LayoutView",
            "align_content": null,
            "align_items": null,
            "align_self": null,
            "border": null,
            "bottom": null,
            "display": null,
            "flex": null,
            "flex_flow": null,
            "grid_area": null,
            "grid_auto_columns": null,
            "grid_auto_flow": null,
            "grid_auto_rows": null,
            "grid_column": null,
            "grid_gap": null,
            "grid_row": null,
            "grid_template_areas": null,
            "grid_template_columns": null,
            "grid_template_rows": null,
            "height": null,
            "justify_content": null,
            "justify_items": null,
            "left": null,
            "margin": null,
            "max_height": null,
            "max_width": null,
            "min_height": null,
            "min_width": null,
            "object_fit": null,
            "object_position": null,
            "order": null,
            "overflow": null,
            "overflow_x": null,
            "overflow_y": null,
            "padding": null,
            "right": null,
            "top": null,
            "visibility": null,
            "width": null
          }
        },
        "21fda47a02b24533823dd8445c8220f3": {
          "model_module": "@jupyter-widgets/controls",
          "model_name": "DescriptionStyleModel",
          "model_module_version": "1.5.0",
          "state": {
            "_model_module": "@jupyter-widgets/controls",
            "_model_module_version": "1.5.0",
            "_model_name": "DescriptionStyleModel",
            "_view_count": null,
            "_view_module": "@jupyter-widgets/base",
            "_view_module_version": "1.2.0",
            "_view_name": "StyleView",
            "description_width": ""
          }
        },
        "09a53c17ccc043ff9e850cb58357255d": {
          "model_module": "@jupyter-widgets/controls",
          "model_name": "HBoxModel",
          "model_module_version": "1.5.0",
          "state": {
            "_dom_classes": [],
            "_model_module": "@jupyter-widgets/controls",
            "_model_module_version": "1.5.0",
            "_model_name": "HBoxModel",
            "_view_count": null,
            "_view_module": "@jupyter-widgets/controls",
            "_view_module_version": "1.5.0",
            "_view_name": "HBoxView",
            "box_style": "",
            "children": [
              "IPY_MODEL_42ca8511d87645f2bec59584a84c8364",
              "IPY_MODEL_4b300cda50954d9aaf490cbf87e04364",
              "IPY_MODEL_ec0dc6c38e0c4ee9928d8c528a88152b"
            ],
            "layout": "IPY_MODEL_0b171f079b3f41c6989453eb0b7eb518"
          }
        },
        "42ca8511d87645f2bec59584a84c8364": {
          "model_module": "@jupyter-widgets/controls",
          "model_name": "HTMLModel",
          "model_module_version": "1.5.0",
          "state": {
            "_dom_classes": [],
            "_model_module": "@jupyter-widgets/controls",
            "_model_module_version": "1.5.0",
            "_model_name": "HTMLModel",
            "_view_count": null,
            "_view_module": "@jupyter-widgets/controls",
            "_view_module_version": "1.5.0",
            "_view_name": "HTMLView",
            "description": "",
            "description_tooltip": null,
            "layout": "IPY_MODEL_f5e074395a3347f6b2a34714e7d2b17c",
            "placeholder": "​",
            "style": "IPY_MODEL_9272bcffe86c497298754e649df02e91",
            "value": "Downloading data: 100%"
          }
        },
        "4b300cda50954d9aaf490cbf87e04364": {
          "model_module": "@jupyter-widgets/controls",
          "model_name": "FloatProgressModel",
          "model_module_version": "1.5.0",
          "state": {
            "_dom_classes": [],
            "_model_module": "@jupyter-widgets/controls",
            "_model_module_version": "1.5.0",
            "_model_name": "FloatProgressModel",
            "_view_count": null,
            "_view_module": "@jupyter-widgets/controls",
            "_view_module_version": "1.5.0",
            "_view_name": "ProgressView",
            "bar_style": "success",
            "description": "",
            "description_tooltip": null,
            "layout": "IPY_MODEL_cc16ba1f317040648c32dda10bd5953b",
            "max": 41996509,
            "min": 0,
            "orientation": "horizontal",
            "style": "IPY_MODEL_e31aa84d6d2041f997048556624e025f",
            "value": 41996509
          }
        },
        "ec0dc6c38e0c4ee9928d8c528a88152b": {
          "model_module": "@jupyter-widgets/controls",
          "model_name": "HTMLModel",
          "model_module_version": "1.5.0",
          "state": {
            "_dom_classes": [],
            "_model_module": "@jupyter-widgets/controls",
            "_model_module_version": "1.5.0",
            "_model_name": "HTMLModel",
            "_view_count": null,
            "_view_module": "@jupyter-widgets/controls",
            "_view_module_version": "1.5.0",
            "_view_name": "HTMLView",
            "description": "",
            "description_tooltip": null,
            "layout": "IPY_MODEL_8302793592a8445c840c578d195bc746",
            "placeholder": "​",
            "style": "IPY_MODEL_d338f2ee7d774d3f8f5971a2463925a6",
            "value": " 42.0M/42.0M [00:00&lt;00:00, 82.0MB/s]"
          }
        },
        "0b171f079b3f41c6989453eb0b7eb518": {
          "model_module": "@jupyter-widgets/base",
          "model_name": "LayoutModel",
          "model_module_version": "1.2.0",
          "state": {
            "_model_module": "@jupyter-widgets/base",
            "_model_module_version": "1.2.0",
            "_model_name": "LayoutModel",
            "_view_count": null,
            "_view_module": "@jupyter-widgets/base",
            "_view_module_version": "1.2.0",
            "_view_name": "LayoutView",
            "align_content": null,
            "align_items": null,
            "align_self": null,
            "border": null,
            "bottom": null,
            "display": null,
            "flex": null,
            "flex_flow": null,
            "grid_area": null,
            "grid_auto_columns": null,
            "grid_auto_flow": null,
            "grid_auto_rows": null,
            "grid_column": null,
            "grid_gap": null,
            "grid_row": null,
            "grid_template_areas": null,
            "grid_template_columns": null,
            "grid_template_rows": null,
            "height": null,
            "justify_content": null,
            "justify_items": null,
            "left": null,
            "margin": null,
            "max_height": null,
            "max_width": null,
            "min_height": null,
            "min_width": null,
            "object_fit": null,
            "object_position": null,
            "order": null,
            "overflow": null,
            "overflow_x": null,
            "overflow_y": null,
            "padding": null,
            "right": null,
            "top": null,
            "visibility": null,
            "width": null
          }
        },
        "f5e074395a3347f6b2a34714e7d2b17c": {
          "model_module": "@jupyter-widgets/base",
          "model_name": "LayoutModel",
          "model_module_version": "1.2.0",
          "state": {
            "_model_module": "@jupyter-widgets/base",
            "_model_module_version": "1.2.0",
            "_model_name": "LayoutModel",
            "_view_count": null,
            "_view_module": "@jupyter-widgets/base",
            "_view_module_version": "1.2.0",
            "_view_name": "LayoutView",
            "align_content": null,
            "align_items": null,
            "align_self": null,
            "border": null,
            "bottom": null,
            "display": null,
            "flex": null,
            "flex_flow": null,
            "grid_area": null,
            "grid_auto_columns": null,
            "grid_auto_flow": null,
            "grid_auto_rows": null,
            "grid_column": null,
            "grid_gap": null,
            "grid_row": null,
            "grid_template_areas": null,
            "grid_template_columns": null,
            "grid_template_rows": null,
            "height": null,
            "justify_content": null,
            "justify_items": null,
            "left": null,
            "margin": null,
            "max_height": null,
            "max_width": null,
            "min_height": null,
            "min_width": null,
            "object_fit": null,
            "object_position": null,
            "order": null,
            "overflow": null,
            "overflow_x": null,
            "overflow_y": null,
            "padding": null,
            "right": null,
            "top": null,
            "visibility": null,
            "width": null
          }
        },
        "9272bcffe86c497298754e649df02e91": {
          "model_module": "@jupyter-widgets/controls",
          "model_name": "DescriptionStyleModel",
          "model_module_version": "1.5.0",
          "state": {
            "_model_module": "@jupyter-widgets/controls",
            "_model_module_version": "1.5.0",
            "_model_name": "DescriptionStyleModel",
            "_view_count": null,
            "_view_module": "@jupyter-widgets/base",
            "_view_module_version": "1.2.0",
            "_view_name": "StyleView",
            "description_width": ""
          }
        },
        "cc16ba1f317040648c32dda10bd5953b": {
          "model_module": "@jupyter-widgets/base",
          "model_name": "LayoutModel",
          "model_module_version": "1.2.0",
          "state": {
            "_model_module": "@jupyter-widgets/base",
            "_model_module_version": "1.2.0",
            "_model_name": "LayoutModel",
            "_view_count": null,
            "_view_module": "@jupyter-widgets/base",
            "_view_module_version": "1.2.0",
            "_view_name": "LayoutView",
            "align_content": null,
            "align_items": null,
            "align_self": null,
            "border": null,
            "bottom": null,
            "display": null,
            "flex": null,
            "flex_flow": null,
            "grid_area": null,
            "grid_auto_columns": null,
            "grid_auto_flow": null,
            "grid_auto_rows": null,
            "grid_column": null,
            "grid_gap": null,
            "grid_row": null,
            "grid_template_areas": null,
            "grid_template_columns": null,
            "grid_template_rows": null,
            "height": null,
            "justify_content": null,
            "justify_items": null,
            "left": null,
            "margin": null,
            "max_height": null,
            "max_width": null,
            "min_height": null,
            "min_width": null,
            "object_fit": null,
            "object_position": null,
            "order": null,
            "overflow": null,
            "overflow_x": null,
            "overflow_y": null,
            "padding": null,
            "right": null,
            "top": null,
            "visibility": null,
            "width": null
          }
        },
        "e31aa84d6d2041f997048556624e025f": {
          "model_module": "@jupyter-widgets/controls",
          "model_name": "ProgressStyleModel",
          "model_module_version": "1.5.0",
          "state": {
            "_model_module": "@jupyter-widgets/controls",
            "_model_module_version": "1.5.0",
            "_model_name": "ProgressStyleModel",
            "_view_count": null,
            "_view_module": "@jupyter-widgets/base",
            "_view_module_version": "1.2.0",
            "_view_name": "StyleView",
            "bar_color": null,
            "description_width": ""
          }
        },
        "8302793592a8445c840c578d195bc746": {
          "model_module": "@jupyter-widgets/base",
          "model_name": "LayoutModel",
          "model_module_version": "1.2.0",
          "state": {
            "_model_module": "@jupyter-widgets/base",
            "_model_module_version": "1.2.0",
            "_model_name": "LayoutModel",
            "_view_count": null,
            "_view_module": "@jupyter-widgets/base",
            "_view_module_version": "1.2.0",
            "_view_name": "LayoutView",
            "align_content": null,
            "align_items": null,
            "align_self": null,
            "border": null,
            "bottom": null,
            "display": null,
            "flex": null,
            "flex_flow": null,
            "grid_area": null,
            "grid_auto_columns": null,
            "grid_auto_flow": null,
            "grid_auto_rows": null,
            "grid_column": null,
            "grid_gap": null,
            "grid_row": null,
            "grid_template_areas": null,
            "grid_template_columns": null,
            "grid_template_rows": null,
            "height": null,
            "justify_content": null,
            "justify_items": null,
            "left": null,
            "margin": null,
            "max_height": null,
            "max_width": null,
            "min_height": null,
            "min_width": null,
            "object_fit": null,
            "object_position": null,
            "order": null,
            "overflow": null,
            "overflow_x": null,
            "overflow_y": null,
            "padding": null,
            "right": null,
            "top": null,
            "visibility": null,
            "width": null
          }
        },
        "d338f2ee7d774d3f8f5971a2463925a6": {
          "model_module": "@jupyter-widgets/controls",
          "model_name": "DescriptionStyleModel",
          "model_module_version": "1.5.0",
          "state": {
            "_model_module": "@jupyter-widgets/controls",
            "_model_module_version": "1.5.0",
            "_model_name": "DescriptionStyleModel",
            "_view_count": null,
            "_view_module": "@jupyter-widgets/base",
            "_view_module_version": "1.2.0",
            "_view_name": "StyleView",
            "description_width": ""
          }
        },
        "339267f5679d4af785491b44d8c99a83": {
          "model_module": "@jupyter-widgets/controls",
          "model_name": "HBoxModel",
          "model_module_version": "1.5.0",
          "state": {
            "_dom_classes": [],
            "_model_module": "@jupyter-widgets/controls",
            "_model_module_version": "1.5.0",
            "_model_name": "HBoxModel",
            "_view_count": null,
            "_view_module": "@jupyter-widgets/controls",
            "_view_module_version": "1.5.0",
            "_view_name": "HBoxView",
            "box_style": "",
            "children": [
              "IPY_MODEL_01f963530c3e43e3a6ce5c83ceb45573",
              "IPY_MODEL_3c820c98e31b4cc788fdb7e2b0a3eced",
              "IPY_MODEL_da2acd116a2943bca4eaade0dd917423"
            ],
            "layout": "IPY_MODEL_cb1792a0beee436ab0d7923732e2ce20"
          }
        },
        "01f963530c3e43e3a6ce5c83ceb45573": {
          "model_module": "@jupyter-widgets/controls",
          "model_name": "HTMLModel",
          "model_module_version": "1.5.0",
          "state": {
            "_dom_classes": [],
            "_model_module": "@jupyter-widgets/controls",
            "_model_module_version": "1.5.0",
            "_model_name": "HTMLModel",
            "_view_count": null,
            "_view_module": "@jupyter-widgets/controls",
            "_view_module_version": "1.5.0",
            "_view_name": "HTMLView",
            "description": "",
            "description_tooltip": null,
            "layout": "IPY_MODEL_bbbe0b677ce142efb32ba3fa6fb717fd",
            "placeholder": "​",
            "style": "IPY_MODEL_50228dd3feef4c278081a034a5b317f8",
            "value": "Generating train split: 100%"
          }
        },
        "3c820c98e31b4cc788fdb7e2b0a3eced": {
          "model_module": "@jupyter-widgets/controls",
          "model_name": "FloatProgressModel",
          "model_module_version": "1.5.0",
          "state": {
            "_dom_classes": [],
            "_model_module": "@jupyter-widgets/controls",
            "_model_module_version": "1.5.0",
            "_model_name": "FloatProgressModel",
            "_view_count": null,
            "_view_module": "@jupyter-widgets/controls",
            "_view_module_version": "1.5.0",
            "_view_name": "ProgressView",
            "bar_style": "success",
            "description": "",
            "description_tooltip": null,
            "layout": "IPY_MODEL_5458bf2e794244e69d9c42ff32509293",
            "max": 25000,
            "min": 0,
            "orientation": "horizontal",
            "style": "IPY_MODEL_93493fba23d14036a0d35922ca675a63",
            "value": 25000
          }
        },
        "da2acd116a2943bca4eaade0dd917423": {
          "model_module": "@jupyter-widgets/controls",
          "model_name": "HTMLModel",
          "model_module_version": "1.5.0",
          "state": {
            "_dom_classes": [],
            "_model_module": "@jupyter-widgets/controls",
            "_model_module_version": "1.5.0",
            "_model_name": "HTMLModel",
            "_view_count": null,
            "_view_module": "@jupyter-widgets/controls",
            "_view_module_version": "1.5.0",
            "_view_name": "HTMLView",
            "description": "",
            "description_tooltip": null,
            "layout": "IPY_MODEL_88fe1748300d49248cd299fe5ed665e8",
            "placeholder": "​",
            "style": "IPY_MODEL_b1aa9ca0c86549f9ac62edb27d6ac56b",
            "value": " 25000/25000 [00:00&lt;00:00, 79287.64 examples/s]"
          }
        },
        "cb1792a0beee436ab0d7923732e2ce20": {
          "model_module": "@jupyter-widgets/base",
          "model_name": "LayoutModel",
          "model_module_version": "1.2.0",
          "state": {
            "_model_module": "@jupyter-widgets/base",
            "_model_module_version": "1.2.0",
            "_model_name": "LayoutModel",
            "_view_count": null,
            "_view_module": "@jupyter-widgets/base",
            "_view_module_version": "1.2.0",
            "_view_name": "LayoutView",
            "align_content": null,
            "align_items": null,
            "align_self": null,
            "border": null,
            "bottom": null,
            "display": null,
            "flex": null,
            "flex_flow": null,
            "grid_area": null,
            "grid_auto_columns": null,
            "grid_auto_flow": null,
            "grid_auto_rows": null,
            "grid_column": null,
            "grid_gap": null,
            "grid_row": null,
            "grid_template_areas": null,
            "grid_template_columns": null,
            "grid_template_rows": null,
            "height": null,
            "justify_content": null,
            "justify_items": null,
            "left": null,
            "margin": null,
            "max_height": null,
            "max_width": null,
            "min_height": null,
            "min_width": null,
            "object_fit": null,
            "object_position": null,
            "order": null,
            "overflow": null,
            "overflow_x": null,
            "overflow_y": null,
            "padding": null,
            "right": null,
            "top": null,
            "visibility": null,
            "width": null
          }
        },
        "bbbe0b677ce142efb32ba3fa6fb717fd": {
          "model_module": "@jupyter-widgets/base",
          "model_name": "LayoutModel",
          "model_module_version": "1.2.0",
          "state": {
            "_model_module": "@jupyter-widgets/base",
            "_model_module_version": "1.2.0",
            "_model_name": "LayoutModel",
            "_view_count": null,
            "_view_module": "@jupyter-widgets/base",
            "_view_module_version": "1.2.0",
            "_view_name": "LayoutView",
            "align_content": null,
            "align_items": null,
            "align_self": null,
            "border": null,
            "bottom": null,
            "display": null,
            "flex": null,
            "flex_flow": null,
            "grid_area": null,
            "grid_auto_columns": null,
            "grid_auto_flow": null,
            "grid_auto_rows": null,
            "grid_column": null,
            "grid_gap": null,
            "grid_row": null,
            "grid_template_areas": null,
            "grid_template_columns": null,
            "grid_template_rows": null,
            "height": null,
            "justify_content": null,
            "justify_items": null,
            "left": null,
            "margin": null,
            "max_height": null,
            "max_width": null,
            "min_height": null,
            "min_width": null,
            "object_fit": null,
            "object_position": null,
            "order": null,
            "overflow": null,
            "overflow_x": null,
            "overflow_y": null,
            "padding": null,
            "right": null,
            "top": null,
            "visibility": null,
            "width": null
          }
        },
        "50228dd3feef4c278081a034a5b317f8": {
          "model_module": "@jupyter-widgets/controls",
          "model_name": "DescriptionStyleModel",
          "model_module_version": "1.5.0",
          "state": {
            "_model_module": "@jupyter-widgets/controls",
            "_model_module_version": "1.5.0",
            "_model_name": "DescriptionStyleModel",
            "_view_count": null,
            "_view_module": "@jupyter-widgets/base",
            "_view_module_version": "1.2.0",
            "_view_name": "StyleView",
            "description_width": ""
          }
        },
        "5458bf2e794244e69d9c42ff32509293": {
          "model_module": "@jupyter-widgets/base",
          "model_name": "LayoutModel",
          "model_module_version": "1.2.0",
          "state": {
            "_model_module": "@jupyter-widgets/base",
            "_model_module_version": "1.2.0",
            "_model_name": "LayoutModel",
            "_view_count": null,
            "_view_module": "@jupyter-widgets/base",
            "_view_module_version": "1.2.0",
            "_view_name": "LayoutView",
            "align_content": null,
            "align_items": null,
            "align_self": null,
            "border": null,
            "bottom": null,
            "display": null,
            "flex": null,
            "flex_flow": null,
            "grid_area": null,
            "grid_auto_columns": null,
            "grid_auto_flow": null,
            "grid_auto_rows": null,
            "grid_column": null,
            "grid_gap": null,
            "grid_row": null,
            "grid_template_areas": null,
            "grid_template_columns": null,
            "grid_template_rows": null,
            "height": null,
            "justify_content": null,
            "justify_items": null,
            "left": null,
            "margin": null,
            "max_height": null,
            "max_width": null,
            "min_height": null,
            "min_width": null,
            "object_fit": null,
            "object_position": null,
            "order": null,
            "overflow": null,
            "overflow_x": null,
            "overflow_y": null,
            "padding": null,
            "right": null,
            "top": null,
            "visibility": null,
            "width": null
          }
        },
        "93493fba23d14036a0d35922ca675a63": {
          "model_module": "@jupyter-widgets/controls",
          "model_name": "ProgressStyleModel",
          "model_module_version": "1.5.0",
          "state": {
            "_model_module": "@jupyter-widgets/controls",
            "_model_module_version": "1.5.0",
            "_model_name": "ProgressStyleModel",
            "_view_count": null,
            "_view_module": "@jupyter-widgets/base",
            "_view_module_version": "1.2.0",
            "_view_name": "StyleView",
            "bar_color": null,
            "description_width": ""
          }
        },
        "88fe1748300d49248cd299fe5ed665e8": {
          "model_module": "@jupyter-widgets/base",
          "model_name": "LayoutModel",
          "model_module_version": "1.2.0",
          "state": {
            "_model_module": "@jupyter-widgets/base",
            "_model_module_version": "1.2.0",
            "_model_name": "LayoutModel",
            "_view_count": null,
            "_view_module": "@jupyter-widgets/base",
            "_view_module_version": "1.2.0",
            "_view_name": "LayoutView",
            "align_content": null,
            "align_items": null,
            "align_self": null,
            "border": null,
            "bottom": null,
            "display": null,
            "flex": null,
            "flex_flow": null,
            "grid_area": null,
            "grid_auto_columns": null,
            "grid_auto_flow": null,
            "grid_auto_rows": null,
            "grid_column": null,
            "grid_gap": null,
            "grid_row": null,
            "grid_template_areas": null,
            "grid_template_columns": null,
            "grid_template_rows": null,
            "height": null,
            "justify_content": null,
            "justify_items": null,
            "left": null,
            "margin": null,
            "max_height": null,
            "max_width": null,
            "min_height": null,
            "min_width": null,
            "object_fit": null,
            "object_position": null,
            "order": null,
            "overflow": null,
            "overflow_x": null,
            "overflow_y": null,
            "padding": null,
            "right": null,
            "top": null,
            "visibility": null,
            "width": null
          }
        },
        "b1aa9ca0c86549f9ac62edb27d6ac56b": {
          "model_module": "@jupyter-widgets/controls",
          "model_name": "DescriptionStyleModel",
          "model_module_version": "1.5.0",
          "state": {
            "_model_module": "@jupyter-widgets/controls",
            "_model_module_version": "1.5.0",
            "_model_name": "DescriptionStyleModel",
            "_view_count": null,
            "_view_module": "@jupyter-widgets/base",
            "_view_module_version": "1.2.0",
            "_view_name": "StyleView",
            "description_width": ""
          }
        },
        "32f91a85d28a40018fdfc84eb626d81e": {
          "model_module": "@jupyter-widgets/controls",
          "model_name": "HBoxModel",
          "model_module_version": "1.5.0",
          "state": {
            "_dom_classes": [],
            "_model_module": "@jupyter-widgets/controls",
            "_model_module_version": "1.5.0",
            "_model_name": "HBoxModel",
            "_view_count": null,
            "_view_module": "@jupyter-widgets/controls",
            "_view_module_version": "1.5.0",
            "_view_name": "HBoxView",
            "box_style": "",
            "children": [
              "IPY_MODEL_69f6412377754dc8967d258969eb576f",
              "IPY_MODEL_6ed19b83880e4a37b0b7e4a7d98f4a16",
              "IPY_MODEL_e9a496028dc44b43821b331dfdbdb2a5"
            ],
            "layout": "IPY_MODEL_bdb08b6ecff54161b387567a3692c380"
          }
        },
        "69f6412377754dc8967d258969eb576f": {
          "model_module": "@jupyter-widgets/controls",
          "model_name": "HTMLModel",
          "model_module_version": "1.5.0",
          "state": {
            "_dom_classes": [],
            "_model_module": "@jupyter-widgets/controls",
            "_model_module_version": "1.5.0",
            "_model_name": "HTMLModel",
            "_view_count": null,
            "_view_module": "@jupyter-widgets/controls",
            "_view_module_version": "1.5.0",
            "_view_name": "HTMLView",
            "description": "",
            "description_tooltip": null,
            "layout": "IPY_MODEL_bbc74fa328f7407bbeafbcd86d7ce530",
            "placeholder": "​",
            "style": "IPY_MODEL_c5e37faff4654d1d9e2cf5eff3b3b3e6",
            "value": "Generating test split: 100%"
          }
        },
        "6ed19b83880e4a37b0b7e4a7d98f4a16": {
          "model_module": "@jupyter-widgets/controls",
          "model_name": "FloatProgressModel",
          "model_module_version": "1.5.0",
          "state": {
            "_dom_classes": [],
            "_model_module": "@jupyter-widgets/controls",
            "_model_module_version": "1.5.0",
            "_model_name": "FloatProgressModel",
            "_view_count": null,
            "_view_module": "@jupyter-widgets/controls",
            "_view_module_version": "1.5.0",
            "_view_name": "ProgressView",
            "bar_style": "success",
            "description": "",
            "description_tooltip": null,
            "layout": "IPY_MODEL_a8f476a6077c4f0f87096cfd59efc87c",
            "max": 25000,
            "min": 0,
            "orientation": "horizontal",
            "style": "IPY_MODEL_4222af3de8014909859706d9c2c627d3",
            "value": 25000
          }
        },
        "e9a496028dc44b43821b331dfdbdb2a5": {
          "model_module": "@jupyter-widgets/controls",
          "model_name": "HTMLModel",
          "model_module_version": "1.5.0",
          "state": {
            "_dom_classes": [],
            "_model_module": "@jupyter-widgets/controls",
            "_model_module_version": "1.5.0",
            "_model_name": "HTMLModel",
            "_view_count": null,
            "_view_module": "@jupyter-widgets/controls",
            "_view_module_version": "1.5.0",
            "_view_name": "HTMLView",
            "description": "",
            "description_tooltip": null,
            "layout": "IPY_MODEL_48b6be03b8044890a1296c4424a9e3c7",
            "placeholder": "​",
            "style": "IPY_MODEL_20a8712836a84407abb0a556b5770a09",
            "value": " 25000/25000 [00:00&lt;00:00, 73377.06 examples/s]"
          }
        },
        "bdb08b6ecff54161b387567a3692c380": {
          "model_module": "@jupyter-widgets/base",
          "model_name": "LayoutModel",
          "model_module_version": "1.2.0",
          "state": {
            "_model_module": "@jupyter-widgets/base",
            "_model_module_version": "1.2.0",
            "_model_name": "LayoutModel",
            "_view_count": null,
            "_view_module": "@jupyter-widgets/base",
            "_view_module_version": "1.2.0",
            "_view_name": "LayoutView",
            "align_content": null,
            "align_items": null,
            "align_self": null,
            "border": null,
            "bottom": null,
            "display": null,
            "flex": null,
            "flex_flow": null,
            "grid_area": null,
            "grid_auto_columns": null,
            "grid_auto_flow": null,
            "grid_auto_rows": null,
            "grid_column": null,
            "grid_gap": null,
            "grid_row": null,
            "grid_template_areas": null,
            "grid_template_columns": null,
            "grid_template_rows": null,
            "height": null,
            "justify_content": null,
            "justify_items": null,
            "left": null,
            "margin": null,
            "max_height": null,
            "max_width": null,
            "min_height": null,
            "min_width": null,
            "object_fit": null,
            "object_position": null,
            "order": null,
            "overflow": null,
            "overflow_x": null,
            "overflow_y": null,
            "padding": null,
            "right": null,
            "top": null,
            "visibility": null,
            "width": null
          }
        },
        "bbc74fa328f7407bbeafbcd86d7ce530": {
          "model_module": "@jupyter-widgets/base",
          "model_name": "LayoutModel",
          "model_module_version": "1.2.0",
          "state": {
            "_model_module": "@jupyter-widgets/base",
            "_model_module_version": "1.2.0",
            "_model_name": "LayoutModel",
            "_view_count": null,
            "_view_module": "@jupyter-widgets/base",
            "_view_module_version": "1.2.0",
            "_view_name": "LayoutView",
            "align_content": null,
            "align_items": null,
            "align_self": null,
            "border": null,
            "bottom": null,
            "display": null,
            "flex": null,
            "flex_flow": null,
            "grid_area": null,
            "grid_auto_columns": null,
            "grid_auto_flow": null,
            "grid_auto_rows": null,
            "grid_column": null,
            "grid_gap": null,
            "grid_row": null,
            "grid_template_areas": null,
            "grid_template_columns": null,
            "grid_template_rows": null,
            "height": null,
            "justify_content": null,
            "justify_items": null,
            "left": null,
            "margin": null,
            "max_height": null,
            "max_width": null,
            "min_height": null,
            "min_width": null,
            "object_fit": null,
            "object_position": null,
            "order": null,
            "overflow": null,
            "overflow_x": null,
            "overflow_y": null,
            "padding": null,
            "right": null,
            "top": null,
            "visibility": null,
            "width": null
          }
        },
        "c5e37faff4654d1d9e2cf5eff3b3b3e6": {
          "model_module": "@jupyter-widgets/controls",
          "model_name": "DescriptionStyleModel",
          "model_module_version": "1.5.0",
          "state": {
            "_model_module": "@jupyter-widgets/controls",
            "_model_module_version": "1.5.0",
            "_model_name": "DescriptionStyleModel",
            "_view_count": null,
            "_view_module": "@jupyter-widgets/base",
            "_view_module_version": "1.2.0",
            "_view_name": "StyleView",
            "description_width": ""
          }
        },
        "a8f476a6077c4f0f87096cfd59efc87c": {
          "model_module": "@jupyter-widgets/base",
          "model_name": "LayoutModel",
          "model_module_version": "1.2.0",
          "state": {
            "_model_module": "@jupyter-widgets/base",
            "_model_module_version": "1.2.0",
            "_model_name": "LayoutModel",
            "_view_count": null,
            "_view_module": "@jupyter-widgets/base",
            "_view_module_version": "1.2.0",
            "_view_name": "LayoutView",
            "align_content": null,
            "align_items": null,
            "align_self": null,
            "border": null,
            "bottom": null,
            "display": null,
            "flex": null,
            "flex_flow": null,
            "grid_area": null,
            "grid_auto_columns": null,
            "grid_auto_flow": null,
            "grid_auto_rows": null,
            "grid_column": null,
            "grid_gap": null,
            "grid_row": null,
            "grid_template_areas": null,
            "grid_template_columns": null,
            "grid_template_rows": null,
            "height": null,
            "justify_content": null,
            "justify_items": null,
            "left": null,
            "margin": null,
            "max_height": null,
            "max_width": null,
            "min_height": null,
            "min_width": null,
            "object_fit": null,
            "object_position": null,
            "order": null,
            "overflow": null,
            "overflow_x": null,
            "overflow_y": null,
            "padding": null,
            "right": null,
            "top": null,
            "visibility": null,
            "width": null
          }
        },
        "4222af3de8014909859706d9c2c627d3": {
          "model_module": "@jupyter-widgets/controls",
          "model_name": "ProgressStyleModel",
          "model_module_version": "1.5.0",
          "state": {
            "_model_module": "@jupyter-widgets/controls",
            "_model_module_version": "1.5.0",
            "_model_name": "ProgressStyleModel",
            "_view_count": null,
            "_view_module": "@jupyter-widgets/base",
            "_view_module_version": "1.2.0",
            "_view_name": "StyleView",
            "bar_color": null,
            "description_width": ""
          }
        },
        "48b6be03b8044890a1296c4424a9e3c7": {
          "model_module": "@jupyter-widgets/base",
          "model_name": "LayoutModel",
          "model_module_version": "1.2.0",
          "state": {
            "_model_module": "@jupyter-widgets/base",
            "_model_module_version": "1.2.0",
            "_model_name": "LayoutModel",
            "_view_count": null,
            "_view_module": "@jupyter-widgets/base",
            "_view_module_version": "1.2.0",
            "_view_name": "LayoutView",
            "align_content": null,
            "align_items": null,
            "align_self": null,
            "border": null,
            "bottom": null,
            "display": null,
            "flex": null,
            "flex_flow": null,
            "grid_area": null,
            "grid_auto_columns": null,
            "grid_auto_flow": null,
            "grid_auto_rows": null,
            "grid_column": null,
            "grid_gap": null,
            "grid_row": null,
            "grid_template_areas": null,
            "grid_template_columns": null,
            "grid_template_rows": null,
            "height": null,
            "justify_content": null,
            "justify_items": null,
            "left": null,
            "margin": null,
            "max_height": null,
            "max_width": null,
            "min_height": null,
            "min_width": null,
            "object_fit": null,
            "object_position": null,
            "order": null,
            "overflow": null,
            "overflow_x": null,
            "overflow_y": null,
            "padding": null,
            "right": null,
            "top": null,
            "visibility": null,
            "width": null
          }
        },
        "20a8712836a84407abb0a556b5770a09": {
          "model_module": "@jupyter-widgets/controls",
          "model_name": "DescriptionStyleModel",
          "model_module_version": "1.5.0",
          "state": {
            "_model_module": "@jupyter-widgets/controls",
            "_model_module_version": "1.5.0",
            "_model_name": "DescriptionStyleModel",
            "_view_count": null,
            "_view_module": "@jupyter-widgets/base",
            "_view_module_version": "1.2.0",
            "_view_name": "StyleView",
            "description_width": ""
          }
        },
        "4e71ab885e904d09bdf16a8c548d4180": {
          "model_module": "@jupyter-widgets/controls",
          "model_name": "HBoxModel",
          "model_module_version": "1.5.0",
          "state": {
            "_dom_classes": [],
            "_model_module": "@jupyter-widgets/controls",
            "_model_module_version": "1.5.0",
            "_model_name": "HBoxModel",
            "_view_count": null,
            "_view_module": "@jupyter-widgets/controls",
            "_view_module_version": "1.5.0",
            "_view_name": "HBoxView",
            "box_style": "",
            "children": [
              "IPY_MODEL_034253d6f3084c8482459ee42bb0faa4",
              "IPY_MODEL_88c6887cf4f54c7ea319a86f0964ac15",
              "IPY_MODEL_9c200b0537484503b365415c06706089"
            ],
            "layout": "IPY_MODEL_fcd7f6bc12904e2d8baaf9f712dcad02"
          }
        },
        "034253d6f3084c8482459ee42bb0faa4": {
          "model_module": "@jupyter-widgets/controls",
          "model_name": "HTMLModel",
          "model_module_version": "1.5.0",
          "state": {
            "_dom_classes": [],
            "_model_module": "@jupyter-widgets/controls",
            "_model_module_version": "1.5.0",
            "_model_name": "HTMLModel",
            "_view_count": null,
            "_view_module": "@jupyter-widgets/controls",
            "_view_module_version": "1.5.0",
            "_view_name": "HTMLView",
            "description": "",
            "description_tooltip": null,
            "layout": "IPY_MODEL_0e6d9b474c66409fbef2fe57fef94a72",
            "placeholder": "​",
            "style": "IPY_MODEL_9cc86d6c01a24d04a49f63af1f33f0ed",
            "value": "Generating unsupervised split: 100%"
          }
        },
        "88c6887cf4f54c7ea319a86f0964ac15": {
          "model_module": "@jupyter-widgets/controls",
          "model_name": "FloatProgressModel",
          "model_module_version": "1.5.0",
          "state": {
            "_dom_classes": [],
            "_model_module": "@jupyter-widgets/controls",
            "_model_module_version": "1.5.0",
            "_model_name": "FloatProgressModel",
            "_view_count": null,
            "_view_module": "@jupyter-widgets/controls",
            "_view_module_version": "1.5.0",
            "_view_name": "ProgressView",
            "bar_style": "success",
            "description": "",
            "description_tooltip": null,
            "layout": "IPY_MODEL_1da7fb8a7ee24585936160493bea2a14",
            "max": 50000,
            "min": 0,
            "orientation": "horizontal",
            "style": "IPY_MODEL_e1893e00197c4f28a12901321061be7d",
            "value": 50000
          }
        },
        "9c200b0537484503b365415c06706089": {
          "model_module": "@jupyter-widgets/controls",
          "model_name": "HTMLModel",
          "model_module_version": "1.5.0",
          "state": {
            "_dom_classes": [],
            "_model_module": "@jupyter-widgets/controls",
            "_model_module_version": "1.5.0",
            "_model_name": "HTMLModel",
            "_view_count": null,
            "_view_module": "@jupyter-widgets/controls",
            "_view_module_version": "1.5.0",
            "_view_name": "HTMLView",
            "description": "",
            "description_tooltip": null,
            "layout": "IPY_MODEL_78357ab5b7b64c79beb678f92ea9b482",
            "placeholder": "​",
            "style": "IPY_MODEL_bee3eb01007f49a1826eee1e3d5226e3",
            "value": " 50000/50000 [00:00&lt;00:00, 75938.69 examples/s]"
          }
        },
        "fcd7f6bc12904e2d8baaf9f712dcad02": {
          "model_module": "@jupyter-widgets/base",
          "model_name": "LayoutModel",
          "model_module_version": "1.2.0",
          "state": {
            "_model_module": "@jupyter-widgets/base",
            "_model_module_version": "1.2.0",
            "_model_name": "LayoutModel",
            "_view_count": null,
            "_view_module": "@jupyter-widgets/base",
            "_view_module_version": "1.2.0",
            "_view_name": "LayoutView",
            "align_content": null,
            "align_items": null,
            "align_self": null,
            "border": null,
            "bottom": null,
            "display": null,
            "flex": null,
            "flex_flow": null,
            "grid_area": null,
            "grid_auto_columns": null,
            "grid_auto_flow": null,
            "grid_auto_rows": null,
            "grid_column": null,
            "grid_gap": null,
            "grid_row": null,
            "grid_template_areas": null,
            "grid_template_columns": null,
            "grid_template_rows": null,
            "height": null,
            "justify_content": null,
            "justify_items": null,
            "left": null,
            "margin": null,
            "max_height": null,
            "max_width": null,
            "min_height": null,
            "min_width": null,
            "object_fit": null,
            "object_position": null,
            "order": null,
            "overflow": null,
            "overflow_x": null,
            "overflow_y": null,
            "padding": null,
            "right": null,
            "top": null,
            "visibility": null,
            "width": null
          }
        },
        "0e6d9b474c66409fbef2fe57fef94a72": {
          "model_module": "@jupyter-widgets/base",
          "model_name": "LayoutModel",
          "model_module_version": "1.2.0",
          "state": {
            "_model_module": "@jupyter-widgets/base",
            "_model_module_version": "1.2.0",
            "_model_name": "LayoutModel",
            "_view_count": null,
            "_view_module": "@jupyter-widgets/base",
            "_view_module_version": "1.2.0",
            "_view_name": "LayoutView",
            "align_content": null,
            "align_items": null,
            "align_self": null,
            "border": null,
            "bottom": null,
            "display": null,
            "flex": null,
            "flex_flow": null,
            "grid_area": null,
            "grid_auto_columns": null,
            "grid_auto_flow": null,
            "grid_auto_rows": null,
            "grid_column": null,
            "grid_gap": null,
            "grid_row": null,
            "grid_template_areas": null,
            "grid_template_columns": null,
            "grid_template_rows": null,
            "height": null,
            "justify_content": null,
            "justify_items": null,
            "left": null,
            "margin": null,
            "max_height": null,
            "max_width": null,
            "min_height": null,
            "min_width": null,
            "object_fit": null,
            "object_position": null,
            "order": null,
            "overflow": null,
            "overflow_x": null,
            "overflow_y": null,
            "padding": null,
            "right": null,
            "top": null,
            "visibility": null,
            "width": null
          }
        },
        "9cc86d6c01a24d04a49f63af1f33f0ed": {
          "model_module": "@jupyter-widgets/controls",
          "model_name": "DescriptionStyleModel",
          "model_module_version": "1.5.0",
          "state": {
            "_model_module": "@jupyter-widgets/controls",
            "_model_module_version": "1.5.0",
            "_model_name": "DescriptionStyleModel",
            "_view_count": null,
            "_view_module": "@jupyter-widgets/base",
            "_view_module_version": "1.2.0",
            "_view_name": "StyleView",
            "description_width": ""
          }
        },
        "1da7fb8a7ee24585936160493bea2a14": {
          "model_module": "@jupyter-widgets/base",
          "model_name": "LayoutModel",
          "model_module_version": "1.2.0",
          "state": {
            "_model_module": "@jupyter-widgets/base",
            "_model_module_version": "1.2.0",
            "_model_name": "LayoutModel",
            "_view_count": null,
            "_view_module": "@jupyter-widgets/base",
            "_view_module_version": "1.2.0",
            "_view_name": "LayoutView",
            "align_content": null,
            "align_items": null,
            "align_self": null,
            "border": null,
            "bottom": null,
            "display": null,
            "flex": null,
            "flex_flow": null,
            "grid_area": null,
            "grid_auto_columns": null,
            "grid_auto_flow": null,
            "grid_auto_rows": null,
            "grid_column": null,
            "grid_gap": null,
            "grid_row": null,
            "grid_template_areas": null,
            "grid_template_columns": null,
            "grid_template_rows": null,
            "height": null,
            "justify_content": null,
            "justify_items": null,
            "left": null,
            "margin": null,
            "max_height": null,
            "max_width": null,
            "min_height": null,
            "min_width": null,
            "object_fit": null,
            "object_position": null,
            "order": null,
            "overflow": null,
            "overflow_x": null,
            "overflow_y": null,
            "padding": null,
            "right": null,
            "top": null,
            "visibility": null,
            "width": null
          }
        },
        "e1893e00197c4f28a12901321061be7d": {
          "model_module": "@jupyter-widgets/controls",
          "model_name": "ProgressStyleModel",
          "model_module_version": "1.5.0",
          "state": {
            "_model_module": "@jupyter-widgets/controls",
            "_model_module_version": "1.5.0",
            "_model_name": "ProgressStyleModel",
            "_view_count": null,
            "_view_module": "@jupyter-widgets/base",
            "_view_module_version": "1.2.0",
            "_view_name": "StyleView",
            "bar_color": null,
            "description_width": ""
          }
        },
        "78357ab5b7b64c79beb678f92ea9b482": {
          "model_module": "@jupyter-widgets/base",
          "model_name": "LayoutModel",
          "model_module_version": "1.2.0",
          "state": {
            "_model_module": "@jupyter-widgets/base",
            "_model_module_version": "1.2.0",
            "_model_name": "LayoutModel",
            "_view_count": null,
            "_view_module": "@jupyter-widgets/base",
            "_view_module_version": "1.2.0",
            "_view_name": "LayoutView",
            "align_content": null,
            "align_items": null,
            "align_self": null,
            "border": null,
            "bottom": null,
            "display": null,
            "flex": null,
            "flex_flow": null,
            "grid_area": null,
            "grid_auto_columns": null,
            "grid_auto_flow": null,
            "grid_auto_rows": null,
            "grid_column": null,
            "grid_gap": null,
            "grid_row": null,
            "grid_template_areas": null,
            "grid_template_columns": null,
            "grid_template_rows": null,
            "height": null,
            "justify_content": null,
            "justify_items": null,
            "left": null,
            "margin": null,
            "max_height": null,
            "max_width": null,
            "min_height": null,
            "min_width": null,
            "object_fit": null,
            "object_position": null,
            "order": null,
            "overflow": null,
            "overflow_x": null,
            "overflow_y": null,
            "padding": null,
            "right": null,
            "top": null,
            "visibility": null,
            "width": null
          }
        },
        "bee3eb01007f49a1826eee1e3d5226e3": {
          "model_module": "@jupyter-widgets/controls",
          "model_name": "DescriptionStyleModel",
          "model_module_version": "1.5.0",
          "state": {
            "_model_module": "@jupyter-widgets/controls",
            "_model_module_version": "1.5.0",
            "_model_name": "DescriptionStyleModel",
            "_view_count": null,
            "_view_module": "@jupyter-widgets/base",
            "_view_module_version": "1.2.0",
            "_view_name": "StyleView",
            "description_width": ""
          }
        }
      }
    }
  },
  "cells": [
    {
      "cell_type": "markdown",
      "metadata": {
        "id": "view-in-github",
        "colab_type": "text"
      },
      "source": [
        "<a href=\"https://colab.research.google.com/github/HasunJung/llm_langchain/blob/main/07_Document_Loader.ipynb\" target=\"_parent\"><img src=\"https://colab.research.google.com/assets/colab-badge.svg\" alt=\"Open In Colab\"/></a>"
      ]
    },
    {
      "cell_type": "markdown",
      "source": [
        "# 판다스 데이터프레임(DataFrame)\n",
        "pandas는 Python에서 데이터 조작과 분석을 위해 널리 사용되는 강력한 라이브러리입니다.\n",
        "\n",
        "DataFrame은 pandas의 핵심적인 데이터 구조로, 행과 열로 구성된 2차원의 레이블이 붙은 데이터 구조입니다. 이를 통해 다양한 유형의 데이터를 효과적으로 저장, 조작, 그리고 분석할 수 있습니다."
      ],
      "metadata": {
        "id": "QIQB_UG7k3Ka"
      }
    },
    {
      "cell_type": "code",
      "execution_count": 11,
      "metadata": {
        "id": "2pVbvZeHkUBz",
        "colab": {
          "base_uri": "https://localhost:8080/"
        },
        "outputId": "6484c95d-ec56-4484-f13a-a8ec8f564ca1"
      },
      "outputs": [
        {
          "output_type": "stream",
          "name": "stdout",
          "text": [
            "\u001b[2K     \u001b[90m━━━━━━━━━━━━━━━━━━━━━━━━━━━━━━━━━━━━━━━━\u001b[0m \u001b[32m1.0/1.0 MB\u001b[0m \u001b[31m8.5 MB/s\u001b[0m eta \u001b[36m0:00:00\u001b[0m\n",
            "\u001b[2K     \u001b[90m━━━━━━━━━━━━━━━━━━━━━━━━━━━━━━━━━━━━━━━━\u001b[0m \u001b[32m2.0/2.0 MB\u001b[0m \u001b[31m13.9 MB/s\u001b[0m eta \u001b[36m0:00:00\u001b[0m\n",
            "\u001b[2K     \u001b[90m━━━━━━━━━━━━━━━━━━━━━━━━━━━━━━━━━━━━━━━━\u001b[0m \u001b[32m302.9/302.9 kB\u001b[0m \u001b[31m14.2 MB/s\u001b[0m eta \u001b[36m0:00:00\u001b[0m\n",
            "\u001b[2K     \u001b[90m━━━━━━━━━━━━━━━━━━━━━━━━━━━━━━━━━━━━━━━━\u001b[0m \u001b[32m121.0/121.0 kB\u001b[0m \u001b[31m10.4 MB/s\u001b[0m eta \u001b[36m0:00:00\u001b[0m\n",
            "\u001b[2K     \u001b[90m━━━━━━━━━━━━━━━━━━━━━━━━━━━━━━━━━━━━━━━━\u001b[0m \u001b[32m49.3/49.3 kB\u001b[0m \u001b[31m4.6 MB/s\u001b[0m eta \u001b[36m0:00:00\u001b[0m\n",
            "\u001b[2K     \u001b[90m━━━━━━━━━━━━━━━━━━━━━━━━━━━━━━━━━━━━━━━━\u001b[0m \u001b[32m53.0/53.0 kB\u001b[0m \u001b[31m5.1 MB/s\u001b[0m eta \u001b[36m0:00:00\u001b[0m\n",
            "\u001b[2K     \u001b[90m━━━━━━━━━━━━━━━━━━━━━━━━━━━━━━━━━━━━━━━━\u001b[0m \u001b[32m142.5/142.5 kB\u001b[0m \u001b[31m13.5 MB/s\u001b[0m eta \u001b[36m0:00:00\u001b[0m\n",
            "\u001b[?25h\u001b[31mERROR: pip's dependency resolver does not currently take into account all the packages that are installed. This behaviour is the source of the following dependency conflicts.\n",
            "cudf-cu12 24.4.1 requires pandas<2.2.2dev0,>=2.0, but you have pandas 2.2.2 which is incompatible.\u001b[0m\u001b[31m\n",
            "\u001b[0m"
          ]
        }
      ],
      "source": [
        "!pip install -q langchain pandas"
      ]
    },
    {
      "cell_type": "code",
      "source": [
        "import pandas as pd\n",
        "\n",
        " #pd.read_csv() 함수를 사용하여 \"data/titanic.csv\" 파일에서 데이터를 읽어옵니다.\n",
        "df = pd.read_csv(\"data/titanic.csv\")\n",
        "\n",
        "# 데이터프레임의 첫 5개 행을 출력합니다.\n",
        "df.head()"
      ],
      "metadata": {
        "colab": {
          "base_uri": "https://localhost:8080/",
          "height": 355
        },
        "id": "rDZRyl7hlBYh",
        "outputId": "e1f6c4d0-6937-4ddf-c60f-10e3c6f9af79"
      },
      "execution_count": 8,
      "outputs": [
        {
          "output_type": "error",
          "ename": "FileNotFoundError",
          "evalue": "[Errno 2] No such file or directory: 'data/titanic.csv'",
          "traceback": [
            "\u001b[0;31m---------------------------------------------------------------------------\u001b[0m",
            "\u001b[0;31mFileNotFoundError\u001b[0m                         Traceback (most recent call last)",
            "\u001b[0;32m<ipython-input-8-2de0de7f01a4>\u001b[0m in \u001b[0;36m<cell line: 2>\u001b[0;34m()\u001b[0m\n\u001b[1;32m      1\u001b[0m \u001b[0;32mimport\u001b[0m \u001b[0mpandas\u001b[0m \u001b[0;32mas\u001b[0m \u001b[0mpd\u001b[0m\u001b[0;34m\u001b[0m\u001b[0;34m\u001b[0m\u001b[0m\n\u001b[0;32m----> 2\u001b[0;31m \u001b[0mdf\u001b[0m \u001b[0;34m=\u001b[0m \u001b[0mpd\u001b[0m\u001b[0;34m.\u001b[0m\u001b[0mread_csv\u001b[0m\u001b[0;34m(\u001b[0m\u001b[0;34m\"data/titanic.csv\"\u001b[0m\u001b[0;34m)\u001b[0m \u001b[0;31m#pd.read_csv() 함수를 사용하여 \"data/titanic.csv\" 파일에서 데이터를 읽어옵니다.\u001b[0m\u001b[0;34m\u001b[0m\u001b[0;34m\u001b[0m\u001b[0m\n\u001b[0m\u001b[1;32m      3\u001b[0m \u001b[0;34m\u001b[0m\u001b[0m\n\u001b[1;32m      4\u001b[0m \u001b[0mdf\u001b[0m\u001b[0;34m.\u001b[0m\u001b[0mhead\u001b[0m\u001b[0;34m(\u001b[0m\u001b[0;34m)\u001b[0m \u001b[0;31m# 데이터프레임의 첫 5개 행을 출력합니다.\u001b[0m\u001b[0;34m\u001b[0m\u001b[0;34m\u001b[0m\u001b[0m\n",
            "\u001b[0;32m/usr/local/lib/python3.10/dist-packages/pandas/io/parsers/readers.py\u001b[0m in \u001b[0;36mread_csv\u001b[0;34m(filepath_or_buffer, sep, delimiter, header, names, index_col, usecols, dtype, engine, converters, true_values, false_values, skipinitialspace, skiprows, skipfooter, nrows, na_values, keep_default_na, na_filter, verbose, skip_blank_lines, parse_dates, infer_datetime_format, keep_date_col, date_parser, date_format, dayfirst, cache_dates, iterator, chunksize, compression, thousands, decimal, lineterminator, quotechar, quoting, doublequote, escapechar, comment, encoding, encoding_errors, dialect, on_bad_lines, delim_whitespace, low_memory, memory_map, float_precision, storage_options, dtype_backend)\u001b[0m\n\u001b[1;32m   1024\u001b[0m     \u001b[0mkwds\u001b[0m\u001b[0;34m.\u001b[0m\u001b[0mupdate\u001b[0m\u001b[0;34m(\u001b[0m\u001b[0mkwds_defaults\u001b[0m\u001b[0;34m)\u001b[0m\u001b[0;34m\u001b[0m\u001b[0;34m\u001b[0m\u001b[0m\n\u001b[1;32m   1025\u001b[0m \u001b[0;34m\u001b[0m\u001b[0m\n\u001b[0;32m-> 1026\u001b[0;31m     \u001b[0;32mreturn\u001b[0m \u001b[0m_read\u001b[0m\u001b[0;34m(\u001b[0m\u001b[0mfilepath_or_buffer\u001b[0m\u001b[0;34m,\u001b[0m \u001b[0mkwds\u001b[0m\u001b[0;34m)\u001b[0m\u001b[0;34m\u001b[0m\u001b[0;34m\u001b[0m\u001b[0m\n\u001b[0m\u001b[1;32m   1027\u001b[0m \u001b[0;34m\u001b[0m\u001b[0m\n\u001b[1;32m   1028\u001b[0m \u001b[0;34m\u001b[0m\u001b[0m\n",
            "\u001b[0;32m/usr/local/lib/python3.10/dist-packages/pandas/io/parsers/readers.py\u001b[0m in \u001b[0;36m_read\u001b[0;34m(filepath_or_buffer, kwds)\u001b[0m\n\u001b[1;32m    618\u001b[0m \u001b[0;34m\u001b[0m\u001b[0m\n\u001b[1;32m    619\u001b[0m     \u001b[0;31m# Create the parser.\u001b[0m\u001b[0;34m\u001b[0m\u001b[0;34m\u001b[0m\u001b[0m\n\u001b[0;32m--> 620\u001b[0;31m     \u001b[0mparser\u001b[0m \u001b[0;34m=\u001b[0m \u001b[0mTextFileReader\u001b[0m\u001b[0;34m(\u001b[0m\u001b[0mfilepath_or_buffer\u001b[0m\u001b[0;34m,\u001b[0m \u001b[0;34m**\u001b[0m\u001b[0mkwds\u001b[0m\u001b[0;34m)\u001b[0m\u001b[0;34m\u001b[0m\u001b[0;34m\u001b[0m\u001b[0m\n\u001b[0m\u001b[1;32m    621\u001b[0m \u001b[0;34m\u001b[0m\u001b[0m\n\u001b[1;32m    622\u001b[0m     \u001b[0;32mif\u001b[0m \u001b[0mchunksize\u001b[0m \u001b[0;32mor\u001b[0m \u001b[0miterator\u001b[0m\u001b[0;34m:\u001b[0m\u001b[0;34m\u001b[0m\u001b[0;34m\u001b[0m\u001b[0m\n",
            "\u001b[0;32m/usr/local/lib/python3.10/dist-packages/pandas/io/parsers/readers.py\u001b[0m in \u001b[0;36m__init__\u001b[0;34m(self, f, engine, **kwds)\u001b[0m\n\u001b[1;32m   1618\u001b[0m \u001b[0;34m\u001b[0m\u001b[0m\n\u001b[1;32m   1619\u001b[0m         \u001b[0mself\u001b[0m\u001b[0;34m.\u001b[0m\u001b[0mhandles\u001b[0m\u001b[0;34m:\u001b[0m \u001b[0mIOHandles\u001b[0m \u001b[0;34m|\u001b[0m \u001b[0;32mNone\u001b[0m \u001b[0;34m=\u001b[0m \u001b[0;32mNone\u001b[0m\u001b[0;34m\u001b[0m\u001b[0;34m\u001b[0m\u001b[0m\n\u001b[0;32m-> 1620\u001b[0;31m         \u001b[0mself\u001b[0m\u001b[0;34m.\u001b[0m\u001b[0m_engine\u001b[0m \u001b[0;34m=\u001b[0m \u001b[0mself\u001b[0m\u001b[0;34m.\u001b[0m\u001b[0m_make_engine\u001b[0m\u001b[0;34m(\u001b[0m\u001b[0mf\u001b[0m\u001b[0;34m,\u001b[0m \u001b[0mself\u001b[0m\u001b[0;34m.\u001b[0m\u001b[0mengine\u001b[0m\u001b[0;34m)\u001b[0m\u001b[0;34m\u001b[0m\u001b[0;34m\u001b[0m\u001b[0m\n\u001b[0m\u001b[1;32m   1621\u001b[0m \u001b[0;34m\u001b[0m\u001b[0m\n\u001b[1;32m   1622\u001b[0m     \u001b[0;32mdef\u001b[0m \u001b[0mclose\u001b[0m\u001b[0;34m(\u001b[0m\u001b[0mself\u001b[0m\u001b[0;34m)\u001b[0m \u001b[0;34m->\u001b[0m \u001b[0;32mNone\u001b[0m\u001b[0;34m:\u001b[0m\u001b[0;34m\u001b[0m\u001b[0;34m\u001b[0m\u001b[0m\n",
            "\u001b[0;32m/usr/local/lib/python3.10/dist-packages/pandas/io/parsers/readers.py\u001b[0m in \u001b[0;36m_make_engine\u001b[0;34m(self, f, engine)\u001b[0m\n\u001b[1;32m   1878\u001b[0m                 \u001b[0;32mif\u001b[0m \u001b[0;34m\"b\"\u001b[0m \u001b[0;32mnot\u001b[0m \u001b[0;32min\u001b[0m \u001b[0mmode\u001b[0m\u001b[0;34m:\u001b[0m\u001b[0;34m\u001b[0m\u001b[0;34m\u001b[0m\u001b[0m\n\u001b[1;32m   1879\u001b[0m                     \u001b[0mmode\u001b[0m \u001b[0;34m+=\u001b[0m \u001b[0;34m\"b\"\u001b[0m\u001b[0;34m\u001b[0m\u001b[0;34m\u001b[0m\u001b[0m\n\u001b[0;32m-> 1880\u001b[0;31m             self.handles = get_handle(\n\u001b[0m\u001b[1;32m   1881\u001b[0m                 \u001b[0mf\u001b[0m\u001b[0;34m,\u001b[0m\u001b[0;34m\u001b[0m\u001b[0;34m\u001b[0m\u001b[0m\n\u001b[1;32m   1882\u001b[0m                 \u001b[0mmode\u001b[0m\u001b[0;34m,\u001b[0m\u001b[0;34m\u001b[0m\u001b[0;34m\u001b[0m\u001b[0m\n",
            "\u001b[0;32m/usr/local/lib/python3.10/dist-packages/pandas/io/common.py\u001b[0m in \u001b[0;36mget_handle\u001b[0;34m(path_or_buf, mode, encoding, compression, memory_map, is_text, errors, storage_options)\u001b[0m\n\u001b[1;32m    871\u001b[0m         \u001b[0;32mif\u001b[0m \u001b[0mioargs\u001b[0m\u001b[0;34m.\u001b[0m\u001b[0mencoding\u001b[0m \u001b[0;32mand\u001b[0m \u001b[0;34m\"b\"\u001b[0m \u001b[0;32mnot\u001b[0m \u001b[0;32min\u001b[0m \u001b[0mioargs\u001b[0m\u001b[0;34m.\u001b[0m\u001b[0mmode\u001b[0m\u001b[0;34m:\u001b[0m\u001b[0;34m\u001b[0m\u001b[0;34m\u001b[0m\u001b[0m\n\u001b[1;32m    872\u001b[0m             \u001b[0;31m# Encoding\u001b[0m\u001b[0;34m\u001b[0m\u001b[0;34m\u001b[0m\u001b[0m\n\u001b[0;32m--> 873\u001b[0;31m             handle = open(\n\u001b[0m\u001b[1;32m    874\u001b[0m                 \u001b[0mhandle\u001b[0m\u001b[0;34m,\u001b[0m\u001b[0;34m\u001b[0m\u001b[0;34m\u001b[0m\u001b[0m\n\u001b[1;32m    875\u001b[0m                 \u001b[0mioargs\u001b[0m\u001b[0;34m.\u001b[0m\u001b[0mmode\u001b[0m\u001b[0;34m,\u001b[0m\u001b[0;34m\u001b[0m\u001b[0;34m\u001b[0m\u001b[0m\n",
            "\u001b[0;31mFileNotFoundError\u001b[0m: [Errno 2] No such file or directory: 'data/titanic.csv'"
          ]
        }
      ]
    },
    {
      "cell_type": "markdown",
      "source": [
        "DataFrameLoader를 사용하여 데이터프레임에서 문서를 로드합니다.\n",
        "\n",
        "- DataFrameLoader는 langchain_community.document_loaders 모듈에서 import 됩니다.\n",
        "- 데이터프레임을 문서 형태로 변환하는 역할을 합니다.\n",
        "- 로드된 문서는 LangChain의 다른 컴포넌트에서 사용될 수 있습니다.\n",
        "\n",
        "loader.load() 메서드를 호출하여 데이터를 로드합니다.\n",
        "\n",
        "- TextLoader 클래스의 인스턴스인 loader가 사용됩니다.\n",
        "- load() 메서드는 TextLoader에 지정된 텍스트 파일에서 데이터를 읽어들입니다.\n",
        "- 로드된 데이터는 Document 객체의 리스트 형태로 반환됩니다."
      ],
      "metadata": {
        "id": "BCTGsn-4ltup"
      }
    },
    {
      "cell_type": "code",
      "source": [
        "from langchain_community.document_loaders import DataFrameLoader\n",
        "\n",
        "# DataFrame에서 데이터를 로드하고, 'Team' 열을 페이지 내용으로 사용합니다.\n",
        "loader = DataFrameLoader(df, page_content_column=\"Name\")\n",
        "\n",
        "loader.load()  # 데이터를 로드합니다."
      ],
      "metadata": {
        "colab": {
          "base_uri": "https://localhost:8080/",
          "height": 404
        },
        "id": "_i6G7ZfUlr7i",
        "outputId": "82ad68f9-2018-4230-cb97-038961db8e10"
      },
      "execution_count": 9,
      "outputs": [
        {
          "output_type": "error",
          "ename": "ModuleNotFoundError",
          "evalue": "No module named 'langchain_community'",
          "traceback": [
            "\u001b[0;31m---------------------------------------------------------------------------\u001b[0m",
            "\u001b[0;31mModuleNotFoundError\u001b[0m                       Traceback (most recent call last)",
            "\u001b[0;32m<ipython-input-9-01a91410b409>\u001b[0m in \u001b[0;36m<cell line: 1>\u001b[0;34m()\u001b[0m\n\u001b[0;32m----> 1\u001b[0;31m \u001b[0;32mfrom\u001b[0m \u001b[0mlangchain_community\u001b[0m\u001b[0;34m.\u001b[0m\u001b[0mdocument_loaders\u001b[0m \u001b[0;32mimport\u001b[0m \u001b[0mDataFrameLoader\u001b[0m\u001b[0;34m\u001b[0m\u001b[0;34m\u001b[0m\u001b[0m\n\u001b[0m\u001b[1;32m      2\u001b[0m \u001b[0;34m\u001b[0m\u001b[0m\n\u001b[1;32m      3\u001b[0m \u001b[0;31m# DataFrame에서 데이터를 로드하고, 'Team' 열을 페이지 내용으로 사용합니다.\u001b[0m\u001b[0;34m\u001b[0m\u001b[0;34m\u001b[0m\u001b[0m\n\u001b[1;32m      4\u001b[0m \u001b[0mloader\u001b[0m \u001b[0;34m=\u001b[0m \u001b[0mDataFrameLoader\u001b[0m\u001b[0;34m(\u001b[0m\u001b[0mdf\u001b[0m\u001b[0;34m,\u001b[0m \u001b[0mpage_content_column\u001b[0m\u001b[0;34m=\u001b[0m\u001b[0;34m\"Name\"\u001b[0m\u001b[0;34m)\u001b[0m\u001b[0;34m\u001b[0m\u001b[0;34m\u001b[0m\u001b[0m\n\u001b[1;32m      5\u001b[0m \u001b[0;34m\u001b[0m\u001b[0m\n",
            "\u001b[0;31mModuleNotFoundError\u001b[0m: No module named 'langchain_community'",
            "",
            "\u001b[0;31m---------------------------------------------------------------------------\u001b[0;32m\nNOTE: If your import is failing due to a missing package, you can\nmanually install dependencies using either !pip or !apt.\n\nTo view examples of installing some common dependencies, click the\n\"Open Examples\" button below.\n\u001b[0;31m---------------------------------------------------------------------------\u001b[0m\n"
          ],
          "errorDetails": {
            "actions": [
              {
                "action": "open_url",
                "actionText": "Open Examples",
                "url": "/notebooks/snippets/importing_libraries.ipynb"
              }
            ]
          }
        }
      ]
    },
    {
      "cell_type": "markdown",
      "source": [
        "# 웹 크롤링"
      ],
      "metadata": {
        "id": "nkG6ER7DmH8Y"
      }
    },
    {
      "cell_type": "markdown",
      "source": [
        "Chromium은 브라우저 자동화를 제어하는 데 사용되는 라이브러리인 Playwright에서 지원하는 브라우저 중 하나입니다.\n",
        "\n",
        "p.chromium.launch(headless=True)를 실행하면 Chromium의 headless 인스턴스를 실행합니다.\n",
        "\n",
        "Headless 모드는 브라우저가 그래픽 사용자 인터페이스 없이 실행되고 있음을 의미합니다.\n",
        "\n",
        "AsyncChromiumLoader는 페이지를 로드한 다음 Html2TextTransformer를 사용하여 텍스트로 변환합니다."
      ],
      "metadata": {
        "id": "PFxrlgW7mmTI"
      }
    },
    {
      "cell_type": "code",
      "source": [
        "!pip install -q  playwright beautifulsoup4\n",
        "! playwright install"
      ],
      "metadata": {
        "colab": {
          "base_uri": "https://localhost:8080/"
        },
        "id": "KzfEVqs6mLSy",
        "outputId": "ce42b379-20b1-4d97-fd10-237a2172b17d"
      },
      "execution_count": 4,
      "outputs": [
        {
          "output_type": "stream",
          "name": "stdout",
          "text": [
            "\u001b[2K     \u001b[90m━━━━━━━━━━━━━━━━━━━━━━━━━━━━━━━━━━━━━━━━\u001b[0m \u001b[32m37.3/37.3 MB\u001b[0m \u001b[31m25.5 MB/s\u001b[0m eta \u001b[36m0:00:00\u001b[0m\n",
            "\u001b[?25hDownloading Chromium 124.0.6367.29 (playwright build v1112)\u001b[2m from https://playwright.azureedge.net/builds/chromium/1112/chromium-linux.zip\u001b[22m\n",
            "\u001b[1G155.3 MiB [] 0% 0.0s\u001b[0K\u001b[1G155.3 MiB [] 0% 28.5s\u001b[0K\u001b[1G155.3 MiB [] 0% 14.3s\u001b[0K\u001b[1G155.3 MiB [] 0% 10.3s\u001b[0K\u001b[1G155.3 MiB [] 0% 8.1s\u001b[0K\u001b[1G155.3 MiB [] 1% 6.3s\u001b[0K\u001b[1G155.3 MiB [] 1% 5.8s\u001b[0K\u001b[1G155.3 MiB [] 2% 5.7s\u001b[0K\u001b[1G155.3 MiB [] 2% 5.8s\u001b[0K\u001b[1G155.3 MiB [] 2% 6.0s\u001b[0K\u001b[1G155.3 MiB [] 2% 6.2s\u001b[0K\u001b[1G155.3 MiB [] 3% 6.1s\u001b[0K\u001b[1G155.3 MiB [] 3% 6.4s\u001b[0K\u001b[1G155.3 MiB [] 3% 5.8s\u001b[0K\u001b[1G155.3 MiB [] 4% 5.7s\u001b[0K\u001b[1G155.3 MiB [] 4% 5.9s\u001b[0K\u001b[1G155.3 MiB [] 4% 6.0s\u001b[0K\u001b[1G155.3 MiB [] 4% 5.8s\u001b[0K\u001b[1G155.3 MiB [] 5% 5.8s\u001b[0K\u001b[1G155.3 MiB [] 5% 5.4s\u001b[0K\u001b[1G155.3 MiB [] 6% 5.3s\u001b[0K\u001b[1G155.3 MiB [] 6% 5.0s\u001b[0K\u001b[1G155.3 MiB [] 7% 5.1s\u001b[0K\u001b[1G155.3 MiB [] 7% 4.9s\u001b[0K\u001b[1G155.3 MiB [] 8% 4.8s\u001b[0K\u001b[1G155.3 MiB [] 8% 4.6s\u001b[0K\u001b[1G155.3 MiB [] 9% 4.5s\u001b[0K\u001b[1G155.3 MiB [] 10% 4.3s\u001b[0K\u001b[1G155.3 MiB [] 11% 4.3s\u001b[0K\u001b[1G155.3 MiB [] 11% 4.2s\u001b[0K\u001b[1G155.3 MiB [] 12% 4.2s\u001b[0K\u001b[1G155.3 MiB [] 12% 4.1s\u001b[0K\u001b[1G155.3 MiB [] 13% 4.0s\u001b[0K\u001b[1G155.3 MiB [] 14% 3.8s\u001b[0K\u001b[1G155.3 MiB [] 14% 3.9s\u001b[0K\u001b[1G155.3 MiB [] 15% 3.8s\u001b[0K\u001b[1G155.3 MiB [] 15% 3.7s\u001b[0K\u001b[1G155.3 MiB [] 16% 3.7s\u001b[0K\u001b[1G155.3 MiB [] 16% 3.8s\u001b[0K\u001b[1G155.3 MiB [] 16% 3.7s\u001b[0K\u001b[1G155.3 MiB [] 17% 3.7s\u001b[0K\u001b[1G155.3 MiB [] 18% 3.6s\u001b[0K\u001b[1G155.3 MiB [] 19% 3.4s\u001b[0K\u001b[1G155.3 MiB [] 19% 3.3s\u001b[0K\u001b[1G155.3 MiB [] 20% 3.3s\u001b[0K\u001b[1G155.3 MiB [] 21% 3.2s\u001b[0K\u001b[1G155.3 MiB [] 21% 3.3s\u001b[0K\u001b[1G155.3 MiB [] 22% 3.2s\u001b[0K\u001b[1G155.3 MiB [] 23% 3.2s\u001b[0K\u001b[1G155.3 MiB [] 23% 3.1s\u001b[0K\u001b[1G155.3 MiB [] 24% 3.1s\u001b[0K\u001b[1G155.3 MiB [] 25% 3.1s\u001b[0K\u001b[1G155.3 MiB [] 26% 3.1s\u001b[0K\u001b[1G155.3 MiB [] 26% 3.0s\u001b[0K\u001b[1G155.3 MiB [] 27% 3.0s\u001b[0K\u001b[1G155.3 MiB [] 28% 2.9s\u001b[0K\u001b[1G155.3 MiB [] 29% 2.9s\u001b[0K\u001b[1G155.3 MiB [] 30% 2.8s\u001b[0K\u001b[1G155.3 MiB [] 31% 2.7s\u001b[0K\u001b[1G155.3 MiB [] 32% 2.7s\u001b[0K\u001b[1G155.3 MiB [] 33% 2.7s\u001b[0K\u001b[1G155.3 MiB [] 33% 2.6s\u001b[0K\u001b[1G155.3 MiB [] 34% 2.6s\u001b[0K\u001b[1G155.3 MiB [] 35% 2.5s\u001b[0K\u001b[1G155.3 MiB [] 36% 2.5s\u001b[0K\u001b[1G155.3 MiB [] 37% 2.4s\u001b[0K\u001b[1G155.3 MiB [] 38% 2.4s\u001b[0K\u001b[1G155.3 MiB [] 39% 2.3s\u001b[0K\u001b[1G155.3 MiB [] 40% 2.3s\u001b[0K\u001b[1G155.3 MiB [] 41% 2.3s\u001b[0K\u001b[1G155.3 MiB [] 42% 2.2s\u001b[0K\u001b[1G155.3 MiB [] 43% 2.2s\u001b[0K\u001b[1G155.3 MiB [] 44% 2.1s\u001b[0K\u001b[1G155.3 MiB [] 45% 2.1s\u001b[0K\u001b[1G155.3 MiB [] 46% 2.1s\u001b[0K\u001b[1G155.3 MiB [] 46% 2.2s\u001b[0K\u001b[1G155.3 MiB [] 46% 2.1s\u001b[0K\u001b[1G155.3 MiB [] 47% 2.1s\u001b[0K\u001b[1G155.3 MiB [] 48% 2.1s\u001b[0K\u001b[1G155.3 MiB [] 49% 2.1s\u001b[0K\u001b[1G155.3 MiB [] 49% 2.0s\u001b[0K\u001b[1G155.3 MiB [] 50% 2.0s\u001b[0K\u001b[1G155.3 MiB [] 51% 2.0s\u001b[0K\u001b[1G155.3 MiB [] 52% 1.9s\u001b[0K\u001b[1G155.3 MiB [] 53% 1.9s\u001b[0K\u001b[1G155.3 MiB [] 54% 1.9s\u001b[0K\u001b[1G155.3 MiB [] 54% 1.8s\u001b[0K\u001b[1G155.3 MiB [] 55% 1.8s\u001b[0K\u001b[1G155.3 MiB [] 56% 1.7s\u001b[0K\u001b[1G155.3 MiB [] 57% 1.7s\u001b[0K\u001b[1G155.3 MiB [] 58% 1.6s\u001b[0K\u001b[1G155.3 MiB [] 59% 1.6s\u001b[0K\u001b[1G155.3 MiB [] 60% 1.6s\u001b[0K\u001b[1G155.3 MiB [] 60% 1.5s\u001b[0K\u001b[1G155.3 MiB [] 61% 1.5s\u001b[0K\u001b[1G155.3 MiB [] 62% 1.5s\u001b[0K\u001b[1G155.3 MiB [] 63% 1.4s\u001b[0K\u001b[1G155.3 MiB [] 64% 1.4s\u001b[0K\u001b[1G155.3 MiB [] 65% 1.3s\u001b[0K\u001b[1G155.3 MiB [] 66% 1.3s\u001b[0K\u001b[1G155.3 MiB [] 67% 1.3s\u001b[0K\u001b[1G155.3 MiB [] 67% 1.2s\u001b[0K\u001b[1G155.3 MiB [] 68% 1.2s\u001b[0K\u001b[1G155.3 MiB [] 69% 1.2s\u001b[0K\u001b[1G155.3 MiB [] 70% 1.1s\u001b[0K\u001b[1G155.3 MiB [] 71% 1.1s\u001b[0K\u001b[1G155.3 MiB [] 72% 1.1s\u001b[0K\u001b[1G155.3 MiB [] 72% 1.0s\u001b[0K\u001b[1G155.3 MiB [] 73% 1.0s\u001b[0K\u001b[1G155.3 MiB [] 74% 1.0s\u001b[0K\u001b[1G155.3 MiB [] 75% 1.0s\u001b[0K\u001b[1G155.3 MiB [] 75% 0.9s\u001b[0K\u001b[1G155.3 MiB [] 76% 0.9s\u001b[0K\u001b[1G155.3 MiB [] 77% 0.9s\u001b[0K\u001b[1G155.3 MiB [] 78% 0.8s\u001b[0K\u001b[1G155.3 MiB [] 79% 0.8s\u001b[0K\u001b[1G155.3 MiB [] 80% 0.8s\u001b[0K\u001b[1G155.3 MiB [] 81% 0.7s\u001b[0K\u001b[1G155.3 MiB [] 82% 0.7s\u001b[0K\u001b[1G155.3 MiB [] 83% 0.6s\u001b[0K\u001b[1G155.3 MiB [] 84% 0.6s\u001b[0K\u001b[1G155.3 MiB [] 85% 0.6s\u001b[0K\u001b[1G155.3 MiB [] 86% 0.5s\u001b[0K\u001b[1G155.3 MiB [] 87% 0.5s\u001b[0K\u001b[1G155.3 MiB [] 88% 0.4s\u001b[0K\u001b[1G155.3 MiB [] 89% 0.4s\u001b[0K\u001b[1G155.3 MiB [] 90% 0.4s\u001b[0K\u001b[1G155.3 MiB [] 91% 0.3s\u001b[0K\u001b[1G155.3 MiB [] 92% 0.3s\u001b[0K\u001b[1G155.3 MiB [] 93% 0.3s\u001b[0K\u001b[1G155.3 MiB [] 94% 0.2s\u001b[0K\u001b[1G155.3 MiB [] 95% 0.2s\u001b[0K\u001b[1G155.3 MiB [] 96% 0.1s\u001b[0K\u001b[1G155.3 MiB [] 97% 0.1s\u001b[0K\u001b[1G155.3 MiB [] 98% 0.1s\u001b[0K\u001b[1G155.3 MiB [] 99% 0.0s\u001b[0K\u001b[1G155.3 MiB [] 100% 0.0s\u001b[0K\n",
            "Chromium 124.0.6367.29 (playwright build v1112) downloaded to /root/.cache/ms-playwright/chromium-1112\n",
            "Downloading FFMPEG playwright build v1009\u001b[2m from https://playwright.azureedge.net/builds/ffmpeg/1009/ffmpeg-linux.zip\u001b[22m\n",
            "\u001b[1G2.6 MiB [] 0% 0.0s\u001b[0K\u001b[1G2.6 MiB [] 2% 0.8s\u001b[0K\u001b[1G2.6 MiB [] 13% 0.2s\u001b[0K\u001b[1G2.6 MiB [] 21% 0.2s\u001b[0K\u001b[1G2.6 MiB [] 33% 0.1s\u001b[0K\u001b[1G2.6 MiB [] 48% 0.1s\u001b[0K\u001b[1G2.6 MiB [] 70% 0.0s\u001b[0K\u001b[1G2.6 MiB [] 87% 0.0s\u001b[0K\u001b[1G2.6 MiB [] 100% 0.0s\u001b[0K\n",
            "FFMPEG playwright build v1009 downloaded to /root/.cache/ms-playwright/ffmpeg-1009\n",
            "Downloading Firefox 124.0 (playwright build v1447)\u001b[2m from https://playwright.azureedge.net/builds/firefox/1447/firefox-ubuntu-22.04.zip\u001b[22m\n",
            "\u001b[1G85.4 MiB [] 0% 0.0s\u001b[0K\u001b[1G85.4 MiB [] 0% 31.3s\u001b[0K\u001b[1G85.4 MiB [] 0% 16.4s\u001b[0K\u001b[1G85.4 MiB [] 0% 15.7s\u001b[0K\u001b[1G85.4 MiB [] 0% 12.8s\u001b[0K\u001b[1G85.4 MiB [] 0% 12.3s\u001b[0K\u001b[1G85.4 MiB [] 1% 8.8s\u001b[0K\u001b[1G85.4 MiB [] 1% 6.4s\u001b[0K\u001b[1G85.4 MiB [] 2% 6.0s\u001b[0K\u001b[1G85.4 MiB [] 2% 5.4s\u001b[0K\u001b[1G85.4 MiB [] 3% 5.4s\u001b[0K\u001b[1G85.4 MiB [] 3% 5.5s\u001b[0K\u001b[1G85.4 MiB [] 3% 5.4s\u001b[0K\u001b[1G85.4 MiB [] 4% 5.3s\u001b[0K\u001b[1G85.4 MiB [] 4% 5.6s\u001b[0K\u001b[1G85.4 MiB [] 5% 5.7s\u001b[0K\u001b[1G85.4 MiB [] 5% 5.6s\u001b[0K\u001b[1G85.4 MiB [] 5% 5.4s\u001b[0K\u001b[1G85.4 MiB [] 6% 5.4s\u001b[0K\u001b[1G85.4 MiB [] 6% 5.2s\u001b[0K\u001b[1G85.4 MiB [] 6% 5.1s\u001b[0K\u001b[1G85.4 MiB [] 7% 5.2s\u001b[0K\u001b[1G85.4 MiB [] 7% 5.3s\u001b[0K\u001b[1G85.4 MiB [] 8% 5.3s\u001b[0K\u001b[1G85.4 MiB [] 8% 5.4s\u001b[0K\u001b[1G85.4 MiB [] 8% 5.5s\u001b[0K\u001b[1G85.4 MiB [] 8% 5.3s\u001b[0K\u001b[1G85.4 MiB [] 9% 5.3s\u001b[0K\u001b[1G85.4 MiB [] 9% 5.2s\u001b[0K\u001b[1G85.4 MiB [] 10% 5.1s\u001b[0K\u001b[1G85.4 MiB [] 10% 5.0s\u001b[0K\u001b[1G85.4 MiB [] 10% 5.1s\u001b[0K\u001b[1G85.4 MiB [] 11% 5.0s\u001b[0K\u001b[1G85.4 MiB [] 12% 4.8s\u001b[0K\u001b[1G85.4 MiB [] 13% 4.6s\u001b[0K\u001b[1G85.4 MiB [] 14% 4.4s\u001b[0K\u001b[1G85.4 MiB [] 14% 4.2s\u001b[0K\u001b[1G85.4 MiB [] 15% 4.1s\u001b[0K\u001b[1G85.4 MiB [] 16% 4.0s\u001b[0K\u001b[1G85.4 MiB [] 17% 3.9s\u001b[0K\u001b[1G85.4 MiB [] 18% 3.8s\u001b[0K\u001b[1G85.4 MiB [] 19% 3.7s\u001b[0K\u001b[1G85.4 MiB [] 20% 3.6s\u001b[0K\u001b[1G85.4 MiB [] 21% 3.5s\u001b[0K\u001b[1G85.4 MiB [] 22% 3.5s\u001b[0K\u001b[1G85.4 MiB [] 22% 3.4s\u001b[0K\u001b[1G85.4 MiB [] 23% 3.4s\u001b[0K\u001b[1G85.4 MiB [] 23% 3.3s\u001b[0K\u001b[1G85.4 MiB [] 24% 3.3s\u001b[0K\u001b[1G85.4 MiB [] 24% 3.2s\u001b[0K\u001b[1G85.4 MiB [] 25% 3.2s\u001b[0K\u001b[1G85.4 MiB [] 25% 3.1s\u001b[0K\u001b[1G85.4 MiB [] 26% 3.1s\u001b[0K\u001b[1G85.4 MiB [] 27% 3.0s\u001b[0K\u001b[1G85.4 MiB [] 28% 2.9s\u001b[0K\u001b[1G85.4 MiB [] 29% 2.8s\u001b[0K\u001b[1G85.4 MiB [] 30% 2.8s\u001b[0K\u001b[1G85.4 MiB [] 31% 2.7s\u001b[0K\u001b[1G85.4 MiB [] 32% 2.6s\u001b[0K\u001b[1G85.4 MiB [] 33% 2.5s\u001b[0K\u001b[1G85.4 MiB [] 35% 2.4s\u001b[0K\u001b[1G85.4 MiB [] 35% 2.3s\u001b[0K\u001b[1G85.4 MiB [] 37% 2.3s\u001b[0K\u001b[1G85.4 MiB [] 37% 2.2s\u001b[0K\u001b[1G85.4 MiB [] 38% 2.2s\u001b[0K\u001b[1G85.4 MiB [] 39% 2.1s\u001b[0K\u001b[1G85.4 MiB [] 40% 2.1s\u001b[0K\u001b[1G85.4 MiB [] 41% 2.0s\u001b[0K\u001b[1G85.4 MiB [] 42% 1.9s\u001b[0K\u001b[1G85.4 MiB [] 43% 1.9s\u001b[0K\u001b[1G85.4 MiB [] 44% 1.9s\u001b[0K\u001b[1G85.4 MiB [] 45% 1.9s\u001b[0K\u001b[1G85.4 MiB [] 45% 1.8s\u001b[0K\u001b[1G85.4 MiB [] 45% 1.9s\u001b[0K\u001b[1G85.4 MiB [] 46% 1.8s\u001b[0K\u001b[1G85.4 MiB [] 47% 1.8s\u001b[0K\u001b[1G85.4 MiB [] 48% 1.8s\u001b[0K\u001b[1G85.4 MiB [] 49% 1.7s\u001b[0K\u001b[1G85.4 MiB [] 50% 1.7s\u001b[0K\u001b[1G85.4 MiB [] 51% 1.7s\u001b[0K\u001b[1G85.4 MiB [] 51% 1.6s\u001b[0K\u001b[1G85.4 MiB [] 52% 1.6s\u001b[0K\u001b[1G85.4 MiB [] 53% 1.5s\u001b[0K\u001b[1G85.4 MiB [] 54% 1.5s\u001b[0K\u001b[1G85.4 MiB [] 55% 1.5s\u001b[0K\u001b[1G85.4 MiB [] 56% 1.5s\u001b[0K\u001b[1G85.4 MiB [] 57% 1.4s\u001b[0K\u001b[1G85.4 MiB [] 58% 1.3s\u001b[0K\u001b[1G85.4 MiB [] 60% 1.3s\u001b[0K\u001b[1G85.4 MiB [] 61% 1.2s\u001b[0K\u001b[1G85.4 MiB [] 62% 1.2s\u001b[0K\u001b[1G85.4 MiB [] 63% 1.1s\u001b[0K\u001b[1G85.4 MiB [] 64% 1.1s\u001b[0K\u001b[1G85.4 MiB [] 65% 1.1s\u001b[0K\u001b[1G85.4 MiB [] 66% 1.0s\u001b[0K\u001b[1G85.4 MiB [] 67% 1.0s\u001b[0K\u001b[1G85.4 MiB [] 68% 1.0s\u001b[0K\u001b[1G85.4 MiB [] 69% 0.9s\u001b[0K\u001b[1G85.4 MiB [] 70% 0.9s\u001b[0K\u001b[1G85.4 MiB [] 71% 0.9s\u001b[0K\u001b[1G85.4 MiB [] 72% 0.8s\u001b[0K\u001b[1G85.4 MiB [] 73% 0.8s\u001b[0K\u001b[1G85.4 MiB [] 74% 0.8s\u001b[0K\u001b[1G85.4 MiB [] 75% 0.8s\u001b[0K\u001b[1G85.4 MiB [] 76% 0.7s\u001b[0K\u001b[1G85.4 MiB [] 77% 0.7s\u001b[0K\u001b[1G85.4 MiB [] 78% 0.7s\u001b[0K\u001b[1G85.4 MiB [] 78% 0.6s\u001b[0K\u001b[1G85.4 MiB [] 79% 0.6s\u001b[0K\u001b[1G85.4 MiB [] 81% 0.6s\u001b[0K\u001b[1G85.4 MiB [] 81% 0.5s\u001b[0K\u001b[1G85.4 MiB [] 82% 0.5s\u001b[0K\u001b[1G85.4 MiB [] 83% 0.5s\u001b[0K\u001b[1G85.4 MiB [] 84% 0.5s\u001b[0K\u001b[1G85.4 MiB [] 84% 0.4s\u001b[0K\u001b[1G85.4 MiB [] 85% 0.4s\u001b[0K\u001b[1G85.4 MiB [] 86% 0.4s\u001b[0K\u001b[1G85.4 MiB [] 87% 0.4s\u001b[0K\u001b[1G85.4 MiB [] 88% 0.4s\u001b[0K\u001b[1G85.4 MiB [] 88% 0.3s\u001b[0K\u001b[1G85.4 MiB [] 89% 0.3s\u001b[0K\u001b[1G85.4 MiB [] 90% 0.3s\u001b[0K\u001b[1G85.4 MiB [] 91% 0.2s\u001b[0K\u001b[1G85.4 MiB [] 92% 0.2s\u001b[0K\u001b[1G85.4 MiB [] 93% 0.2s\u001b[0K\u001b[1G85.4 MiB [] 94% 0.2s\u001b[0K\u001b[1G85.4 MiB [] 95% 0.1s\u001b[0K\u001b[1G85.4 MiB [] 96% 0.1s\u001b[0K\u001b[1G85.4 MiB [] 97% 0.1s\u001b[0K\u001b[1G85.4 MiB [] 98% 0.0s\u001b[0K\u001b[1G85.4 MiB [] 99% 0.0s\u001b[0K\u001b[1G85.4 MiB [] 100% 0.0s\u001b[0K\n",
            "Firefox 124.0 (playwright build v1447) downloaded to /root/.cache/ms-playwright/firefox-1447\n",
            "Downloading Webkit 17.4 (playwright build v1992)\u001b[2m from https://playwright.azureedge.net/builds/webkit/1992/webkit-ubuntu-22.04.zip\u001b[22m\n",
            "\u001b[1G86.5 MiB [] 0% 0.0s\u001b[0K\u001b[1G86.5 MiB [] 0% 16.7s\u001b[0K\u001b[1G86.5 MiB [] 0% 13.4s\u001b[0K\u001b[1G86.5 MiB [] 0% 8.0s\u001b[0K\u001b[1G86.5 MiB [] 1% 4.5s\u001b[0K\u001b[1G86.5 MiB [] 2% 3.2s\u001b[0K\u001b[1G86.5 MiB [] 3% 2.8s\u001b[0K\u001b[1G86.5 MiB [] 4% 2.5s\u001b[0K\u001b[1G86.5 MiB [] 4% 2.6s\u001b[0K\u001b[1G86.5 MiB [] 5% 2.6s\u001b[0K\u001b[1G86.5 MiB [] 6% 2.4s\u001b[0K\u001b[1G86.5 MiB [] 7% 2.3s\u001b[0K\u001b[1G86.5 MiB [] 8% 2.4s\u001b[0K\u001b[1G86.5 MiB [] 9% 2.2s\u001b[0K\u001b[1G86.5 MiB [] 10% 2.2s\u001b[0K\u001b[1G86.5 MiB [] 11% 2.1s\u001b[0K\u001b[1G86.5 MiB [] 12% 2.0s\u001b[0K\u001b[1G86.5 MiB [] 12% 2.1s\u001b[0K\u001b[1G86.5 MiB [] 14% 1.9s\u001b[0K\u001b[1G86.5 MiB [] 15% 1.9s\u001b[0K\u001b[1G86.5 MiB [] 16% 1.9s\u001b[0K\u001b[1G86.5 MiB [] 16% 1.8s\u001b[0K\u001b[1G86.5 MiB [] 17% 1.9s\u001b[0K\u001b[1G86.5 MiB [] 18% 1.8s\u001b[0K\u001b[1G86.5 MiB [] 19% 1.7s\u001b[0K\u001b[1G86.5 MiB [] 20% 1.7s\u001b[0K\u001b[1G86.5 MiB [] 21% 1.6s\u001b[0K\u001b[1G86.5 MiB [] 23% 1.6s\u001b[0K\u001b[1G86.5 MiB [] 24% 1.6s\u001b[0K\u001b[1G86.5 MiB [] 25% 1.6s\u001b[0K\u001b[1G86.5 MiB [] 26% 1.6s\u001b[0K\u001b[1G86.5 MiB [] 28% 1.5s\u001b[0K\u001b[1G86.5 MiB [] 29% 1.5s\u001b[0K\u001b[1G86.5 MiB [] 30% 1.4s\u001b[0K\u001b[1G86.5 MiB [] 32% 1.4s\u001b[0K\u001b[1G86.5 MiB [] 33% 1.3s\u001b[0K\u001b[1G86.5 MiB [] 34% 1.3s\u001b[0K\u001b[1G86.5 MiB [] 36% 1.2s\u001b[0K\u001b[1G86.5 MiB [] 37% 1.2s\u001b[0K\u001b[1G86.5 MiB [] 38% 1.2s\u001b[0K\u001b[1G86.5 MiB [] 40% 1.1s\u001b[0K\u001b[1G86.5 MiB [] 41% 1.1s\u001b[0K\u001b[1G86.5 MiB [] 43% 1.0s\u001b[0K\u001b[1G86.5 MiB [] 45% 1.0s\u001b[0K\u001b[1G86.5 MiB [] 46% 0.9s\u001b[0K\u001b[1G86.5 MiB [] 47% 0.9s\u001b[0K\u001b[1G86.5 MiB [] 49% 0.9s\u001b[0K\u001b[1G86.5 MiB [] 50% 0.9s\u001b[0K\u001b[1G86.5 MiB [] 52% 0.8s\u001b[0K\u001b[1G86.5 MiB [] 53% 0.8s\u001b[0K\u001b[1G86.5 MiB [] 54% 0.8s\u001b[0K\u001b[1G86.5 MiB [] 56% 0.7s\u001b[0K\u001b[1G86.5 MiB [] 57% 0.7s\u001b[0K\u001b[1G86.5 MiB [] 58% 0.7s\u001b[0K\u001b[1G86.5 MiB [] 59% 0.7s\u001b[0K\u001b[1G86.5 MiB [] 60% 0.6s\u001b[0K\u001b[1G86.5 MiB [] 62% 0.6s\u001b[0K\u001b[1G86.5 MiB [] 63% 0.6s\u001b[0K\u001b[1G86.5 MiB [] 64% 0.6s\u001b[0K\u001b[1G86.5 MiB [] 65% 0.5s\u001b[0K\u001b[1G86.5 MiB [] 66% 0.5s\u001b[0K\u001b[1G86.5 MiB [] 68% 0.5s\u001b[0K\u001b[1G86.5 MiB [] 70% 0.5s\u001b[0K\u001b[1G86.5 MiB [] 71% 0.4s\u001b[0K\u001b[1G86.5 MiB [] 73% 0.4s\u001b[0K\u001b[1G86.5 MiB [] 75% 0.4s\u001b[0K\u001b[1G86.5 MiB [] 76% 0.4s\u001b[0K\u001b[1G86.5 MiB [] 78% 0.3s\u001b[0K\u001b[1G86.5 MiB [] 80% 0.3s\u001b[0K\u001b[1G86.5 MiB [] 81% 0.3s\u001b[0K\u001b[1G86.5 MiB [] 82% 0.3s\u001b[0K\u001b[1G86.5 MiB [] 83% 0.2s\u001b[0K\u001b[1G86.5 MiB [] 84% 0.2s\u001b[0K\u001b[1G86.5 MiB [] 85% 0.2s\u001b[0K\u001b[1G86.5 MiB [] 86% 0.2s\u001b[0K\u001b[1G86.5 MiB [] 87% 0.2s\u001b[0K\u001b[1G86.5 MiB [] 88% 0.2s\u001b[0K\u001b[1G86.5 MiB [] 89% 0.2s\u001b[0K\u001b[1G86.5 MiB [] 90% 0.2s\u001b[0K\u001b[1G86.5 MiB [] 91% 0.1s\u001b[0K\u001b[1G86.5 MiB [] 93% 0.1s\u001b[0K\u001b[1G86.5 MiB [] 94% 0.1s\u001b[0K\u001b[1G86.5 MiB [] 95% 0.1s\u001b[0K\u001b[1G86.5 MiB [] 96% 0.1s\u001b[0K\u001b[1G86.5 MiB [] 97% 0.0s\u001b[0K\u001b[1G86.5 MiB [] 99% 0.0s\u001b[0K\u001b[1G86.5 MiB [] 100% 0.0s\u001b[0K\n",
            "Webkit 17.4 (playwright build v1992) downloaded to /root/.cache/ms-playwright/webkit-1992\n",
            "Playwright Host validation warning: \n",
            "╔══════════════════════════════════════════════════════╗\n",
            "║ Host system is missing dependencies to run browsers. ║\n",
            "║ Missing libraries:                                   ║\n",
            "║     libwoff2dec.so.1.0.2                             ║\n",
            "║     libgstgl-1.0.so.0                                ║\n",
            "║     libgstcodecparsers-1.0.so.0                      ║\n",
            "║     libharfbuzz-icu.so.0                             ║\n",
            "║     libenchant-2.so.2                                ║\n",
            "║     libsecret-1.so.0                                 ║\n",
            "║     libhyphen.so.0                                   ║\n",
            "║     libmanette-0.2.so.0                              ║\n",
            "╚══════════════════════════════════════════════════════╝\n",
            "    at validateDependenciesLinux (/usr/local/lib/python3.10/dist-packages/playwright/driver/package/lib/server/registry/dependencies.js:216:9)\n",
            "\u001b[90m    at process.processTicksAndRejections (node:internal/process/task_queues:95:5)\u001b[39m\n",
            "    at async Registry._validateHostRequirements (/usr/local/lib/python3.10/dist-packages/playwright/driver/package/lib/server/registry/index.js:587:43)\n",
            "    at async Registry._validateHostRequirementsForExecutableIfNeeded (/usr/local/lib/python3.10/dist-packages/playwright/driver/package/lib/server/registry/index.js:685:7)\n",
            "    at async Registry.validateHostRequirementsForExecutablesIfNeeded (/usr/local/lib/python3.10/dist-packages/playwright/driver/package/lib/server/registry/index.js:674:43)\n",
            "    at async t.<anonymous> (/usr/local/lib/python3.10/dist-packages/playwright/driver/package/lib/cli/program.js:119:7)\n"
          ]
        }
      ]
    },
    {
      "cell_type": "markdown",
      "source": [
        "LangChain 프레임워크를 사용하려고 할 때 RuntimeError: asyncio.run() 이 이미 실행 중인 이벤트 루프에서 호출될 수 없다는 오류가 발생합니다.\n",
        "\n",
        "이 오류는 보통 asyncio.run() 이 다른 asyncio 이벤트 루프가 이미 실행 중인 상황에서 호출될 때 발생합니다.\n",
        "\n",
        "Jupyter Notebook 에서 이미 실행되고 있는 이벤트 루프가 존재하고, 또 하나의 이벤트 루프를 생성하려고 할 때 나타나는 오류 입니다.\n",
        "\n",
        "이러한 오류를 해결하기 위하여 아래의 코드를 실행하여 Jupyter Notebook 의 이벤트 루프를 가져옵니다."
      ],
      "metadata": {
        "id": "G4mT-LEqmhZB"
      }
    },
    {
      "cell_type": "code",
      "source": [
        "!pip install -q nest-asyncio\n",
        "\n",
        "import nest_asyncio\n",
        "\n",
        "nest_asyncio.apply()"
      ],
      "metadata": {
        "id": "ejeKpgN-mdVq"
      },
      "execution_count": 5,
      "outputs": []
    },
    {
      "cell_type": "markdown",
      "source": [
        "AsyncChromiumLoader를 사용하여 웹 페이지의 콘텐츠를 비동기적으로 로드합니다.\n",
        "\n",
        "- urls 리스트에 로드할 웹 페이지의 URL을 지정합니다.\n",
        "- AsyncChromiumLoader 객체를 생성하고 urls를 전달합니다.\n",
        "- load() 메서드를 호출하여 웹 페이지의 콘텐츠를 로드하고 Document 객체의 리스트를 반환합니다."
      ],
      "metadata": {
        "id": "FNnx2lSLmqjp"
      }
    },
    {
      "cell_type": "code",
      "source": [
        "from langchain_community.document_loaders import AsyncChromiumLoader\n",
        "\n",
        "# 크롤링할 URL 목록을 설정합니다.\n",
        "urls = [\"https://news.naver.com\"]\n",
        "\n",
        "# AsyncChromiumLoader를 사용하여 URL에서 비동기적으로 문서를 로드합니다.\n",
        "loader = AsyncChromiumLoader(urls)\n",
        "# 로드된 문서를 가져옵니다.\n",
        "docs = loader.load()\n",
        "\n",
        "# 0번 문서의 내용 중 중간의 500자를 출력합니다.\n",
        "docs[0].page_content[6000:6500]\n"
      ],
      "metadata": {
        "colab": {
          "base_uri": "https://localhost:8080/",
          "height": 72
        },
        "id": "bcRrkoWSmqG5",
        "outputId": "2e8798cf-c212-4427-9e01-0ab42c8bcad9"
      },
      "execution_count": 12,
      "outputs": [
        {
          "output_type": "execute_result",
          "data": {
            "text/plain": [
              "'or\" content=\"네이버\">\\n  <meta name=\"twitter:card\" content=\"summary\">\\n  <meta name=\"twitter:title\" content=\"네이버 뉴스\">\\n  <meta name=\"twitter:site\" content=\"네이버 뉴스\">\\n  <meta name=\"twitter:creator\" content=\"네이버 뉴스\">\\n  <meta name=\"twitter:image\" content=\"https://ssl.pstatic.net/static.news/image/news/ogtag/navernews_800x420_20221201.png\">\\n  <meta name=\"twitter:description\" content=\"정치, 경제, 사회, 생활/문화, 세계, IT/과학 등 언론사별, 분야별 뉴스 기사 제공\">\\n\\n\\t\\t\\n        <script>\\n    \\n    (function () {\\n        var isUnderIE10 = n'"
            ],
            "application/vnd.google.colaboratory.intrinsic+json": {
              "type": "string"
            }
          },
          "metadata": {},
          "execution_count": 12
        }
      ]
    },
    {
      "cell_type": "markdown",
      "source": [
        "Html2TextTransformer 클래스를 사용하여 HTML 문서를 텍스트로 변환하는 과정을 보여줍니다.\n",
        "\n",
        "- html2text 객체를 생성합니다.\n",
        "- transform_documents 메서드를 호출하여 docs 리스트에 포함된 HTML 문서들을 텍스트로 변환합니다.\n",
        "- 변환된 문서들은 docs_transformed 리스트에 저장됩니다.\n",
        "- docs_transformed[0].page_content을 통해 변환된 첫 번째 문서의 내용을 확인합니다.\n",
        "\n",
        "html 을 문자열로 변환 & 파싱합니다.\n",
        "\n",
        "파싱하기 위한 html2text 를 설치합니다."
      ],
      "metadata": {
        "id": "um6ioj5cnJk6"
      }
    },
    {
      "cell_type": "code",
      "source": [
        "!pip install -q html2text\n",
        "\n",
        "from langchain_community.document_transformers import Html2TextTransformer\n",
        "\n",
        "html2text = Html2TextTransformer()  # HTML을 텍스트로 변환하는 객체를 생성합니다.\n",
        "docs_transformed = html2text.transform_documents(\n",
        "    docs\n",
        ")  # HTML 문서를 텍스트로 변환합니다."
      ],
      "metadata": {
        "colab": {
          "base_uri": "https://localhost:8080/"
        },
        "id": "ThtiMCfenR3y",
        "outputId": "dc26b7f2-f58f-4097-bb6a-927ad5541ff9"
      },
      "execution_count": 13,
      "outputs": [
        {
          "output_type": "stream",
          "name": "stdout",
          "text": [
            "\u001b[?25l     \u001b[90m━━━━━━━━━━━━━━━━━━━━━━━━━━━━━━━━━━━━━━━━\u001b[0m \u001b[32m0.0/56.5 kB\u001b[0m \u001b[31m?\u001b[0m eta \u001b[36m-:--:--\u001b[0m\r\u001b[2K     \u001b[90m━━━━━━━━━━━━━━━━━━━━━━━━━━━━━━━━━━━━━━━━\u001b[0m \u001b[32m56.5/56.5 kB\u001b[0m \u001b[31m1.7 MB/s\u001b[0m eta \u001b[36m0:00:00\u001b[0m\n",
            "\u001b[?25h  Preparing metadata (setup.py) ... \u001b[?25l\u001b[?25hdone\n",
            "  Building wheel for html2text (setup.py) ... \u001b[?25l\u001b[?25hdone\n"
          ]
        }
      ]
    },
    {
      "cell_type": "code",
      "source": [
        "# 변환된 문서를 출력합니다.\n",
        "print(docs_transformed[0].page_content[2000:2500])"
      ],
      "metadata": {
        "colab": {
          "base_uri": "https://localhost:8080/"
        },
        "id": "kFftu04zndgS",
        "outputId": "8229ea11-cc44-435a-de57-e450f07e4036"
      },
      "execution_count": 14,
      "outputs": [
        {
          "output_type": "stream",
          "name": "stdout",
          "text": [
            "'위반 사항 없음'으로 사건을\n",
            "종결했다. 국민권익위원회(이하 권익위)는 13일 정부세종청사에서 브리핑을 열고 \"\n",
            "\n",
            "#### 헤럴드경제05월 13일 19:19\n",
            "\n",
            "구독\n",
            "\n",
            "“방시혁, 뉴진스 인사 안 받아” vs “민희진 본인 욕심에 부모 끌어들여”…‘이메일 대첩’ 하이브, 20만원 붕괴 [투자360]\n",
            "\n",
            "하이브 자회사 어도어 소속 인기 걸그룹 ‘뉴진스’ 소속 멤버들의 부모가 작성했다고 알려진 이메일을 두고 하이브 측과 어도어 간의 ‘정면\n",
            "충돌’ 양상이 벌어진 가운데, 13일 하이브 주가 20만원 대가 붕괴하며 약세를\n",
            "\n",
            "새로보기\n",
            "\n",
            "#### 동아사이언스05월 13일 17:48\n",
            "\n",
            "구독\n",
            "\n",
            "인간 배신하고 허세 부리는 '속임수 달인' AI\n",
            "\n",
            "\"여자 친구와 통화 중이다.\" 사람과 함께 게임을 하던 인공지능(AI)이 시스템 재부팅으로 잠시 자리를 비운 뒤 게임이 지연된 상황에서\n",
            "AI가 지어낸 거짓말이다. AI가 점점 정교해지며 인간을 속일 수 있는 능력도\n",
            "\n",
            "#### 시사IN05월 13일 15:06\n",
            "\n",
            "구독\n"
          ]
        }
      ]
    },
    {
      "cell_type": "markdown",
      "source": [
        "Beautiful Soup\n",
        "\n",
        "Beautiful Soup은 HTML 및 XML 문서를 파싱하기 위한 Python 패키지입니다(잘못 형성된 마크업, 즉 닫히지 않은 태그를 포함하여, 태그 수프라고 불립니다).\n",
        "\n",
        "파싱된 페이지에 대한 파싱 트리를 생성하여 HTML에서 데이터를 추출하는 데 사용할 수 있으며, 이는 웹 스크래핑에 유용합니다.\n",
        "\n",
        "Beautiful Soup은 HTML 내용에 대한 세밀한 제어를 제공하여, 특정 태그의 추출, 제거 및 내용 정리를 가능하게 합니다.\n",
        "\n",
        "특정 정보를 추출하고 HTML 내용을 필요에 따라 정리하고자 하는 경우에 적합합니다.\n",
        "\n",
        "예를 들어, HTML 내용에서 <p>, <li>, <div>, <a> 태그 내의 텍스트 내용을 스크래핑할 수 있습니다."
      ],
      "metadata": {
        "id": "fu4kjaognof5"
      }
    },
    {
      "cell_type": "code",
      "source": [
        "from langchain_community.document_loaders import AsyncChromiumLoader\n",
        "\n",
        "urls = [\"https://news.naver.com\"]  # 크롤링할 URL 목록을 설정합니다.\n",
        "# AsyncChromiumLoader를 사용하여 URL에서 비동기적으로 문서를 로드합니다.\n",
        "loader = AsyncChromiumLoader(urls)\n",
        "docs = loader.load()  # 로드된 문서를 가져옵니다."
      ],
      "metadata": {
        "id": "lfohPdQenzCi"
      },
      "execution_count": 15,
      "outputs": []
    },
    {
      "cell_type": "code",
      "source": [
        "from langchain_community.document_transformers import BeautifulSoupTransformer\n",
        "\n",
        "# 변환 작업\n",
        "bs_transformer = BeautifulSoupTransformer()\n",
        "# HTML 문서를 변환합니다. p, li, div, a 태그의 내용을 추출합니다.\n",
        "docs_transformed = bs_transformer.transform_documents(\n",
        "    docs,\n",
        "    # tags_to_extract=[\"p\", \"li\", \"div\", \"a\"]\n",
        "    tags_to_extract=[\"a\"],\n",
        ")\n",
        "\n",
        "# a 태그의 내용을 출력합니다.\n",
        "print(docs_transformed[0].page_content[:1000])"
      ],
      "metadata": {
        "colab": {
          "base_uri": "https://localhost:8080/"
        },
        "id": "HdSekCAcn2hC",
        "outputId": "342cbcfc-d085-44f4-b573-501b43b2f32e"
      },
      "execution_count": 16,
      "outputs": [
        {
          "output_type": "stream",
          "name": "stdout",
          "text": [
            "본문 바로가기 (#ct) NAVER 뉴스  (https://entertain.naver.com/home) 연예  (https://entertain.naver.com/home)  (https://sports.news.naver.com/index) 스포츠  (https://sports.news.naver.com/index)  (https://weather.naver.com/) 날씨  (https://weather.naver.com/)  (https://contents.premium.naver.com/) 프리미엄  (https://contents.premium.naver.com/) 도움말 (https://help.naver.com/support/alias/search/word/word_32.naver) 전체삭제 (javascript:;) 자동저장 (javascript:;) 끄기 켜기 도움말 (https://help.naver.com/support/alias/search/word/word_32.naver) 도움말 (https://help.naver.com/support/alias/search/word/word_48.naver) 신고 (https://help.naver.com/support/alias/search/word/word_18.naver) 검색 언론사별 정치 경제 사회 생활/문화 IT/과학 세계 랭킹 신문보기 오피니언 TV 팩트체크 알고리즘 안내 정정보도 모음 전체 언론사 (https://news.naver.com/main/officeList.naver ) 뉴스스탠드 (https://newsstand.naver.com/) 라이브러리 (https://newslibrary.naver.com/search/searchByDate.naver)  (#feedJournalistCard) 기자  (#feedJournalistCard)  (#feedSeriesCard) 연재  (#feedSeriesCard) 구독설정 (https://media.naver.com/channel/\n"
          ]
        }
      ]
    },
    {
      "cell_type": "markdown",
      "source": [
        "WebBaseLoader\n",
        "\n",
        "WebBaseLoader는 HTML 웹페이지의 모든 텍스트를 추출 하여, 다양한 용도로 활용할 수 있는 문서 형태로 변환하는 기능을 가진 도구입니다.\n",
        "\n",
        "보다 특정한 사용 사례나 데이터 소스에 최적화된 로직을 적용하기 위해서는, WebBaseLoader의 자식 클래스들을 사용할 수 있습니다. 예를 들어, IMSDbLoader는 영화 대본을 다루는 IMSDb 웹사이트에서 데이터를 로드하는 데 특화되어 있으며, AZLyricsLoader는 가사 정보를 제공하는 AZLyrics 웹사이트의 텍스트를 추출하는 데 사용됩니다. CollegeConfidentialLoader는 대학 커뮤니티 포럼인 CollegeConfidential에서 데이터를 가져오는 데 최적화되어 있습니다.\n",
        "\n",
        "이러한 자식 클래스들은 WebBaseLoader가 제공하는 기본적인 텍스트 로딩 기능에 추가적인 처리 또는 웹사이트별 데이터 구조에 맞는 파싱 로직을 적용하여, 특정 웹사이트의 구조와 내용에 더 잘 맞는 데이터 추출 방법을 제공합니다. 이를 통해, 사용자는 웹에서 정보를 효율적으로 수집하고, 다양한 분석이나 애플리케이션에 필요한 형식으로 쉽게 변환할 수 있습니다."
      ],
      "metadata": {
        "id": "UqKQzSmzn-ri"
      }
    },
    {
      "cell_type": "code",
      "source": [
        "from langchain_community.document_loaders import WebBaseLoader\n",
        "\n",
        "# 웹 페이지 \"https://news.naver.com/\"에서 데이터를 로드하는 WebBaseLoader 객체를 생성합니다.\n",
        "loader = WebBaseLoader(\"https://news.naver.com/\")\n",
        "\n",
        "# 한글이 깨져서 로드되는 경우 아래와 같이 인코딩을 지정합니다.\n",
        "# loader = WebBaseLoader(\"https://news.naver.com/\", encoding=\"utf-8\")\n"
      ],
      "metadata": {
        "id": "aqkSrko1oGCC"
      },
      "execution_count": 18,
      "outputs": []
    },
    {
      "cell_type": "markdown",
      "source": [
        "SSL 인증서 검증 오류를 우회하기 위해 데이터를 가져오는 동안 \"verify\" 옵션을 설정할 수 있습니다.\n",
        "\n",
        "이렇게 하면 SSL 인증서 검증 과정을 건너뛰고 데이터를 가져올 수 있습니다. 하지만 이 방법은 보안상의 이유로 권장되지 않습니다. 가능하다면 올바른 SSL 인증서를 사용하는 것이 좋습니다."
      ],
      "metadata": {
        "id": "nTCZ2W6soMfy"
      }
    },
    {
      "cell_type": "code",
      "source": [
        "\n",
        "# SSL 인증서 오류 우회\n",
        "loader.requests_kwargs = {\"verify\": False}\n",
        "\n",
        "# 로더를 사용하여 데이터를 불러옵니다.\n",
        "web_data = loader.load()\n",
        "# 불러온 데이터를 출력합니다.\n",
        "print(web_data[0].page_content[2000:2500].replace(\"\\n\", \"\"))"
      ],
      "metadata": {
        "colab": {
          "base_uri": "https://localhost:8080/"
        },
        "id": "dONdMau3oNca",
        "outputId": "6c4184cf-fd3b-41da-86a8-e12ec2ea35d8"
      },
      "execution_count": 19,
      "outputs": [
        {
          "output_type": "stream",
          "name": "stderr",
          "text": [
            "/usr/local/lib/python3.10/dist-packages/urllib3/connectionpool.py:1100: InsecureRequestWarning: Unverified HTTPS request is being made to host 'news.naver.com'. Adding certificate verification is strongly advised. See: https://urllib3.readthedocs.io/en/latest/advanced-usage.html#tls-warnings\n",
            "  warnings.warn(\n"
          ]
        },
        {
          "output_type": "stream",
          "name": "stdout",
          "text": [
            " 마친 고기를 주는 경우를 어렵지 않게 볼 수 있다. 피크타임때 몰려드는 구이 주문을 일일이 사람이 조세일보05월 13일 18:41구독라인야후 사태…\"정부, 네이버 입장 최대한 존중해 대응\"정부는 일본 정부의 최근 라인야후 사태에 대한 대응에 대해 네이버의 입장을 최대한 존중해 정부 대응을 반영했고, 앞으로도 정부 차원에서 모든 지원을 다할 것이라는 입장을 밝혔다. 성태윤 대통령실 정책실장은 13일 용헬스조선05월 13일 20:04구독전 세계 사망 기여도 1위 ‘이 질환’… “젊은 환자 4명 중 3명은 병 몰라”매년 5월 17일은 세계고혈압연맹(WHL)이 지정한 ‘세계 고혈압의 날’이다. 국내 성인 10명 중 3명은 고혈압 환자로 추정된다. 그러나 환자 본인은 혈압이 높은지 모르는 경우가 많다. 고혈압은 전 세계에서 사망 새로보기코리아중앙데일리05월 13일 19:17\n"
          ]
        }
      ]
    },
    {
      "cell_type": "markdown",
      "source": [
        "BeautifulSoup을 사용하여 새로운 사용자 정의 웹 페이지 파서를 활용할 수 있습니다.\n",
        "\n",
        "예시로 soup.select_one(\"td[class='scrtext']\").text와 같은 코드를 사용하여 원하는 요소를 선택하고 텍스트를 추출할 수 있습니다.\n",
        "BS4 문서에서 더욱 자세한 내용을 확인할 수 있습니다."
      ],
      "metadata": {
        "id": "kQZKZATzoVKa"
      }
    },
    {
      "cell_type": "code",
      "source": [
        "import requests\n",
        "from bs4 import BeautifulSoup\n",
        "\n",
        "html_doc = requests.get(\"https://news.naver.com/\")\n",
        "soup = BeautifulSoup(html_doc.text, \"html.parser\")\n",
        "\n",
        "# 예제 코드\n",
        "# soup.select_one(\"td[class='scrtext']\").text\n",
        "\n",
        "# body 태그의 내용을 출력합니다.\n",
        "print(soup.select_one(\"body\").text.replace(\"\\n\", \"\")[:1000])"
      ],
      "metadata": {
        "colab": {
          "base_uri": "https://localhost:8080/"
        },
        "id": "mFvBlKWqoWia",
        "outputId": "923ecfdd-a0e0-4b64-f188-a528c16da4e6"
      },
      "execution_count": 20,
      "outputs": [
        {
          "output_type": "stream",
          "name": "stdout",
          "text": [
            "본문 바로가기NAVER뉴스연예스포츠날씨프리미엄검색언론사별정치경제사회생활/문화IT/과학세계랭킹신문보기오피니언TV팩트체크알고리즘 안내정정보도 모음콘텐츠5.13(월)전체 언론사뉴스스탠드라이브러리언론사편집기자                                            연재                                                            구독설정                                프레시안05월 13일 20:03구독'아빠 찬스' 공수처장 후보자, 이번엔 '아내 채용' 의혹소속 법무법인 운전기사로…'부모 찬스' 이어 '남편 찬스'? 오동운 고위공직자범죄수사처장 후보자가 자신이 근무하던 법무법인 전담 운전기사로 자신의 배우자를 채용했던 것으로 파악됐다. 오 후보자의 딸의 '아빠 찬스' 비즈워치05월 13일 19:07구독편의점도 '부익부 빈익빈'…'2강'만 웃는다편의점 업계 1, 2위 경쟁 중인 GS25와 CU가 고성장을 이어가며 세븐일레븐·이마트24와의 격차를 벌려가고 있다. 매출 2위 CU와 3위 세븐일레븐의 격차는 2조5000억원이 넘는다. 매년 2000억원대 이익을 기자협회보05월 13일 18:08구독감사원, 방심위에 이해충돌 회피 방안 마련 요구방송통신심의위원회가 이해충돌 상황에서 심의 민원을 400건 가까이 처리한 사실을 감사원이 확인했다. 감사원은 심의위원들이 스스로 이해충돌을 피할 수 있게 방안을 마련하라고 지적했다. 방심위는 민원사주 의혹을 받는 류더팩트05월 13일 20:04구독[의대증원 파장] 의정 '2000명' 자료 공방…\"정책 결정\" vs \"단 세 문장에 경악\"정부 제출 법원자료 언론에 공개 정부, \"재판에 부당한 압력\" 반발 의과대학 정원 2000명 증원 근거 자료를 두고 정부와 의사단체 간 공방이 이어지고 있다. 정부는 증원 규모를 결정한 보건의료정책심의위원회(보정심)강원도민일보05월 13일 18:44구독울릉도 도착한 조국 대표, 독도에서 성명서 발표 예정조국혁신당 조국\n"
          ]
        }
      ]
    },
    {
      "cell_type": "markdown",
      "source": [
        "여러 페이지 로드\n",
        "\n",
        "여러 개의 웹페이지를 한 번에 로드하려면 로더에 URL 리스트를 전달하면 됩니다. 이렇게 하면 전달된 URL과 동일한 순서로 문서 리스트가 반환됩니다.\n",
        "\n",
        "WebBaseLoader를 사용하여 여러 웹페이지를 로드해 봅시다."
      ],
      "metadata": {
        "id": "5xZTxCmAobRi"
      }
    },
    {
      "cell_type": "code",
      "source": [
        "# 웹 페이지 URL 목록을 사용하여 WebBaseLoader 객체를 생성합니다.\n",
        "loader = WebBaseLoader([\"https://news.naver.com/\", \"https://news.daum.net\"])\n",
        "docs = loader.load()  # 지정된 웹 페이지에서 문서를 로드합니다.\n",
        "# 로드된 문서를 출력합니다.\n",
        "print(\"Naver\")\n",
        "print(docs[0].page_content.replace(\"\\n\", \"\")[200:1000])\n",
        "print(\"===\" * 20)\n",
        "print(\"Daum\")\n",
        "print(docs[1].page_content.replace(\"\\n\", \"\")[:1000])"
      ],
      "metadata": {
        "colab": {
          "base_uri": "https://localhost:8080/"
        },
        "id": "RSBV6UbCod7i",
        "outputId": "72a2227b-833e-48ff-b1f9-350a1ee1aff3"
      },
      "execution_count": 21,
      "outputs": [
        {
          "output_type": "stream",
          "name": "stdout",
          "text": [
            "Naver\n",
            "                        구독설정                                채널A05월 13일 19:49구독동영상재생시간01:51무인매장서 잠옷 입고 8시간 무전취식무인점포에서 돈도 안 내고 라면과 음료수 등을 마음대로 꺼내 먹으며, 8시간 동안 머무른 40대 남성입니다. 이 남성은 자신 집이라도 되는양 잠옷으로 갈아입고, 경찰이 출동하자 출입문을 냉장고로 가로 막기까지 했습니뉴스타파05월 13일 18:11구독탄소중립 핵심 대안? 멈춰 선 한국 해상풍력우리 국민 대다수는 내가 쓰는 전력이 어디서 어떻게 오는지 모른다. 정부와 전력 당국의 노력 덕분에 지난 수십 년간 값 싸고 질 좋은 전력을 걱정 없이 써왔기 때문이다. 그러나 이제는 알아야 할 때다. 석탄과 가스로한국일보05월 13일 19:49구독\"한가인 말고 조수빈 써\"...KBS 경영진, 교양 프로 MC 압박 논란KBS 경영진이 교양 프로그램에 특정 MC를 기용하려다 무산되자 방송 자체가 폐지 위기에 놓여 논란이 일고 있다. 해당 프로그램 제작진은 지난 2월 세월호 10주기 다큐멘터리 불방을 결정했던 제작본부장이 이번에도 물더스쿠프05월 13일 10:39구독\"광고야 뭐야?\" 숙박앱 검색 결과 믿을 만한가요 [視리즈]# 우리는 '숙박앱의 두 얼굴' 1편에서 숙박앱이 가진 문제점들이 무엇인지 짚어봤습니다. 숙박업소들은 갖가지 이유를 들면서 이용자의 예약 취소를 거부하고, 숙박앱은 이를 남의 일인 양 모른척하기 일쑤입니다. 중복 예오마이뉴스05월 13일 20:04구독수원구치소, 법원에 김성태 출정기록 제출 거부▲ 500억원대 횡령\n",
            "============================================================\n",
            "Daum\n",
            "홈 | 다음뉴스본문 바로가기메뉴 바로가기뉴스관련 서비스연예스포츠 뉴스 메인메뉴홈사회정치경제국제문화IT연재포토팩트체크홈이슈 기사 목록정치                                    [여랑야랑]잠룡들의 대화 주제 / 홍준표, 의외의 덕담? / 윤석열 탓 vs 문재인 탓                                사회                                    채상병 대신 빨간 구명조끼 입은 청년들 \"특검 거부하면 다시 모인다\"                                국제                                    한중 외교장관, 조속한 시일 내 3국 정상회담 개최 합의                                정치                                    조국 “2년 만에 일본 식민지 된 느낌… 박정희·이명박·박근혜 때도 안 이랬다”                                사회                                    검찰 물갈이‥여사 수사 진압?                                사회                                    '의대 정원 배분' 절차…정부·의료계 첨예하게 대립                                사회                                    강원 화천서도 오로라 관측…천문연 해외 관측장비에도 찍혀                                사회                                    교육부, 의대 여건 지원은 증원 정책과 충돌 없어…\"국시 연기 복지부 협의\"                                사회                                    [취재가 시작되자]요양보호사 폭행에 80대 전치 14주                     \n"
          ]
        }
      ]
    },
    {
      "cell_type": "markdown",
      "source": [
        "여러 URL을 동시에 로드\n",
        "\n",
        "\n",
        "기본적으로 동시 요청의 수는 초당 2개로 제한되어 있으나, requests_per_second 매개변수를 조정하여 이 제한을 변경할 수 있습니다. 이는 특히 스크래핑하는 서버를 직접 관리하거나, 서버 부하에 대해 우려하지 않는 경우 유용할 수 있습니다."
      ],
      "metadata": {
        "id": "99GXAU5fop1K"
      }
    },
    {
      "cell_type": "code",
      "source": [
        "# 웹 페이지 URL 목록을 사용하여 WebBaseLoader 객체를 생성합니다.\n",
        "loader = WebBaseLoader([\"https://news.naver.com/\", \"https://news.daum.net\"])\n",
        "loader.requests_per_second = 1  # 초당 요청 수를 1로 설정합니다.\n",
        "docs = loader.aload()  # 지정된 웹 페이지에서 문서를 로드합니다.\n",
        "# 로드된 문서를 출력합니다.\n",
        "print(\"Naver\")\n",
        "print(docs[0].page_content.replace(\"\\n\", \"\")[200:1000])\n",
        "print(\"===\" * 20)\n",
        "print(\"Daum\")\n",
        "print(docs[1].page_content.replace(\"\\n\", \"\")[:1000])\n"
      ],
      "metadata": {
        "colab": {
          "base_uri": "https://localhost:8080/"
        },
        "id": "NEqBFuEjolES",
        "outputId": "72a64dcc-e76d-4be7-f6df-53535270e90d"
      },
      "execution_count": 22,
      "outputs": [
        {
          "output_type": "stream",
          "name": "stderr",
          "text": [
            "Fetching pages: 100%|##########| 2/2 [00:02<00:00,  1.01s/it]\n"
          ]
        },
        {
          "output_type": "stream",
          "name": "stdout",
          "text": [
            "Naver\n",
            "                        구독설정                                여성신문05월 13일 18:50구독여성 ‘사회생활 전략’ 된 ‘셀카’, 여성을 위협하다셔터만 누르면 끝인가. 예쁘면서도 '튀지 않고 자연스러운' 연출과 보정은 필수다. 거슬리는 볼살이나 턱선을 교정한다. 프레임 속 요소도 빈틈없이 배치한다. 내가 원하는 나의 이미지를, 나의 서사를 적극적으로 구축한다KBS05월 13일 19:58구독동영상재생시간00:19강원 화천서도 오로라 관측…천문연 해외 관측장비에도 찍혀약 21년 만에 발생한 가장 강력한 태양 폭풍으로 지구 곳곳에서 오로라가 관찰된 가운데 국내에서도 오로라가 포착됐습니다. 한국천문연구원은 국립 용인어린이천문대에서 근무하는 박정하·심형섭 씨가 어제(12일) 강원도 화머니투데이05월 13일 20:01구독\"여친 살해 의대생 신상이 여기에\"…방심위, 디지털교도소 접속 차단'강남역 여자친구 살해사건' 피의자 최모씨의 신상정보를 공개한 웹사이트 '디지털교도소'에 대해 방송통신심의위원회(방심위)가 국내 인터넷 접속을 차단하기로 했다. 방심위는 13일 통신심의소위원회를 열고 범죄 피의자 등SBS Biz05월 13일 19:18구독쉬는 날마다 '비바람'…부처님오신날 비 온다화요일인 내일(14일)도 맑고 이에 일교차가 큰 날씨가 나타나겠습니다. 맑은 날은 14일 끝나고, 부처님 오신 날인 15일에는 중부지방을 중심으로 비가 내리고 강풍이 불 것으로 예상돼 어린이날 연휴부터 휴일마다 비가세계일보05월 13일 20:00구독음주운전 차에 치여..‘제2의 손흥민' 꿈 20대, \n",
            "============================================================\n",
            "Daum\n",
            "홈 | 다음뉴스본문 바로가기메뉴 바로가기뉴스관련 서비스연예스포츠 뉴스 메인메뉴홈사회정치경제국제문화IT연재포토팩트체크홈이슈 기사 목록정치                                    [여랑야랑]잠룡들의 대화 주제 / 홍준표, 의외의 덕담? / 윤석열 탓 vs 문재인 탓                                사회                                    채상병 대신 빨간 구명조끼 입은 청년들 \"특검 거부하면 다시 모인다\"                                국제                                    한중 외교장관, 조속한 시일 내 3국 정상회담 개최 합의                                정치                                    조국 “2년 만에 일본 식민지 된 느낌… 박정희·이명박·박근혜 때도 안 이랬다”                                사회                                    검찰 물갈이‥여사 수사 진압?                                사회                                    '의대 정원 배분' 절차…정부·의료계 첨예하게 대립                                사회                                    강원 화천서도 오로라 관측…천문연 해외 관측장비에도 찍혀                                사회                                    교육부, 의대 여건 지원은 증원 정책과 충돌 없어…\"국시 연기 복지부 협의\"                                사회                                    [취재가 시작되자]요양보호사 폭행에 80대 전치 14주                     \n"
          ]
        }
      ]
    },
    {
      "cell_type": "markdown",
      "source": [
        "XML 파일 로드\n",
        "\n",
        "SitemapLoader 는 웹사이트의 사이트맵 파일을 로드하고 파싱하기 위한 도구입니다. 사이트맵은 웹사이트의 페이지들이 어떻게 구성되어 있는지를 XML 형식으로 정리한 파일로, 검색 엔진이 웹사이트의 구조를 더 쉽게 이해하고 페이지들을 효율적으로 크롤링할 수 있도록 도와줍니다. 따라서 SitemapLoader를 사용하여 사이트맵을 로드하고 파싱하는 것은 웹사이트의 구조를 분석하거나 특정 페이지들에 대한 정보를 수집하는 데 매우 유용합니다."
      ],
      "metadata": {
        "id": "5RJ1E7EJoxoL"
      }
    },
    {
      "cell_type": "code",
      "source": [
        "loader = WebBaseLoader(\n",
        "    # 웹 기반 로더를 사용하여 XML 문서를 로드합니다.\n",
        "    \"https://www.govinfo.gov/content/pkg/CFR-2018-title10-vol3/xml/CFR-2018-title10-vol3-sec431-86.xml\"\n",
        ")\n",
        "loader.default_parser = \"xml\"  # 기본 파서를 XML로 설정합니다.\n",
        "docs = loader.load()  # 문서를 로드합니다.\n",
        "\n",
        "# 로드된 문서를 출력합니다.\n",
        "print(docs[0].page_content[:1000].replace(\"\\n\", \"\"))\n"
      ],
      "metadata": {
        "colab": {
          "base_uri": "https://localhost:8080/"
        },
        "id": "WdiZ3ShQo0Tz",
        "outputId": "7b865324-79ee-4f4d-9a38-efa725249bc8"
      },
      "execution_count": 23,
      "outputs": [
        {
          "output_type": "stream",
          "name": "stdout",
          "text": [
            "10Energy32018-01-012018-01-01falseUniform test method for the measurement of energy efficiency of commercial packaged boilers.Â§ 431.86Section Â§ 431.86EnergyDEPARTMENT OF ENERGYENERGY CONSERVATIONENERGY EFFICIENCY PROGRAM FOR CERTAIN COMMERCIAL AND INDUSTRIAL EQUIPMENTCommercial Packaged BoilersTest Procedures§ 431.86Uniform test method for the measurement of energy efficiency of commercial packaged boilers.(a) Scope. This section provides test procedures, pursuant to the Energy Policy and Conservation Act (EPCA), as amended, which must be followed for measuring the combustion efficiency and/or thermal efficiency of a gas- or oil-fired commercial packaged boiler.(b) Testing and Calculations. Determine the thermal efficiency or combustion efficiency of commercial packaged boilers by conducting the appropriate test procedure(s) indicated in Table 1 of this section.Table 1—Test Requirements for Commercial Packaged Boiler Equipment ClassesEquipment categorySu\n"
          ]
        }
      ]
    },
    {
      "cell_type": "markdown",
      "source": [
        "# 허깅페이스 데이터셋(HuggingFace Datasets)"
      ],
      "metadata": {
        "id": "UIA4M9Uro7z8"
      }
    },
    {
      "cell_type": "markdown",
      "source": [
        "Hugging Face Hub는 NLP, 컴퓨터 비전, 오디오 분야에서 다양한 작업에 사용될 수 있는 100개 이상의 언어로 된 5,000개 이상의 데이터셋을 제공합니다.\n",
        "\n",
        "이러한 데이터셋은 번역, 자동 음성 인식, 이미지 분류와 같은 다양한 작업에 활용됩니다."
      ],
      "metadata": {
        "id": "VZnLIw7oo9Kz"
      }
    },
    {
      "cell_type": "code",
      "source": [
        "!pip install -q datasets\n",
        "\n",
        "from langchain_community.document_loaders import HuggingFaceDatasetLoader\n",
        "\n",
        "dataset_name = \"imdb\"  # 데이터셋 이름을 \"imdb\"로 설정합니다.\n",
        "page_content_column = \"text\"  # 페이지 내용이 포함된 열의 이름을 \"text\"로 설정합니다.\n",
        "\n",
        "# HuggingFaceDatasetLoader를 사용하여 데이터셋을 로드합니다.\n",
        "# 데이터셋 이름과 페이지 내용 열 이름을 전달합니다.\n",
        "loader = HuggingFaceDatasetLoader(dataset_name, page_content_column)\n",
        "\n",
        "\n",
        "data = loader.load()  # 로더를 사용하여 데이터를 불러옵니다.\n"
      ],
      "metadata": {
        "colab": {
          "base_uri": "https://localhost:8080/",
          "height": 498,
          "referenced_widgets": [
            "6be565ecf8e44be5ac752c751361dd75",
            "4b83afc02d564b15bd259e57d350dc41",
            "3d88589b70ed4663a1e7e2c46cb8cf55",
            "471dc910575c4eab9d12f3cf0e629d7c",
            "a45c1fe3680b4812ab5eba7de10fed22",
            "9001fca00d4b483d89efcd0c95377e1e",
            "6cc024ddee0d43ebbb373ef545d97be7",
            "7a8065c75670478ea1dfa87b22634c1b",
            "7ecb068c5ef54ac7b1ae0ababe40d64c",
            "313ecf489c004e79a6b3860eb67ffdf2",
            "c50164a2f48e425eba5d47e7d5b5a91a",
            "ed39e7628b43473884fcb0f7004c34ba",
            "616578503bdc443aaa8264f8c8d48e49",
            "c578aa25a473406cb4c588e48e7ae9aa",
            "e549da6dd4524d969806ecc38018a94b",
            "7f38309b32c242fbaf0b727260541b35",
            "401d979d47f145fca1986dc172782496",
            "39191e76d8a0427eb276380f5aad7f6b",
            "fab21dfee7f1482097be13045b9e089b",
            "3fe3fa49b26147919bc9ac4470723193",
            "0c5446be5f464b9885ba31f665fc3bd8",
            "3deb79894995413fa1ec4cef2ed4a7c0",
            "51811cd5ad754767b311196e4f3e2ef4",
            "1588ed079672412db090ddb394de9f76",
            "72ac86a2c23040eba86b6d8f6d56eea3",
            "15e18082b20f446396d4e748bfb1b68a",
            "9d2402fe175246a4abfb5a9ae94d847b",
            "1d5efaa218f64094874272a854af74f8",
            "32c415835b554cbba0f698b36ef6575a",
            "264ac9d59b2547a88760a2ee682d79cb",
            "1632bfccca644d2d8d35fa974762b0fd",
            "a8d788045cab44d4b464928b1642116a",
            "21fda47a02b24533823dd8445c8220f3",
            "09a53c17ccc043ff9e850cb58357255d",
            "42ca8511d87645f2bec59584a84c8364",
            "4b300cda50954d9aaf490cbf87e04364",
            "ec0dc6c38e0c4ee9928d8c528a88152b",
            "0b171f079b3f41c6989453eb0b7eb518",
            "f5e074395a3347f6b2a34714e7d2b17c",
            "9272bcffe86c497298754e649df02e91",
            "cc16ba1f317040648c32dda10bd5953b",
            "e31aa84d6d2041f997048556624e025f",
            "8302793592a8445c840c578d195bc746",
            "d338f2ee7d774d3f8f5971a2463925a6",
            "339267f5679d4af785491b44d8c99a83",
            "01f963530c3e43e3a6ce5c83ceb45573",
            "3c820c98e31b4cc788fdb7e2b0a3eced",
            "da2acd116a2943bca4eaade0dd917423",
            "cb1792a0beee436ab0d7923732e2ce20",
            "bbbe0b677ce142efb32ba3fa6fb717fd",
            "50228dd3feef4c278081a034a5b317f8",
            "5458bf2e794244e69d9c42ff32509293",
            "93493fba23d14036a0d35922ca675a63",
            "88fe1748300d49248cd299fe5ed665e8",
            "b1aa9ca0c86549f9ac62edb27d6ac56b",
            "32f91a85d28a40018fdfc84eb626d81e",
            "69f6412377754dc8967d258969eb576f",
            "6ed19b83880e4a37b0b7e4a7d98f4a16",
            "e9a496028dc44b43821b331dfdbdb2a5",
            "bdb08b6ecff54161b387567a3692c380",
            "bbc74fa328f7407bbeafbcd86d7ce530",
            "c5e37faff4654d1d9e2cf5eff3b3b3e6",
            "a8f476a6077c4f0f87096cfd59efc87c",
            "4222af3de8014909859706d9c2c627d3",
            "48b6be03b8044890a1296c4424a9e3c7",
            "20a8712836a84407abb0a556b5770a09",
            "4e71ab885e904d09bdf16a8c548d4180",
            "034253d6f3084c8482459ee42bb0faa4",
            "88c6887cf4f54c7ea319a86f0964ac15",
            "9c200b0537484503b365415c06706089",
            "fcd7f6bc12904e2d8baaf9f712dcad02",
            "0e6d9b474c66409fbef2fe57fef94a72",
            "9cc86d6c01a24d04a49f63af1f33f0ed",
            "1da7fb8a7ee24585936160493bea2a14",
            "e1893e00197c4f28a12901321061be7d",
            "78357ab5b7b64c79beb678f92ea9b482",
            "bee3eb01007f49a1826eee1e3d5226e3"
          ]
        },
        "id": "UwALyjJbpAx7",
        "outputId": "5ad1967c-f78e-4baa-c344-b3b2efeb8669"
      },
      "execution_count": 29,
      "outputs": [
        {
          "output_type": "stream",
          "name": "stdout",
          "text": [
            "\u001b[2K     \u001b[90m━━━━━━━━━━━━━━━━━━━━━━━━━━━━━━━━━━━━━━━━\u001b[0m \u001b[32m542.0/542.0 kB\u001b[0m \u001b[31m6.2 MB/s\u001b[0m eta \u001b[36m0:00:00\u001b[0m\n",
            "\u001b[2K     \u001b[90m━━━━━━━━━━━━━━━━━━━━━━━━━━━━━━━━━━━━━━━━\u001b[0m \u001b[32m116.3/116.3 kB\u001b[0m \u001b[31m10.9 MB/s\u001b[0m eta \u001b[36m0:00:00\u001b[0m\n",
            "\u001b[2K     \u001b[90m━━━━━━━━━━━━━━━━━━━━━━━━━━━━━━━━━━━━━━━━\u001b[0m \u001b[32m194.1/194.1 kB\u001b[0m \u001b[31m18.9 MB/s\u001b[0m eta \u001b[36m0:00:00\u001b[0m\n",
            "\u001b[2K     \u001b[90m━━━━━━━━━━━━━━━━━━━━━━━━━━━━━━━━━━━━━━━━\u001b[0m \u001b[32m134.8/134.8 kB\u001b[0m \u001b[31m10.4 MB/s\u001b[0m eta \u001b[36m0:00:00\u001b[0m\n",
            "\u001b[2K     \u001b[90m━━━━━━━━━━━━━━━━━━━━━━━━━━━━━━━━━━━━━━━━\u001b[0m \u001b[32m401.2/401.2 kB\u001b[0m \u001b[31m26.4 MB/s\u001b[0m eta \u001b[36m0:00:00\u001b[0m\n",
            "\u001b[?25h"
          ]
        },
        {
          "output_type": "stream",
          "name": "stderr",
          "text": [
            "/usr/local/lib/python3.10/dist-packages/datasets/load.py:2547: FutureWarning: 'use_auth_token' was deprecated in favor of 'token' in version 2.14.0 and will be removed in 3.0.0.\n",
            "You can remove this warning by passing 'token=<use_auth_token>' instead.\n",
            "  warnings.warn(\n",
            "/usr/local/lib/python3.10/dist-packages/huggingface_hub/utils/_token.py:89: UserWarning: \n",
            "The secret `HF_TOKEN` does not exist in your Colab secrets.\n",
            "To authenticate with the Hugging Face Hub, create a token in your settings tab (https://huggingface.co/settings/tokens), set it as secret in your Google Colab and restart your session.\n",
            "You will be able to reuse this secret in all of your notebooks.\n",
            "Please note that authentication is recommended but still optional to access public models or datasets.\n",
            "  warnings.warn(\n"
          ]
        },
        {
          "output_type": "display_data",
          "data": {
            "text/plain": [
              "Downloading readme:   0%|          | 0.00/7.81k [00:00<?, ?B/s]"
            ],
            "application/vnd.jupyter.widget-view+json": {
              "version_major": 2,
              "version_minor": 0,
              "model_id": "6be565ecf8e44be5ac752c751361dd75"
            }
          },
          "metadata": {}
        },
        {
          "output_type": "display_data",
          "data": {
            "text/plain": [
              "Downloading data:   0%|          | 0.00/21.0M [00:00<?, ?B/s]"
            ],
            "application/vnd.jupyter.widget-view+json": {
              "version_major": 2,
              "version_minor": 0,
              "model_id": "ed39e7628b43473884fcb0f7004c34ba"
            }
          },
          "metadata": {}
        },
        {
          "output_type": "display_data",
          "data": {
            "text/plain": [
              "Downloading data:   0%|          | 0.00/20.5M [00:00<?, ?B/s]"
            ],
            "application/vnd.jupyter.widget-view+json": {
              "version_major": 2,
              "version_minor": 0,
              "model_id": "51811cd5ad754767b311196e4f3e2ef4"
            }
          },
          "metadata": {}
        },
        {
          "output_type": "display_data",
          "data": {
            "text/plain": [
              "Downloading data:   0%|          | 0.00/42.0M [00:00<?, ?B/s]"
            ],
            "application/vnd.jupyter.widget-view+json": {
              "version_major": 2,
              "version_minor": 0,
              "model_id": "09a53c17ccc043ff9e850cb58357255d"
            }
          },
          "metadata": {}
        },
        {
          "output_type": "display_data",
          "data": {
            "text/plain": [
              "Generating train split:   0%|          | 0/25000 [00:00<?, ? examples/s]"
            ],
            "application/vnd.jupyter.widget-view+json": {
              "version_major": 2,
              "version_minor": 0,
              "model_id": "339267f5679d4af785491b44d8c99a83"
            }
          },
          "metadata": {}
        },
        {
          "output_type": "display_data",
          "data": {
            "text/plain": [
              "Generating test split:   0%|          | 0/25000 [00:00<?, ? examples/s]"
            ],
            "application/vnd.jupyter.widget-view+json": {
              "version_major": 2,
              "version_minor": 0,
              "model_id": "32f91a85d28a40018fdfc84eb626d81e"
            }
          },
          "metadata": {}
        },
        {
          "output_type": "display_data",
          "data": {
            "text/plain": [
              "Generating unsupervised split:   0%|          | 0/50000 [00:00<?, ? examples/s]"
            ],
            "application/vnd.jupyter.widget-view+json": {
              "version_major": 2,
              "version_minor": 0,
              "model_id": "4e71ab885e904d09bdf16a8c548d4180"
            }
          },
          "metadata": {}
        }
      ]
    },
    {
      "cell_type": "code",
      "source": [
        "# 데이터의 처음 3개 요소를 선택합니다.\n",
        "data[:3]"
      ],
      "metadata": {
        "colab": {
          "base_uri": "https://localhost:8080/"
        },
        "id": "eNB_U61jpIwD",
        "outputId": "de38cbce-f422-4b36-a4be-67795161ad7c"
      },
      "execution_count": 30,
      "outputs": [
        {
          "output_type": "execute_result",
          "data": {
            "text/plain": [
              "[Document(page_content='\"I rented I AM CURIOUS-YELLOW from my video store because of all the controversy that surrounded it when it was first released in 1967. I also heard that at first it was seized by U.S. customs if it ever tried to enter this country, therefore being a fan of films considered \\\\\"controversial\\\\\" I really had to see this for myself.<br /><br />The plot is centered around a young Swedish drama student named Lena who wants to learn everything she can about life. In particular she wants to focus her attentions to making some sort of documentary on what the average Swede thought about certain political issues such as the Vietnam War and race issues in the United States. In between asking politicians and ordinary denizens of Stockholm about their opinions on politics, she has sex with her drama teacher, classmates, and married men.<br /><br />What kills me about I AM CURIOUS-YELLOW is that 40 years ago, this was considered pornographic. Really, the sex and nudity scenes are few and far between, even then it\\'s not shot like some cheaply made porno. While my countrymen mind find it shocking, in reality sex and nudity are a major staple in Swedish cinema. Even Ingmar Bergman, arguably their answer to good old boy John Ford, had sex scenes in his films.<br /><br />I do commend the filmmakers for the fact that any sex shown in the film is shown for artistic purposes rather than just to shock people and make money to be shown in pornographic theaters in America. I AM CURIOUS-YELLOW is a good film for anyone wanting to study the meat and potatoes (no pun intended) of Swedish cinema. But really, this film doesn\\'t have much of a plot.\"', metadata={'label': 0}),\n",
              " Document(page_content='\"\\\\\"I Am Curious: Yellow\\\\\" is a risible and pretentious steaming pile. It doesn\\'t matter what one\\'s political views are because this film can hardly be taken seriously on any level. As for the claim that frontal male nudity is an automatic NC-17, that isn\\'t true. I\\'ve seen R-rated films with male nudity. Granted, they only offer some fleeting views, but where are the R-rated films with gaping vulvas and flapping labia? Nowhere, because they don\\'t exist. The same goes for those crappy cable shows: schlongs swinging in the breeze but not a clitoris in sight. And those pretentious indie movies like The Brown Bunny, in which we\\'re treated to the site of Vincent Gallo\\'s throbbing johnson, but not a trace of pink visible on Chloe Sevigny. Before crying (or implying) \\\\\"double-standard\\\\\" in matters of nudity, the mentally obtuse should take into account one unavoidably obvious anatomical difference between men and women: there are no genitals on display when actresses appears nude, and the same cannot be said for a man. In fact, you generally won\\'t see female genitals in an American film in anything short of porn or explicit erotica. This alleged double-standard is less a double standard than an admittedly depressing ability to come to terms culturally with the insides of women\\'s bodies.\"', metadata={'label': 0}),\n",
              " Document(page_content='\"If only to avoid making this type of film in the future. This film is interesting as an experiment but tells no cogent story.<br /><br />One might feel virtuous for sitting thru it because it touches on so many IMPORTANT issues but it does so without any discernable motive. The viewer comes away with no new perspectives (unless one comes up with one while one\\'s mind wanders, as it will invariably do during this pointless film).<br /><br />One might better spend one\\'s time staring out a window at a tree growing.<br /><br />\"', metadata={'label': 0})]"
            ]
          },
          "metadata": {},
          "execution_count": 30
        }
      ]
    },
    {
      "cell_type": "markdown",
      "source": [
        "HuggingFaceDatasetLoader를 사용하여 Hugging Face 데이터셋을 로드하고, VectorstoreIndexCreator를 통해 벡터 저장소 기반의 인덱스를 생성하는 코드입니다.\n",
        "\n",
        "- HuggingFaceDatasetLoader를 사용하여 Hugging Face 데이터셋을 로드합니다.\n",
        "- 로드된 데이터셋을 VectorstoreIndexCreator에 전달하여 벡터 저장소 기반의 인덱스를 생성합니다.\n",
        "- 생성된 인덱스를 활용하여 데이터셋에 대한 검색 및 질의 응답을 수행할 수 있습니다."
      ],
      "metadata": {
        "id": "0lOF0oQLpuo8"
      }
    },
    {
      "cell_type": "code",
      "source": [
        "from langchain.indexes import VectorstoreIndexCreator\n",
        "from langchain_community.document_loaders.hugging_face_dataset import (\n",
        "    HuggingFaceDatasetLoader,\n",
        ")\n",
        "\n",
        "\n",
        "dataset_name = \"tweet_eval\"  # 데이터셋 이름을 \"tweet_eval\"로 설정합니다.\n",
        "page_content_column = \"text\"  # 페이지 내용이 포함된 열의 이름을 \"text\"로 설정합니다.\n",
        "name = \"stance_climate\"  # 데이터셋의 특정 부분을 식별하는 이름을 \"stance_climate\"로 설정합니다.\n",
        "\n",
        "# HuggingFaceDatasetLoader를 사용하여 데이터셋을 로드합니다.\n",
        "loader = HuggingFaceDatasetLoader(dataset_name, page_content_column, name)\n"
      ],
      "metadata": {
        "id": "ZPTo_gsFpzv8"
      },
      "execution_count": 32,
      "outputs": []
    },
    {
      "cell_type": "markdown",
      "source": [
        "VectorstoreIndexCreator 클래스를 사용하여 로더(loader)에서 벡터 저장소 인덱스를 생성합니다.\n",
        "\n",
        "- VectorstoreIndexCreator 클래스의 인스턴스를 생성합니다.\n",
        "- from_loaders 메서드를 호출하여 로더 리스트를 전달합니다.\n",
        "- 로더에서 추출된 데이터를 기반으로 벡터 저장소 인덱스가 생성됩니다.\n",
        "- 생성된 인덱스는 index 변수에 할당됩니다."
      ],
      "metadata": {
        "id": "jDlSZZG9p8wt"
      }
    },
    {
      "cell_type": "code",
      "source": [
        "# 로더에서 벡터 저장소 인덱스를 생성합니다.\n",
        "index = VectorstoreIndexCreator().from_loaders([loader])\n",
        "\n",
        "query = \"What are the most used hashtag?\"  # 가장 많이 사용되는 해시태그는 무엇인가요?\n",
        "result = index.query(query)  # 질의를 수행하여 결과를 얻습니다."
      ],
      "metadata": {
        "colab": {
          "base_uri": "https://localhost:8080/",
          "height": 410
        },
        "id": "h25LEUVXqAA1",
        "outputId": "fd1443a3-7502-463b-d43c-d334ad725174"
      },
      "execution_count": 34,
      "outputs": [
        {
          "output_type": "error",
          "ename": "ValidationError",
          "evalue": "1 validation error for OpenAIEmbeddings\n__root__\n  Did not find openai_api_key, please add an environment variable `OPENAI_API_KEY` which contains it, or pass `openai_api_key` as a named parameter. (type=value_error)",
          "traceback": [
            "\u001b[0;31m---------------------------------------------------------------------------\u001b[0m",
            "\u001b[0;31mValidationError\u001b[0m                           Traceback (most recent call last)",
            "\u001b[0;32m<ipython-input-34-e9c583312c45>\u001b[0m in \u001b[0;36m<cell line: 2>\u001b[0;34m()\u001b[0m\n\u001b[1;32m      1\u001b[0m \u001b[0;31m# 로더에서 벡터 저장소 인덱스를 생성합니다.\u001b[0m\u001b[0;34m\u001b[0m\u001b[0;34m\u001b[0m\u001b[0m\n\u001b[0;32m----> 2\u001b[0;31m \u001b[0mindex\u001b[0m \u001b[0;34m=\u001b[0m \u001b[0mVectorstoreIndexCreator\u001b[0m\u001b[0;34m(\u001b[0m\u001b[0;34m)\u001b[0m\u001b[0;34m.\u001b[0m\u001b[0mfrom_loaders\u001b[0m\u001b[0;34m(\u001b[0m\u001b[0;34m[\u001b[0m\u001b[0mloader\u001b[0m\u001b[0;34m]\u001b[0m\u001b[0;34m)\u001b[0m\u001b[0;34m\u001b[0m\u001b[0;34m\u001b[0m\u001b[0m\n\u001b[0m\u001b[1;32m      3\u001b[0m \u001b[0;34m\u001b[0m\u001b[0m\n\u001b[1;32m      4\u001b[0m \u001b[0mquery\u001b[0m \u001b[0;34m=\u001b[0m \u001b[0;34m\"What are the most used hashtag?\"\u001b[0m  \u001b[0;31m# 가장 많이 사용되는 해시태그는 무엇인가요?\u001b[0m\u001b[0;34m\u001b[0m\u001b[0;34m\u001b[0m\u001b[0m\n\u001b[1;32m      5\u001b[0m \u001b[0mresult\u001b[0m \u001b[0;34m=\u001b[0m \u001b[0mindex\u001b[0m\u001b[0;34m.\u001b[0m\u001b[0mquery\u001b[0m\u001b[0;34m(\u001b[0m\u001b[0mquery\u001b[0m\u001b[0;34m)\u001b[0m  \u001b[0;31m# 질의를 수행하여 결과를 얻습니다.\u001b[0m\u001b[0;34m\u001b[0m\u001b[0;34m\u001b[0m\u001b[0m\n",
            "\u001b[0;32m/usr/local/lib/python3.10/dist-packages/pydantic/v1/main.py\u001b[0m in \u001b[0;36m__init__\u001b[0;34m(__pydantic_self__, **data)\u001b[0m\n\u001b[1;32m    337\u001b[0m         \"\"\"\n\u001b[1;32m    338\u001b[0m         \u001b[0;31m# Uses something other than `self` the first arg to allow \"self\" as a settable attribute\u001b[0m\u001b[0;34m\u001b[0m\u001b[0;34m\u001b[0m\u001b[0m\n\u001b[0;32m--> 339\u001b[0;31m         \u001b[0mvalues\u001b[0m\u001b[0;34m,\u001b[0m \u001b[0mfields_set\u001b[0m\u001b[0;34m,\u001b[0m \u001b[0mvalidation_error\u001b[0m \u001b[0;34m=\u001b[0m \u001b[0mvalidate_model\u001b[0m\u001b[0;34m(\u001b[0m\u001b[0m__pydantic_self__\u001b[0m\u001b[0;34m.\u001b[0m\u001b[0m__class__\u001b[0m\u001b[0;34m,\u001b[0m \u001b[0mdata\u001b[0m\u001b[0;34m)\u001b[0m\u001b[0;34m\u001b[0m\u001b[0;34m\u001b[0m\u001b[0m\n\u001b[0m\u001b[1;32m    340\u001b[0m         \u001b[0;32mif\u001b[0m \u001b[0mvalidation_error\u001b[0m\u001b[0;34m:\u001b[0m\u001b[0;34m\u001b[0m\u001b[0;34m\u001b[0m\u001b[0m\n\u001b[1;32m    341\u001b[0m             \u001b[0;32mraise\u001b[0m \u001b[0mvalidation_error\u001b[0m\u001b[0;34m\u001b[0m\u001b[0;34m\u001b[0m\u001b[0m\n",
            "\u001b[0;32m/usr/local/lib/python3.10/dist-packages/pydantic/v1/main.py\u001b[0m in \u001b[0;36mvalidate_model\u001b[0;34m(model, input_data, cls)\u001b[0m\n\u001b[1;32m   1062\u001b[0m                 \u001b[0;32mcontinue\u001b[0m\u001b[0;34m\u001b[0m\u001b[0;34m\u001b[0m\u001b[0m\n\u001b[1;32m   1063\u001b[0m \u001b[0;34m\u001b[0m\u001b[0m\n\u001b[0;32m-> 1064\u001b[0;31m             \u001b[0mvalue\u001b[0m \u001b[0;34m=\u001b[0m \u001b[0mfield\u001b[0m\u001b[0;34m.\u001b[0m\u001b[0mget_default\u001b[0m\u001b[0;34m(\u001b[0m\u001b[0;34m)\u001b[0m\u001b[0;34m\u001b[0m\u001b[0;34m\u001b[0m\u001b[0m\n\u001b[0m\u001b[1;32m   1065\u001b[0m \u001b[0;34m\u001b[0m\u001b[0m\n\u001b[1;32m   1066\u001b[0m             \u001b[0;32mif\u001b[0m \u001b[0;32mnot\u001b[0m \u001b[0mconfig\u001b[0m\u001b[0;34m.\u001b[0m\u001b[0mvalidate_all\u001b[0m \u001b[0;32mand\u001b[0m \u001b[0;32mnot\u001b[0m \u001b[0mfield\u001b[0m\u001b[0;34m.\u001b[0m\u001b[0mvalidate_always\u001b[0m\u001b[0;34m:\u001b[0m\u001b[0;34m\u001b[0m\u001b[0;34m\u001b[0m\u001b[0m\n",
            "\u001b[0;32m/usr/local/lib/python3.10/dist-packages/pydantic/v1/fields.py\u001b[0m in \u001b[0;36mget_default\u001b[0;34m(self)\u001b[0m\n\u001b[1;32m    435\u001b[0m \u001b[0;34m\u001b[0m\u001b[0m\n\u001b[1;32m    436\u001b[0m     \u001b[0;32mdef\u001b[0m \u001b[0mget_default\u001b[0m\u001b[0;34m(\u001b[0m\u001b[0mself\u001b[0m\u001b[0;34m)\u001b[0m \u001b[0;34m->\u001b[0m \u001b[0mAny\u001b[0m\u001b[0;34m:\u001b[0m\u001b[0;34m\u001b[0m\u001b[0;34m\u001b[0m\u001b[0m\n\u001b[0;32m--> 437\u001b[0;31m         \u001b[0;32mreturn\u001b[0m \u001b[0msmart_deepcopy\u001b[0m\u001b[0;34m(\u001b[0m\u001b[0mself\u001b[0m\u001b[0;34m.\u001b[0m\u001b[0mdefault\u001b[0m\u001b[0;34m)\u001b[0m \u001b[0;32mif\u001b[0m \u001b[0mself\u001b[0m\u001b[0;34m.\u001b[0m\u001b[0mdefault_factory\u001b[0m \u001b[0;32mis\u001b[0m \u001b[0;32mNone\u001b[0m \u001b[0;32melse\u001b[0m \u001b[0mself\u001b[0m\u001b[0;34m.\u001b[0m\u001b[0mdefault_factory\u001b[0m\u001b[0;34m(\u001b[0m\u001b[0;34m)\u001b[0m\u001b[0;34m\u001b[0m\u001b[0;34m\u001b[0m\u001b[0m\n\u001b[0m\u001b[1;32m    438\u001b[0m \u001b[0;34m\u001b[0m\u001b[0m\n\u001b[1;32m    439\u001b[0m     \u001b[0;34m@\u001b[0m\u001b[0mstaticmethod\u001b[0m\u001b[0;34m\u001b[0m\u001b[0;34m\u001b[0m\u001b[0m\n",
            "\u001b[0;32m/usr/local/lib/python3.10/dist-packages/langchain_core/_api/deprecation.py\u001b[0m in \u001b[0;36mwarn_if_direct_instance\u001b[0;34m(self, *args, **kwargs)\u001b[0m\n\u001b[1;32m    181\u001b[0m                         \u001b[0mwarned\u001b[0m \u001b[0;34m=\u001b[0m \u001b[0;32mTrue\u001b[0m\u001b[0;34m\u001b[0m\u001b[0;34m\u001b[0m\u001b[0m\n\u001b[1;32m    182\u001b[0m                         \u001b[0memit_warning\u001b[0m\u001b[0;34m(\u001b[0m\u001b[0;34m)\u001b[0m\u001b[0;34m\u001b[0m\u001b[0;34m\u001b[0m\u001b[0m\n\u001b[0;32m--> 183\u001b[0;31m                     \u001b[0;32mreturn\u001b[0m \u001b[0mwrapped\u001b[0m\u001b[0;34m(\u001b[0m\u001b[0mself\u001b[0m\u001b[0;34m,\u001b[0m \u001b[0;34m*\u001b[0m\u001b[0margs\u001b[0m\u001b[0;34m,\u001b[0m \u001b[0;34m**\u001b[0m\u001b[0mkwargs\u001b[0m\u001b[0;34m)\u001b[0m\u001b[0;34m\u001b[0m\u001b[0;34m\u001b[0m\u001b[0m\n\u001b[0m\u001b[1;32m    184\u001b[0m \u001b[0;34m\u001b[0m\u001b[0m\n\u001b[1;32m    185\u001b[0m                 obj.__init__ = functools.wraps(obj.__init__)(  # type: ignore[misc]\n",
            "\u001b[0;32m/usr/local/lib/python3.10/dist-packages/pydantic/v1/main.py\u001b[0m in \u001b[0;36m__init__\u001b[0;34m(__pydantic_self__, **data)\u001b[0m\n\u001b[1;32m    339\u001b[0m         \u001b[0mvalues\u001b[0m\u001b[0;34m,\u001b[0m \u001b[0mfields_set\u001b[0m\u001b[0;34m,\u001b[0m \u001b[0mvalidation_error\u001b[0m \u001b[0;34m=\u001b[0m \u001b[0mvalidate_model\u001b[0m\u001b[0;34m(\u001b[0m\u001b[0m__pydantic_self__\u001b[0m\u001b[0;34m.\u001b[0m\u001b[0m__class__\u001b[0m\u001b[0;34m,\u001b[0m \u001b[0mdata\u001b[0m\u001b[0;34m)\u001b[0m\u001b[0;34m\u001b[0m\u001b[0;34m\u001b[0m\u001b[0m\n\u001b[1;32m    340\u001b[0m         \u001b[0;32mif\u001b[0m \u001b[0mvalidation_error\u001b[0m\u001b[0;34m:\u001b[0m\u001b[0;34m\u001b[0m\u001b[0;34m\u001b[0m\u001b[0m\n\u001b[0;32m--> 341\u001b[0;31m             \u001b[0;32mraise\u001b[0m \u001b[0mvalidation_error\u001b[0m\u001b[0;34m\u001b[0m\u001b[0;34m\u001b[0m\u001b[0m\n\u001b[0m\u001b[1;32m    342\u001b[0m         \u001b[0;32mtry\u001b[0m\u001b[0;34m:\u001b[0m\u001b[0;34m\u001b[0m\u001b[0;34m\u001b[0m\u001b[0m\n\u001b[1;32m    343\u001b[0m             \u001b[0mobject_setattr\u001b[0m\u001b[0;34m(\u001b[0m\u001b[0m__pydantic_self__\u001b[0m\u001b[0;34m,\u001b[0m \u001b[0;34m'__dict__'\u001b[0m\u001b[0;34m,\u001b[0m \u001b[0mvalues\u001b[0m\u001b[0;34m)\u001b[0m\u001b[0;34m\u001b[0m\u001b[0;34m\u001b[0m\u001b[0m\n",
            "\u001b[0;31mValidationError\u001b[0m: 1 validation error for OpenAIEmbeddings\n__root__\n  Did not find openai_api_key, please add an environment variable `OPENAI_API_KEY` which contains it, or pass `openai_api_key` as a named parameter. (type=value_error)"
          ]
        }
      ]
    },
    {
      "cell_type": "markdown",
      "source": [
        "# 논문(arxiv)"
      ],
      "metadata": {
        "id": "4FBo6XfoqRmd"
      }
    },
    {
      "cell_type": "markdown",
      "source": [
        "Arxiv는 물리학, 수학, 컴퓨터 과학, 정량 생물학, 정량 금융, 통계학, 전기 공학 및 시스템 과학, 경제학 분야의 200만 편의 학술 논문을 위한 오픈 액세스 아카이브입니다.\n",
        "\n",
        "arxiv.org 사이트에서 다운로드한 PDF 파일을 텍스트 형식으로 변환하는 PyMuPDF 파이썬 패키지를 설치해야 합니다."
      ],
      "metadata": {
        "id": "TZqKF9dlqT3s"
      }
    },
    {
      "cell_type": "code",
      "source": [
        "!pip install -q arxiv pymupdf\n",
        "\n",
        "from langchain_community.document_loaders import ArxivLoader\n",
        "\n",
        "# ArxivLoader를 사용하여 arXiv에서 문서를 로드합니다. query 매개변수는 검색할 논문의 arXiv ID이고, load_max_docs 매개변수는 로드할 최대 문서 수를 지정합니다.\n",
        "docs = ArxivLoader(query=\"1605.08386\", load_max_docs=2).load()\n",
        "len(docs)  # 로드된 문서의 개수를 반환합니다.\n",
        "\n",
        "docs[0].metadata  # 문서의 메타 정보\n",
        "\n",
        "docs[0].page_content[:400]  # 문서의 모든 페이지 내용 중 처음 400자를 가져옵니다.\n",
        "\n",
        "len(docs[0].page_content)  # 문서의 페이지 수를 반환합니다."
      ],
      "metadata": {
        "colab": {
          "base_uri": "https://localhost:8080/"
        },
        "id": "Z2b6i2BAqVAd",
        "outputId": "ae8a3802-a51c-4130-b7d1-d7363d5450e0"
      },
      "execution_count": 36,
      "outputs": [
        {
          "output_type": "execute_result",
          "data": {
            "text/plain": [
              "53711"
            ]
          },
          "metadata": {},
          "execution_count": 36
        }
      ]
    }
  ]
}